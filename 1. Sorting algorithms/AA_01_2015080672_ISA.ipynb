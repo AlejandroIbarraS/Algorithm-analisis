{
 "cells": [
  {
   "cell_type": "markdown",
   "metadata": {},
   "source": [
    "<img src=\"header_escom26.jpg\" alt=\"header\" style=\"height:200px;\">\n",
    "\n",
    "# Práctica 1: Divide y vencerás </br>\n",
    "# Ibarra Soto Alejandro\n",
    "# 2015080672\n",
    "\n",
    "**Análisis de Algoritmos** </br>\n",
    "**Profesor: Dr. Flavio Arturo Sánchez Garfias** </br>\n",
    "**3CM2**"
   ]
  },
  {
   "cell_type": "markdown",
   "metadata": {},
   "source": [
    "# BUBBLE SORT\n",
    "Es un sencillo algoritmo de ordenamiento. Funciona revisando cada elemento de la lista que va a ser ordenada con el siguiente, intercambiándolos de posición si están en el orden equivocado. Es necesario revisar varias veces toda la lista hasta que no se necesiten más intercambios, lo cual significa que la lista está ordenada. Este algoritmo obtiene su nombre de la forma con la que suben por la lista los elementos durante los intercambios, como si fueran pequeñas burbujas. También es conocido como el método del intercambio directo. Dado que solo usa comparaciones para operar elementos, se lo considera un algoritmo de comparación, siendo el más sencillo de implementar. </br>\n",
    "<img src=\"burbuja.jpg\" alt=\"header\" style=\"display: block; margin: auto;\">\n",
    "El análisis para el algoritmo es:\n",
    "<ul>\n",
    "<li><b>Estabilidad:</b> Este algoritmo nunca intercambia registros con claves iguales. Por lo tanto es estable.</li>\n",
    "<li><b>Requerimientos de Memoria:</b> Este algoritmo sólo requiere de una variable adicional para realizar los intercambios.</li>\n",
    "<li><b>Tiempo de Ejecución:</b> El ciclo interno se ejecuta n veces para una lista de n elementos. El ciclo externo también se ejecuta n veces. Es decir, la complejidad es <b>n * n = O(n^2)</b>. El comportamiento del caso promedio depende del orden de entrada de los datos, pero es sólo un poco mejor que el del peor caso, y sigue siendo O(n^2). </li>\n",
    "</ul>\n",
    "<b>Ventajas:</b></br>\n",
    "Fácil implementación.</br>\n",
    "No requiere memoria adicional.</br>\n",
    "<b>Desventajas:</b></br>\n",
    "Muy lento.</br>\n",
    "Realiza numerosas comparaciones.</br>\n",
    "Realiza numerosos intercambios.</br>\n",
    "\n",
    "# MERGE SORT\n",
    "Este algoritmo consiste básicamente en dividir en partes iguales la lista de números y luego mezclarlos comparándolos, dejándolos ordenados.\n",
    "Si se piensa en este algoritmo recursivamente, podemos imaginar que dividirá la lista hasta tener un elemento en cada lista, luego lo compara con el que está a su lado y según corresponda, lo sitúa donde corresponde.\n",
    "<img src=\"merge.png\" alt=\"header\" style=\"display: block; margin: auto;\">\n",
    "La complejidad para dividir una lista de n es O(n). Cada sublista genera en promedio dos sublistas más de largo n/2. Por lo tanto la complejidad se define en forma recurrente como:\n",
    "f(1) = 1\n",
    "f(n) = n + 2 f(n/2)\n",
    "La forma cerrada de esta expresión es:\n",
    "f(n) = n log2n\n",
    "Es decir, la complejidad es O(n log2n).\n",
    "<img src=\"complejidadMerge.png\" alt=\"header\" style=\"display: block; margin: auto;\">\n",
    "# INSERTION SORT\n",
    "La idea de este algoritmo de ordenación consiste en ir insertando un elemento de la lista o un arreglo en la parte ordenada de la misma, asumiendo que el primer elemento es la parte ordenada, el algoritmo ira comparando un elemento de la parte desordenada de la lista con los elementos de la parte ordenada, insertando el elemento en la posición correcta dentro de la parte ordenada, y así sucesivamente hasta obtener la lista ordenada. Para explicarlo mejor nos basaremos en el siguiente enunciado:\n",
    "“Para cada elemento de la lista después del primero, comparar los elementos con los anteriores desplazando una posición a la derecha a todos los elementos anteriores que cumplan con la comparación y luego colocar el elemento en la posición del último elemento anterior desplazado.”\n",
    "<img src=\"insertionsort.png\" alt=\"header\" style=\"display: block; margin: auto;\"></br>\n",
    "Para una lista de n elementos el ciclo externo se ejecuta n-1 veces. El ciclo interno se ejecuta como máximo una vez en la primera iteración, 2 veces en la segunda, 3 veces en la tercera, etc. Esto produce una complejidad O(n^2).</br></br>"
   ]
  },
  {
   "cell_type": "markdown",
   "metadata": {},
   "source": [
    "Import packages <a href=\"https://numpy.org\">Numpy</a> and <a href=\"https://matplotlib.org\">Matplotlib</a>\n"
   ]
  },
  {
   "cell_type": "code",
   "execution_count": 1,
   "metadata": {},
   "outputs": [],
   "source": [
    "import numpy as np\n",
    "import matplotlib.pyplot as plt\n",
    "%matplotlib inline"
   ]
  },
  {
   "cell_type": "markdown",
   "metadata": {},
   "source": [
    "**Definir la función Bubble Sort**"
   ]
  },
  {
   "cell_type": "code",
   "execution_count": 2,
   "metadata": {},
   "outputs": [],
   "source": [
    "def bubbleSort(arr):\n",
    "    n = len(arr);\n",
    "    for i in range(n):\n",
    "        for j in range(0,n-i-1):\n",
    "            if arr[j]>=arr[j+1]:\n",
    "                aux = arr[j]\n",
    "                arr[j] = arr[j+1]\n",
    "                arr[j+1]= aux"
   ]
  },
  {
   "cell_type": "markdown",
   "metadata": {},
   "source": [
    "**Definir la función MergeSort**"
   ]
  },
  {
   "cell_type": "code",
   "execution_count": 3,
   "metadata": {},
   "outputs": [],
   "source": [
    "def mergeSort(arr,ini,fin):\n",
    "    if ini<fin:\n",
    "        mitad = int((ini+(fin))/2)\n",
    "        #Ordenar la primera mitad del arreglo\n",
    "        mergeSort(arr,ini,mitad)\n",
    "        #Ordenar la segunda mitad del arreglo\n",
    "        mergeSort(arr,mitad+1,fin)\n",
    "        #Ordenar todo el arreglo\n",
    "        merge(arr,ini,mitad,fin)\n",
    "\n",
    "def merge(arr,ini,mitad,fin):\n",
    "    #Obtener el tamaño de los dos subarreglos\n",
    "    n1 = mitad-ini+1\n",
    "    n2 = fin-mitad \n",
    "    #Crear los dos subarreglos\n",
    "    arrInicio = [0] * (n1)\n",
    "    arrFin = [0] * (n2) \n",
    "    #Copiar los datos a los subarreglos\n",
    "    for i in range(n1): \n",
    "        arrInicio[i]=arr[ini+i]\n",
    "    for j in range(n2): \n",
    "        arrFin[j]=arr[mitad+j+1]\n",
    "    i = 0 \n",
    "    j = 0 \n",
    "    k = ini\n",
    "    #Ordenar los dos subarreglos en el arreglo inicial\n",
    "    while i < n1 and j < n2 : \n",
    "        if arrInicio[i]<=arrFin[j]: \n",
    "            arr[k] = arrInicio[i] \n",
    "            i=i+1\n",
    "        else: \n",
    "            arr[k]=arrFin[j] \n",
    "            j=j+1\n",
    "        k=k+1\n",
    "    #Copiar los elementos que sobraron en los dos subarreglos\n",
    "    while i<n1: \n",
    "        arr[k]=arrInicio[i] \n",
    "        i=i+1\n",
    "        k=k+1\n",
    "    while j<n2: \n",
    "        arr[k] = arrFin[j] \n",
    "        j=j+1\n",
    "        k=k+1"
   ]
  },
  {
   "cell_type": "markdown",
   "metadata": {},
   "source": [
    "**Definir la función InsertionSort**"
   ]
  },
  {
   "cell_type": "code",
   "execution_count": 4,
   "metadata": {},
   "outputs": [],
   "source": [
    "def insertionSort(arr):\n",
    "    for i in range(len(arr)):\n",
    "        numOrd=arr[i]\n",
    "        j=i-1\n",
    "        #Se recorre el elemento a ordenar hasta insertarlo en su lugar correspondiente\n",
    "        while j>=0 and numOrd<arr[j]:\n",
    "            arr[j+1]=arr[j]\n",
    "            j=j-1\n",
    "        arr[j+1]=numOrd "
   ]
  },
  {
   "cell_type": "markdown",
   "metadata": {},
   "source": [
    "# Pruebas \n",
    "**Antes de empezar las pruebas se muestra la tabla y la gráfica obtenidas en la computadora donde se desarrollaron los programas, remarcando que \n",
    "tanto BubbleSort como InsertionSort no terminaron para 10000000 datos, por lo que los detuve a las 8 y 5 horas, respectivamente, y esos son los datos que se\n",
    "encuentran a continuación**\n",
    "**De igual manera, para observar la gráfica generada con los tiempos de ejecución si usted corre el programa, se encuentra al finalizar toda la ejecución**"
   ]
  },
  {
   "cell_type": "code",
   "execution_count": 5,
   "metadata": {},
   "outputs": [
    {
     "name": "stdout",
     "output_type": "stream",
     "text": [
      "Método:\t\t100 datos\t1000 datos\t10000 datos\t100000 datos\t\t10000000 datos\n",
      "BubbleSort\t0.0019977093 \t0.2323758602 \t26.8629646301 \t2522.4208874702 \t28800.0000000000 \n",
      "MergeSort\t0.0009975433 \t0.0039885044 \t0.0620808601 \t0.6841700077 \t\t108.7018647194 \n",
      "InsertionSort\t0.0009973049 \t0.0738017559 \t7.8439104557 \t715.9296286106 \t\t18000.0000000000\n"
     ]
    }
   ],
   "source": [
    "timeBub = [0] * (5)\n",
    "timeMer = [0] * (5)\n",
    "timeIns = [0] * (5)\n",
    "timeBub[0]= 0.0019977093\n",
    "timeBub[1]= 0.2323758602\n",
    "timeBub[2]= 26.8629646301\n",
    "timeBub[3]= 2522.4208874702\n",
    "#Como no termino el BubbleSort para 10000000 datos, lo cancele a las 8 horas sin exito de ordenamiento\n",
    "timeBub[4]= 28800\n",
    "timeMer[0]= 0.0009975433\n",
    "timeMer[1]= 0.0039885044\n",
    "timeMer[2]= 0.0620808601\n",
    "timeMer[3]= 0.6841700077\n",
    "timeMer[4]= 108.7018647194\n",
    "timeIns[0]= 0.0009973049\n",
    "timeIns[1]= 0.0738017559\n",
    "timeIns[2]= 7.8439104557\n",
    "timeIns[3]= 715.9296286106\n",
    "#Como no termino el InsertionSort para 10000000 datos, lo cancele a las 5 horas sin exito de ordenamiento\n",
    "timeIns[4]= 18000\n",
    "print(\"Método:\\t\\t100 datos\\t1000 datos\\t10000 datos\\t100000 datos\\t\\t10000000 datos\\nBubbleSort\\t%.10f\" %timeBub[0], \"\\t%.10f\" %timeBub[1], \"\\t%.10f\" %timeBub[2], \"\\t%.10f\" %timeBub[3], \"\\t%.10f\" %timeBub[4], \"\\nMergeSort\\t%.10f\" %timeMer[0], \"\\t%.10f\" %timeMer[1], \"\\t%.10f\" %timeMer[2], \"\\t%.10f\" %timeMer[3], \"\\t\\t%.10f\" %timeMer[4], \"\\nInsertionSort\\t%.10f\" %timeIns[0], \"\\t%.10f\" %timeIns[1], \"\\t%.10f\" %timeIns[2], \"\\t%.10f\" %timeIns[3], \"\\t\\t%.10f\" %timeIns[4])"
   ]
  },
  {
   "cell_type": "code",
   "execution_count": 6,
   "metadata": {},
   "outputs": [
    {
     "data": {
      "image/png": "[encoded data removed]",
      "text/plain": [
       "<Figure size 432x288 with 1 Axes>"
      ]
     },
     "metadata": {
      "needs_background": "light"
     },
     "output_type": "display_data"
    }
   ],
   "source": [
    "plt.plot([100,1000,10000,100000,10000000],timeBub,label=\"bubbleSort\")\n",
    "plt.plot([100,1000,10000,100000,10000000],timeMer,label=\"mergeSort\")\n",
    "plt.plot([100,1000,10000,100000,10000000],timeIns,label=\"insertionSort\")\n",
    "\n",
    "plt.xlabel('n')\n",
    "plt.ylabel('time')\n",
    "\n",
    "plt.title(\"Métodos de ordenamiento\")\n",
    "\n",
    "plt.legend()\n",
    "\n",
    "plt.show()"
   ]
  },
  {
   "cell_type": "markdown",
   "metadata": {},
   "source": [
    "A continuación, se crearán arreglos de 100, 1000, 10000, 100000 y 10000000"
   ]
  },
  {
   "cell_type": "code",
   "execution_count": 7,
   "metadata": {},
   "outputs": [],
   "source": [
    "from time import time\n",
    "timeBubble = [0] * (5)\n",
    "timeMerge = [0] * (5)\n",
    "timeInsertion = [0] * (5)"
   ]
  },
  {
   "cell_type": "markdown",
   "metadata": {},
   "source": [
    "**Arreglo de 100 datos original**"
   ]
  },
  {
   "cell_type": "code",
   "execution_count": 8,
   "metadata": {},
   "outputs": [
    {
     "data": {
      "text/plain": [
       "array([95, 11, 81, 70, 63, 87, 75,  9, 77, 40,  4, 63, 40, 60, 92, 64,  5,\n",
       "       12, 93, 40, 49, 83,  8, 29, 59, 34, 44, 72, 19, 10, 76, 95, 87,  0,\n",
       "       73,  8, 62, 36, 83, 99, 28, 63,  7, 10, 52, 56, 38, 73, 52, 18, 71,\n",
       "       15, 44,  0, 12, 17, 75, 79, 97, 93, 24, 36, 63, 19, 35, 30, 10, 60,\n",
       "       20, 27,  8, 86, 26, 87, 46, 47, 54, 86,  9, 45,  2, 18, 58, 92, 11,\n",
       "       10, 94, 35, 28,  3, 83, 84, 47, 14, 69, 60, 69, 51,  6, 88])"
      ]
     },
     "execution_count": 8,
     "metadata": {},
     "output_type": "execute_result"
    }
   ],
   "source": [
    "np.random.seed(101) #THE SEED\n",
    "arr = np.random.randint(0,100,100)\n",
    "arr"
   ]
  },
  {
   "cell_type": "markdown",
   "metadata": {},
   "source": [
    "**Con BubbleSort**"
   ]
  },
  {
   "cell_type": "code",
   "execution_count": 9,
   "metadata": {},
   "outputs": [
    {
     "data": {
      "text/plain": [
       "array([ 0,  0,  2,  3,  4,  5,  6,  7,  8,  8,  8,  9,  9, 10, 10, 10, 10,\n",
       "       11, 11, 12, 12, 14, 15, 17, 18, 18, 19, 19, 20, 24, 26, 27, 28, 28,\n",
       "       29, 30, 34, 35, 35, 36, 36, 38, 40, 40, 40, 44, 44, 45, 46, 47, 47,\n",
       "       49, 51, 52, 52, 54, 56, 58, 59, 60, 60, 60, 62, 63, 63, 63, 63, 64,\n",
       "       69, 69, 70, 71, 72, 73, 73, 75, 75, 76, 77, 79, 81, 83, 83, 83, 84,\n",
       "       86, 86, 87, 87, 87, 88, 92, 92, 93, 93, 94, 95, 95, 97, 99])"
      ]
     },
     "execution_count": 9,
     "metadata": {},
     "output_type": "execute_result"
    }
   ],
   "source": [
    "start_time = time()\n",
    "bubbleSort(arr)\n",
    "elapsed_time = time() - start_time\n",
    "timeBubble[0]=elapsed_time\n",
    "arr"
   ]
  },
  {
   "cell_type": "markdown",
   "metadata": {},
   "source": [
    "**Con MergeSort**"
   ]
  },
  {
   "cell_type": "code",
   "execution_count": 10,
   "metadata": {},
   "outputs": [
    {
     "data": {
      "text/plain": [
       "array([ 0,  0,  2,  3,  4,  5,  6,  7,  8,  8,  8,  9,  9, 10, 10, 10, 10,\n",
       "       11, 11, 12, 12, 14, 15, 17, 18, 18, 19, 19, 20, 24, 26, 27, 28, 28,\n",
       "       29, 30, 34, 35, 35, 36, 36, 38, 40, 40, 40, 44, 44, 45, 46, 47, 47,\n",
       "       49, 51, 52, 52, 54, 56, 58, 59, 60, 60, 60, 62, 63, 63, 63, 63, 64,\n",
       "       69, 69, 70, 71, 72, 73, 73, 75, 75, 76, 77, 79, 81, 83, 83, 83, 84,\n",
       "       86, 86, 87, 87, 87, 88, 92, 92, 93, 93, 94, 95, 95, 97, 99])"
      ]
     },
     "execution_count": 10,
     "metadata": {},
     "output_type": "execute_result"
    }
   ],
   "source": [
    "np.random.seed(101) #THE SEED\n",
    "arr = np.random.randint(0,100,100)\n",
    "start_time = time()\n",
    "mergeSort(arr,0,len(arr)-1)\n",
    "elapsed_time = time() - start_time\n",
    "timeMerge[0]=elapsed_time\n",
    "arr"
   ]
  },
  {
   "cell_type": "markdown",
   "metadata": {},
   "source": [
    "**Con InsertionSort**"
   ]
  },
  {
   "cell_type": "code",
   "execution_count": 11,
   "metadata": {},
   "outputs": [
    {
     "data": {
      "text/plain": [
       "array([ 0,  0,  2,  3,  4,  5,  6,  7,  8,  8,  8,  9,  9, 10, 10, 10, 10,\n",
       "       11, 11, 12, 12, 14, 15, 17, 18, 18, 19, 19, 20, 24, 26, 27, 28, 28,\n",
       "       29, 30, 34, 35, 35, 36, 36, 38, 40, 40, 40, 44, 44, 45, 46, 47, 47,\n",
       "       49, 51, 52, 52, 54, 56, 58, 59, 60, 60, 60, 62, 63, 63, 63, 63, 64,\n",
       "       69, 69, 70, 71, 72, 73, 73, 75, 75, 76, 77, 79, 81, 83, 83, 83, 84,\n",
       "       86, 86, 87, 87, 87, 88, 92, 92, 93, 93, 94, 95, 95, 97, 99])"
      ]
     },
     "execution_count": 11,
     "metadata": {},
     "output_type": "execute_result"
    }
   ],
   "source": [
    "np.random.seed(101) #THE SEED\n",
    "arr = np.random.randint(0,100,100)\n",
    "start_time = time()\n",
    "insertionSort(arr)\n",
    "elapsed_time = time() - start_time\n",
    "timeInsertion[0]=elapsed_time\n",
    "arr"
   ]
  },
  {
   "cell_type": "markdown",
   "metadata": {},
   "source": [
    "**Arreglo de 1000 datos original**"
   ]
  },
  {
   "cell_type": "code",
   "execution_count": 12,
   "metadata": {},
   "outputs": [
    {
     "data": {
      "text/plain": [
       "array([95, 11, 81, 70, 63, 87, 75,  9, 77, 40,  4, 63, 40, 60, 92, 64,  5,\n",
       "       12, 93, 40, 49, 83,  8, 29, 59, 34, 44, 72, 19, 10, 76, 95, 87,  0,\n",
       "       73,  8, 62, 36, 83, 99, 28, 63,  7, 10, 52, 56, 38, 73, 52, 18, 71,\n",
       "       15, 44,  0, 12, 17, 75, 79, 97, 93, 24, 36, 63, 19, 35, 30, 10, 60,\n",
       "       20, 27,  8, 86, 26, 87, 46, 47, 54, 86,  9, 45,  2, 18, 58, 92, 11,\n",
       "       10, 94, 35, 28,  3, 83, 84, 47, 14, 69, 60, 69, 51,  6, 88, 71, 68,\n",
       "       23, 35, 79, 98, 67, 82, 57, 77, 46,  3, 46, 29, 86, 21, 21, 81, 23,\n",
       "       94, 71, 20, 27, 75,  5, 49, 86, 89, 63, 82, 77,  3, 56, 14, 49, 87,\n",
       "       52, 13, 47, 49, 24, 20, 64, 52, 60, 47, 29, 60, 53, 11, 40, 91, 45,\n",
       "       97, 24, 36, 38,  9, 52, 67, 43,  1, 79, 68, 68, 61, 18, 51, 14, 28,\n",
       "       17, 87, 46, 52, 16, 70, 71, 84, 10, 62, 96, 57, 23, 86, 85, 26, 76,\n",
       "       66, 54, 17, 65, 57, 89,  2, 80, 50, 66, 88, 79, 93,  6, 92, 42, 22,\n",
       "       20, 25, 97, 54, 71, 72, 80, 93, 64, 63, 80, 38, 45, 35, 25, 95, 75,\n",
       "       72, 11, 76, 79, 50, 22, 59, 66,  1, 34, 37, 57, 35, 42, 44, 49, 31,\n",
       "       79, 85,  3, 55, 73, 93, 94, 99, 40, 54, 88, 94, 86, 17, 68, 17, 18,\n",
       "       60, 83, 82,  7, 67, 34, 76, 94, 20, 69, 73, 59, 34, 69, 25, 78, 92,\n",
       "       74, 75, 33,  9, 43, 20, 82, 30,  3, 46, 29, 47, 27, 81, 71, 25, 94,\n",
       "       57, 21, 29,  6, 54, 47, 47, 60,  6, 75, 97, 53, 44, 98, 39, 32, 87,\n",
       "       78, 21, 90, 14, 20,  1, 70, 25, 45, 96, 32, 31, 41, 79, 87, 22, 94,\n",
       "       46, 71, 24, 41, 36, 31, 16, 87, 22, 96,  3, 12, 71,  9, 87, 95, 39,\n",
       "       64, 62, 88, 76, 93, 83, 95, 68, 69, 59, 52,  7, 40, 73, 86, 14, 49,\n",
       "       97, 25, 57, 40, 17, 32, 83, 97, 27, 47, 13, 70, 15, 92, 18, 94, 48,\n",
       "       65, 82, 34,  5, 46, 83, 27, 26, 20, 87, 84, 17, 59, 64, 44,  4, 51,\n",
       "       49, 74, 82, 37, 53, 93, 73,  5, 37, 56, 35, 15, 40, 42, 71, 37, 46,\n",
       "       71, 91, 97, 36, 43, 27, 66, 57,  3, 55, 70, 41, 67, 72, 88, 67, 75,\n",
       "       69, 92, 20, 15, 57,  9, 69, 97, 91, 51, 54, 45, 38, 15, 42, 61,  8,\n",
       "        3, 88, 72, 41, 24, 93, 28, 95, 43, 48, 69, 42, 66, 82, 66, 88, 78,\n",
       "       14, 53, 46, 14, 27, 68, 21, 38, 42, 30, 88, 79, 56, 65, 93, 37, 87,\n",
       "       66, 16, 60, 25, 99, 30, 41, 72, 45, 26, 87, 65, 60, 89, 70, 33, 59,\n",
       "       28, 16, 49, 95, 41, 11, 86, 15, 95, 91, 19, 69,  1, 77, 63, 87, 28,\n",
       "       70,  5,  3, 12, 62, 26, 96, 61, 87, 74, 99, 97, 64, 95,  3, 88, 59,\n",
       "       38, 29, 31, 88, 57,  9, 62, 31, 13, 35, 47,  2, 17, 50, 22, 30, 36,\n",
       "       22, 97, 51, 38, 28,  4,  0, 12, 90,  2,  7, 44, 54, 49, 76, 98,  3,\n",
       "       32, 91, 43,  7, 42, 66,  9,  5, 26, 66, 22, 47, 27, 46, 14, 52, 74,\n",
       "       54,  3, 94, 36, 63, 41, 18, 37, 45, 82, 47, 66, 97, 20,  9, 87, 40,\n",
       "       13, 95, 16, 38, 87, 72, 60, 78, 53, 48, 83, 90, 41, 84, 78, 55, 70,\n",
       "       93, 57, 86, 67,  8, 47, 70, 39, 53,  5, 40, 88, 58, 12, 70,  5, 82,\n",
       "        8, 60, 58, 45, 92, 85, 44, 62, 39, 38, 54, 98, 80, 93, 16, 37, 58,\n",
       "       40, 72, 72, 22, 42, 38, 45, 16, 52, 17, 22, 15, 18, 37, 48,  2,  2,\n",
       "       31, 50, 78, 70, 40, 60, 62, 69, 34, 95, 58,  4, 70, 20, 18, 66, 23,\n",
       "       87, 45, 64,  6, 39, 29, 60, 33, 18, 59, 64, 59, 65, 10, 86, 66, 38,\n",
       "       76, 97, 79,  7, 65, 50, 53,  4, 39,  1,  5, 67, 92, 50, 59,  2, 91,\n",
       "       14, 12, 68, 87, 13, 18,  4, 89, 22, 40,  7,  2, 83, 19, 68, 89, 16,\n",
       "        1,  2, 73, 65, 24, 84, 17, 21, 97, 44, 36, 38, 93, 32,  5, 76, 19,\n",
       "       33, 76, 41, 21, 20, 54, 77, 62, 99,  4, 52, 83, 55, 11, 46, 39, 92,\n",
       "       34, 54, 49, 11, 62, 11, 83, 25, 32, 40, 27, 30, 92, 59, 86, 74, 17,\n",
       "       69, 85,  4,  5, 49, 29, 41, 38, 22, 45, 10, 65, 77, 72, 90, 80, 64,\n",
       "       81, 20,  2, 20, 53, 38, 94, 49, 26, 88, 21, 38, 52, 74, 96, 19, 77,\n",
       "        5, 70, 27, 92,  6, 97, 71, 23, 90, 78, 85, 61, 79, 54, 56, 64, 41,\n",
       "       61, 56,  2, 86, 19, 77,  5, 44, 15, 75, 70, 12, 13, 93, 21, 46, 28,\n",
       "       20, 70, 14, 56, 19, 79, 59, 33, 33, 11, 44, 43, 93,  3, 39, 77,  3,\n",
       "       58, 51, 32, 46,  8,  9, 13, 63, 59, 79,  5, 33, 47, 29, 79, 62, 25,\n",
       "       43, 46, 94, 68, 55, 69, 41, 41, 14, 47,  3, 64, 23, 80, 42, 84, 88,\n",
       "       89, 10, 78, 97, 65,  8, 14, 28, 80, 17, 62, 27, 33, 14, 21, 25, 96,\n",
       "       64, 84,  6, 76, 95, 43, 94, 40, 68, 45, 24, 50, 36, 62, 52,  9, 79,\n",
       "       74, 30, 70, 90, 58, 97, 57, 60, 64, 86, 93, 31, 22, 90,  3, 52,  9,\n",
       "       93, 60, 42,  1, 15, 38, 65, 10, 86, 63, 98, 11, 96, 67, 95, 94, 80,\n",
       "       16, 30, 89, 62, 62, 42, 10, 48, 86, 33, 52, 24, 94, 78, 71, 19, 75,\n",
       "       81, 71, 23, 93, 58, 48, 76, 63, 58, 28, 84, 47, 40, 63])"
      ]
     },
     "execution_count": 12,
     "metadata": {},
     "output_type": "execute_result"
    }
   ],
   "source": [
    "np.random.seed(101) #THE SEED\n",
    "arr = np.random.randint(0,100,1000)\n",
    "arr"
   ]
  },
  {
   "cell_type": "markdown",
   "metadata": {},
   "source": [
    "**Con BubbleSort**"
   ]
  },
  {
   "cell_type": "code",
   "execution_count": 13,
   "metadata": {},
   "outputs": [
    {
     "data": {
      "text/plain": [
       "array([ 0,  0,  0,  1,  1,  1,  1,  1,  1,  1,  2,  2,  2,  2,  2,  2,  2,\n",
       "        2,  2,  2,  2,  3,  3,  3,  3,  3,  3,  3,  3,  3,  3,  3,  3,  3,\n",
       "        3,  3,  3,  4,  4,  4,  4,  4,  4,  4,  4,  5,  5,  5,  5,  5,  5,\n",
       "        5,  5,  5,  5,  5,  5,  5,  5,  6,  6,  6,  6,  6,  6,  6,  7,  7,\n",
       "        7,  7,  7,  7,  7,  8,  8,  8,  8,  8,  8,  8,  8,  9,  9,  9,  9,\n",
       "        9,  9,  9,  9,  9,  9,  9,  9, 10, 10, 10, 10, 10, 10, 10, 10, 10,\n",
       "       10, 11, 11, 11, 11, 11, 11, 11, 11, 11, 11, 12, 12, 12, 12, 12, 12,\n",
       "       12, 12, 13, 13, 13, 13, 13, 13, 13, 14, 14, 14, 14, 14, 14, 14, 14,\n",
       "       14, 14, 14, 14, 14, 15, 15, 15, 15, 15, 15, 15, 15, 15, 16, 16, 16,\n",
       "       16, 16, 16, 16, 16, 16, 17, 17, 17, 17, 17, 17, 17, 17, 17, 17, 17,\n",
       "       17, 18, 18, 18, 18, 18, 18, 18, 18, 18, 18, 19, 19, 19, 19, 19, 19,\n",
       "       19, 19, 19, 20, 20, 20, 20, 20, 20, 20, 20, 20, 20, 20, 20, 20, 20,\n",
       "       20, 21, 21, 21, 21, 21, 21, 21, 21, 21, 21, 22, 22, 22, 22, 22, 22,\n",
       "       22, 22, 22, 22, 22, 22, 23, 23, 23, 23, 23, 23, 23, 24, 24, 24, 24,\n",
       "       24, 24, 24, 24, 25, 25, 25, 25, 25, 25, 25, 25, 25, 25, 26, 26, 26,\n",
       "       26, 26, 26, 26, 27, 27, 27, 27, 27, 27, 27, 27, 27, 27, 27, 28, 28,\n",
       "       28, 28, 28, 28, 28, 28, 28, 28, 29, 29, 29, 29, 29, 29, 29, 29, 29,\n",
       "       30, 30, 30, 30, 30, 30, 30, 30, 31, 31, 31, 31, 31, 31, 31, 32, 32,\n",
       "       32, 32, 32, 32, 32, 33, 33, 33, 33, 33, 33, 33, 33, 33, 34, 34, 34,\n",
       "       34, 34, 34, 34, 35, 35, 35, 35, 35, 35, 35, 36, 36, 36, 36, 36, 36,\n",
       "       36, 36, 36, 37, 37, 37, 37, 37, 37, 37, 37, 38, 38, 38, 38, 38, 38,\n",
       "       38, 38, 38, 38, 38, 38, 38, 38, 38, 38, 39, 39, 39, 39, 39, 39, 39,\n",
       "       39, 40, 40, 40, 40, 40, 40, 40, 40, 40, 40, 40, 40, 40, 40, 40, 40,\n",
       "       41, 41, 41, 41, 41, 41, 41, 41, 41, 41, 41, 41, 41, 42, 42, 42, 42,\n",
       "       42, 42, 42, 42, 42, 42, 42, 43, 43, 43, 43, 43, 43, 43, 43, 44, 44,\n",
       "       44, 44, 44, 44, 44, 44, 44, 44, 45, 45, 45, 45, 45, 45, 45, 45, 45,\n",
       "       45, 45, 45, 46, 46, 46, 46, 46, 46, 46, 46, 46, 46, 46, 46, 46, 46,\n",
       "       47, 47, 47, 47, 47, 47, 47, 47, 47, 47, 47, 47, 47, 47, 47, 48, 48,\n",
       "       48, 48, 48, 48, 49, 49, 49, 49, 49, 49, 49, 49, 49, 49, 49, 49, 50,\n",
       "       50, 50, 50, 50, 50, 50, 51, 51, 51, 51, 51, 51, 52, 52, 52, 52, 52,\n",
       "       52, 52, 52, 52, 52, 52, 52, 52, 52, 53, 53, 53, 53, 53, 53, 53, 53,\n",
       "       54, 54, 54, 54, 54, 54, 54, 54, 54, 54, 54, 54, 55, 55, 55, 55, 55,\n",
       "       56, 56, 56, 56, 56, 56, 56, 57, 57, 57, 57, 57, 57, 57, 57, 57, 57,\n",
       "       57, 58, 58, 58, 58, 58, 58, 58, 58, 58, 59, 59, 59, 59, 59, 59, 59,\n",
       "       59, 59, 59, 59, 59, 59, 60, 60, 60, 60, 60, 60, 60, 60, 60, 60, 60,\n",
       "       60, 60, 60, 60, 61, 61, 61, 61, 61, 62, 62, 62, 62, 62, 62, 62, 62,\n",
       "       62, 62, 62, 62, 62, 62, 63, 63, 63, 63, 63, 63, 63, 63, 63, 63, 63,\n",
       "       63, 64, 64, 64, 64, 64, 64, 64, 64, 64, 64, 64, 64, 64, 65, 65, 65,\n",
       "       65, 65, 65, 65, 65, 65, 65, 66, 66, 66, 66, 66, 66, 66, 66, 66, 66,\n",
       "       66, 66, 67, 67, 67, 67, 67, 67, 67, 67, 68, 68, 68, 68, 68, 68, 68,\n",
       "       68, 68, 68, 69, 69, 69, 69, 69, 69, 69, 69, 69, 69, 69, 69, 70, 70,\n",
       "       70, 70, 70, 70, 70, 70, 70, 70, 70, 70, 70, 70, 70, 70, 71, 71, 71,\n",
       "       71, 71, 71, 71, 71, 71, 71, 71, 71, 71, 72, 72, 72, 72, 72, 72, 72,\n",
       "       72, 72, 72, 73, 73, 73, 73, 73, 73, 73, 74, 74, 74, 74, 74, 74, 74,\n",
       "       75, 75, 75, 75, 75, 75, 75, 75, 75, 76, 76, 76, 76, 76, 76, 76, 76,\n",
       "       76, 76, 76, 77, 77, 77, 77, 77, 77, 77, 77, 77, 78, 78, 78, 78, 78,\n",
       "       78, 78, 78, 78, 79, 79, 79, 79, 79, 79, 79, 79, 79, 79, 79, 79, 79,\n",
       "       79, 80, 80, 80, 80, 80, 80, 80, 80, 81, 81, 81, 81, 81, 82, 82, 82,\n",
       "       82, 82, 82, 82, 82, 82, 83, 83, 83, 83, 83, 83, 83, 83, 83, 83, 83,\n",
       "       84, 84, 84, 84, 84, 84, 84, 84, 85, 85, 85, 85, 85, 86, 86, 86, 86,\n",
       "       86, 86, 86, 86, 86, 86, 86, 86, 86, 86, 86, 87, 87, 87, 87, 87, 87,\n",
       "       87, 87, 87, 87, 87, 87, 87, 87, 87, 87, 87, 87, 88, 88, 88, 88, 88,\n",
       "       88, 88, 88, 88, 88, 88, 88, 88, 89, 89, 89, 89, 89, 89, 89, 90, 90,\n",
       "       90, 90, 90, 90, 90, 91, 91, 91, 91, 91, 91, 92, 92, 92, 92, 92, 92,\n",
       "       92, 92, 92, 92, 92, 93, 93, 93, 93, 93, 93, 93, 93, 93, 93, 93, 93,\n",
       "       93, 93, 93, 93, 93, 94, 94, 94, 94, 94, 94, 94, 94, 94, 94, 94, 94,\n",
       "       94, 94, 95, 95, 95, 95, 95, 95, 95, 95, 95, 95, 95, 95, 95, 96, 96,\n",
       "       96, 96, 96, 96, 96, 97, 97, 97, 97, 97, 97, 97, 97, 97, 97, 97, 97,\n",
       "       97, 97, 97, 97, 98, 98, 98, 98, 98, 99, 99, 99, 99, 99])"
      ]
     },
     "execution_count": 13,
     "metadata": {},
     "output_type": "execute_result"
    }
   ],
   "source": [
    "start_time = time()\n",
    "bubbleSort(arr)\n",
    "elapsed_time = time() - start_time\n",
    "timeBubble[1]=elapsed_time\n",
    "arr"
   ]
  },
  {
   "cell_type": "markdown",
   "metadata": {},
   "source": [
    "**Con MergeSort**"
   ]
  },
  {
   "cell_type": "code",
   "execution_count": 14,
   "metadata": {},
   "outputs": [
    {
     "data": {
      "text/plain": [
       "array([ 0,  0,  0,  1,  1,  1,  1,  1,  1,  1,  2,  2,  2,  2,  2,  2,  2,\n",
       "        2,  2,  2,  2,  3,  3,  3,  3,  3,  3,  3,  3,  3,  3,  3,  3,  3,\n",
       "        3,  3,  3,  4,  4,  4,  4,  4,  4,  4,  4,  5,  5,  5,  5,  5,  5,\n",
       "        5,  5,  5,  5,  5,  5,  5,  5,  6,  6,  6,  6,  6,  6,  6,  7,  7,\n",
       "        7,  7,  7,  7,  7,  8,  8,  8,  8,  8,  8,  8,  8,  9,  9,  9,  9,\n",
       "        9,  9,  9,  9,  9,  9,  9,  9, 10, 10, 10, 10, 10, 10, 10, 10, 10,\n",
       "       10, 11, 11, 11, 11, 11, 11, 11, 11, 11, 11, 12, 12, 12, 12, 12, 12,\n",
       "       12, 12, 13, 13, 13, 13, 13, 13, 13, 14, 14, 14, 14, 14, 14, 14, 14,\n",
       "       14, 14, 14, 14, 14, 15, 15, 15, 15, 15, 15, 15, 15, 15, 16, 16, 16,\n",
       "       16, 16, 16, 16, 16, 16, 17, 17, 17, 17, 17, 17, 17, 17, 17, 17, 17,\n",
       "       17, 18, 18, 18, 18, 18, 18, 18, 18, 18, 18, 19, 19, 19, 19, 19, 19,\n",
       "       19, 19, 19, 20, 20, 20, 20, 20, 20, 20, 20, 20, 20, 20, 20, 20, 20,\n",
       "       20, 21, 21, 21, 21, 21, 21, 21, 21, 21, 21, 22, 22, 22, 22, 22, 22,\n",
       "       22, 22, 22, 22, 22, 22, 23, 23, 23, 23, 23, 23, 23, 24, 24, 24, 24,\n",
       "       24, 24, 24, 24, 25, 25, 25, 25, 25, 25, 25, 25, 25, 25, 26, 26, 26,\n",
       "       26, 26, 26, 26, 27, 27, 27, 27, 27, 27, 27, 27, 27, 27, 27, 28, 28,\n",
       "       28, 28, 28, 28, 28, 28, 28, 28, 29, 29, 29, 29, 29, 29, 29, 29, 29,\n",
       "       30, 30, 30, 30, 30, 30, 30, 30, 31, 31, 31, 31, 31, 31, 31, 32, 32,\n",
       "       32, 32, 32, 32, 32, 33, 33, 33, 33, 33, 33, 33, 33, 33, 34, 34, 34,\n",
       "       34, 34, 34, 34, 35, 35, 35, 35, 35, 35, 35, 36, 36, 36, 36, 36, 36,\n",
       "       36, 36, 36, 37, 37, 37, 37, 37, 37, 37, 37, 38, 38, 38, 38, 38, 38,\n",
       "       38, 38, 38, 38, 38, 38, 38, 38, 38, 38, 39, 39, 39, 39, 39, 39, 39,\n",
       "       39, 40, 40, 40, 40, 40, 40, 40, 40, 40, 40, 40, 40, 40, 40, 40, 40,\n",
       "       41, 41, 41, 41, 41, 41, 41, 41, 41, 41, 41, 41, 41, 42, 42, 42, 42,\n",
       "       42, 42, 42, 42, 42, 42, 42, 43, 43, 43, 43, 43, 43, 43, 43, 44, 44,\n",
       "       44, 44, 44, 44, 44, 44, 44, 44, 45, 45, 45, 45, 45, 45, 45, 45, 45,\n",
       "       45, 45, 45, 46, 46, 46, 46, 46, 46, 46, 46, 46, 46, 46, 46, 46, 46,\n",
       "       47, 47, 47, 47, 47, 47, 47, 47, 47, 47, 47, 47, 47, 47, 47, 48, 48,\n",
       "       48, 48, 48, 48, 49, 49, 49, 49, 49, 49, 49, 49, 49, 49, 49, 49, 50,\n",
       "       50, 50, 50, 50, 50, 50, 51, 51, 51, 51, 51, 51, 52, 52, 52, 52, 52,\n",
       "       52, 52, 52, 52, 52, 52, 52, 52, 52, 53, 53, 53, 53, 53, 53, 53, 53,\n",
       "       54, 54, 54, 54, 54, 54, 54, 54, 54, 54, 54, 54, 55, 55, 55, 55, 55,\n",
       "       56, 56, 56, 56, 56, 56, 56, 57, 57, 57, 57, 57, 57, 57, 57, 57, 57,\n",
       "       57, 58, 58, 58, 58, 58, 58, 58, 58, 58, 59, 59, 59, 59, 59, 59, 59,\n",
       "       59, 59, 59, 59, 59, 59, 60, 60, 60, 60, 60, 60, 60, 60, 60, 60, 60,\n",
       "       60, 60, 60, 60, 61, 61, 61, 61, 61, 62, 62, 62, 62, 62, 62, 62, 62,\n",
       "       62, 62, 62, 62, 62, 62, 63, 63, 63, 63, 63, 63, 63, 63, 63, 63, 63,\n",
       "       63, 64, 64, 64, 64, 64, 64, 64, 64, 64, 64, 64, 64, 64, 65, 65, 65,\n",
       "       65, 65, 65, 65, 65, 65, 65, 66, 66, 66, 66, 66, 66, 66, 66, 66, 66,\n",
       "       66, 66, 67, 67, 67, 67, 67, 67, 67, 67, 68, 68, 68, 68, 68, 68, 68,\n",
       "       68, 68, 68, 69, 69, 69, 69, 69, 69, 69, 69, 69, 69, 69, 69, 70, 70,\n",
       "       70, 70, 70, 70, 70, 70, 70, 70, 70, 70, 70, 70, 70, 70, 71, 71, 71,\n",
       "       71, 71, 71, 71, 71, 71, 71, 71, 71, 71, 72, 72, 72, 72, 72, 72, 72,\n",
       "       72, 72, 72, 73, 73, 73, 73, 73, 73, 73, 74, 74, 74, 74, 74, 74, 74,\n",
       "       75, 75, 75, 75, 75, 75, 75, 75, 75, 76, 76, 76, 76, 76, 76, 76, 76,\n",
       "       76, 76, 76, 77, 77, 77, 77, 77, 77, 77, 77, 77, 78, 78, 78, 78, 78,\n",
       "       78, 78, 78, 78, 79, 79, 79, 79, 79, 79, 79, 79, 79, 79, 79, 79, 79,\n",
       "       79, 80, 80, 80, 80, 80, 80, 80, 80, 81, 81, 81, 81, 81, 82, 82, 82,\n",
       "       82, 82, 82, 82, 82, 82, 83, 83, 83, 83, 83, 83, 83, 83, 83, 83, 83,\n",
       "       84, 84, 84, 84, 84, 84, 84, 84, 85, 85, 85, 85, 85, 86, 86, 86, 86,\n",
       "       86, 86, 86, 86, 86, 86, 86, 86, 86, 86, 86, 87, 87, 87, 87, 87, 87,\n",
       "       87, 87, 87, 87, 87, 87, 87, 87, 87, 87, 87, 87, 88, 88, 88, 88, 88,\n",
       "       88, 88, 88, 88, 88, 88, 88, 88, 89, 89, 89, 89, 89, 89, 89, 90, 90,\n",
       "       90, 90, 90, 90, 90, 91, 91, 91, 91, 91, 91, 92, 92, 92, 92, 92, 92,\n",
       "       92, 92, 92, 92, 92, 93, 93, 93, 93, 93, 93, 93, 93, 93, 93, 93, 93,\n",
       "       93, 93, 93, 93, 93, 94, 94, 94, 94, 94, 94, 94, 94, 94, 94, 94, 94,\n",
       "       94, 94, 95, 95, 95, 95, 95, 95, 95, 95, 95, 95, 95, 95, 95, 96, 96,\n",
       "       96, 96, 96, 96, 96, 97, 97, 97, 97, 97, 97, 97, 97, 97, 97, 97, 97,\n",
       "       97, 97, 97, 97, 98, 98, 98, 98, 98, 99, 99, 99, 99, 99])"
      ]
     },
     "execution_count": 14,
     "metadata": {},
     "output_type": "execute_result"
    }
   ],
   "source": [
    "np.random.seed(101) #THE SEED\n",
    "arr = np.random.randint(0,100,1000)\n",
    "start_time = time()\n",
    "mergeSort(arr,0,len(arr)-1)\n",
    "elapsed_time = time() - start_time\n",
    "timeMerge[1]=elapsed_time\n",
    "arr"
   ]
  },
  {
   "cell_type": "markdown",
   "metadata": {},
   "source": [
    "**Con InsertionSort**"
   ]
  },
  {
   "cell_type": "code",
   "execution_count": 15,
   "metadata": {},
   "outputs": [
    {
     "data": {
      "text/plain": [
       "array([ 0,  0,  0,  1,  1,  1,  1,  1,  1,  1,  2,  2,  2,  2,  2,  2,  2,\n",
       "        2,  2,  2,  2,  3,  3,  3,  3,  3,  3,  3,  3,  3,  3,  3,  3,  3,\n",
       "        3,  3,  3,  4,  4,  4,  4,  4,  4,  4,  4,  5,  5,  5,  5,  5,  5,\n",
       "        5,  5,  5,  5,  5,  5,  5,  5,  6,  6,  6,  6,  6,  6,  6,  7,  7,\n",
       "        7,  7,  7,  7,  7,  8,  8,  8,  8,  8,  8,  8,  8,  9,  9,  9,  9,\n",
       "        9,  9,  9,  9,  9,  9,  9,  9, 10, 10, 10, 10, 10, 10, 10, 10, 10,\n",
       "       10, 11, 11, 11, 11, 11, 11, 11, 11, 11, 11, 12, 12, 12, 12, 12, 12,\n",
       "       12, 12, 13, 13, 13, 13, 13, 13, 13, 14, 14, 14, 14, 14, 14, 14, 14,\n",
       "       14, 14, 14, 14, 14, 15, 15, 15, 15, 15, 15, 15, 15, 15, 16, 16, 16,\n",
       "       16, 16, 16, 16, 16, 16, 17, 17, 17, 17, 17, 17, 17, 17, 17, 17, 17,\n",
       "       17, 18, 18, 18, 18, 18, 18, 18, 18, 18, 18, 19, 19, 19, 19, 19, 19,\n",
       "       19, 19, 19, 20, 20, 20, 20, 20, 20, 20, 20, 20, 20, 20, 20, 20, 20,\n",
       "       20, 21, 21, 21, 21, 21, 21, 21, 21, 21, 21, 22, 22, 22, 22, 22, 22,\n",
       "       22, 22, 22, 22, 22, 22, 23, 23, 23, 23, 23, 23, 23, 24, 24, 24, 24,\n",
       "       24, 24, 24, 24, 25, 25, 25, 25, 25, 25, 25, 25, 25, 25, 26, 26, 26,\n",
       "       26, 26, 26, 26, 27, 27, 27, 27, 27, 27, 27, 27, 27, 27, 27, 28, 28,\n",
       "       28, 28, 28, 28, 28, 28, 28, 28, 29, 29, 29, 29, 29, 29, 29, 29, 29,\n",
       "       30, 30, 30, 30, 30, 30, 30, 30, 31, 31, 31, 31, 31, 31, 31, 32, 32,\n",
       "       32, 32, 32, 32, 32, 33, 33, 33, 33, 33, 33, 33, 33, 33, 34, 34, 34,\n",
       "       34, 34, 34, 34, 35, 35, 35, 35, 35, 35, 35, 36, 36, 36, 36, 36, 36,\n",
       "       36, 36, 36, 37, 37, 37, 37, 37, 37, 37, 37, 38, 38, 38, 38, 38, 38,\n",
       "       38, 38, 38, 38, 38, 38, 38, 38, 38, 38, 39, 39, 39, 39, 39, 39, 39,\n",
       "       39, 40, 40, 40, 40, 40, 40, 40, 40, 40, 40, 40, 40, 40, 40, 40, 40,\n",
       "       41, 41, 41, 41, 41, 41, 41, 41, 41, 41, 41, 41, 41, 42, 42, 42, 42,\n",
       "       42, 42, 42, 42, 42, 42, 42, 43, 43, 43, 43, 43, 43, 43, 43, 44, 44,\n",
       "       44, 44, 44, 44, 44, 44, 44, 44, 45, 45, 45, 45, 45, 45, 45, 45, 45,\n",
       "       45, 45, 45, 46, 46, 46, 46, 46, 46, 46, 46, 46, 46, 46, 46, 46, 46,\n",
       "       47, 47, 47, 47, 47, 47, 47, 47, 47, 47, 47, 47, 47, 47, 47, 48, 48,\n",
       "       48, 48, 48, 48, 49, 49, 49, 49, 49, 49, 49, 49, 49, 49, 49, 49, 50,\n",
       "       50, 50, 50, 50, 50, 50, 51, 51, 51, 51, 51, 51, 52, 52, 52, 52, 52,\n",
       "       52, 52, 52, 52, 52, 52, 52, 52, 52, 53, 53, 53, 53, 53, 53, 53, 53,\n",
       "       54, 54, 54, 54, 54, 54, 54, 54, 54, 54, 54, 54, 55, 55, 55, 55, 55,\n",
       "       56, 56, 56, 56, 56, 56, 56, 57, 57, 57, 57, 57, 57, 57, 57, 57, 57,\n",
       "       57, 58, 58, 58, 58, 58, 58, 58, 58, 58, 59, 59, 59, 59, 59, 59, 59,\n",
       "       59, 59, 59, 59, 59, 59, 60, 60, 60, 60, 60, 60, 60, 60, 60, 60, 60,\n",
       "       60, 60, 60, 60, 61, 61, 61, 61, 61, 62, 62, 62, 62, 62, 62, 62, 62,\n",
       "       62, 62, 62, 62, 62, 62, 63, 63, 63, 63, 63, 63, 63, 63, 63, 63, 63,\n",
       "       63, 64, 64, 64, 64, 64, 64, 64, 64, 64, 64, 64, 64, 64, 65, 65, 65,\n",
       "       65, 65, 65, 65, 65, 65, 65, 66, 66, 66, 66, 66, 66, 66, 66, 66, 66,\n",
       "       66, 66, 67, 67, 67, 67, 67, 67, 67, 67, 68, 68, 68, 68, 68, 68, 68,\n",
       "       68, 68, 68, 69, 69, 69, 69, 69, 69, 69, 69, 69, 69, 69, 69, 70, 70,\n",
       "       70, 70, 70, 70, 70, 70, 70, 70, 70, 70, 70, 70, 70, 70, 71, 71, 71,\n",
       "       71, 71, 71, 71, 71, 71, 71, 71, 71, 71, 72, 72, 72, 72, 72, 72, 72,\n",
       "       72, 72, 72, 73, 73, 73, 73, 73, 73, 73, 74, 74, 74, 74, 74, 74, 74,\n",
       "       75, 75, 75, 75, 75, 75, 75, 75, 75, 76, 76, 76, 76, 76, 76, 76, 76,\n",
       "       76, 76, 76, 77, 77, 77, 77, 77, 77, 77, 77, 77, 78, 78, 78, 78, 78,\n",
       "       78, 78, 78, 78, 79, 79, 79, 79, 79, 79, 79, 79, 79, 79, 79, 79, 79,\n",
       "       79, 80, 80, 80, 80, 80, 80, 80, 80, 81, 81, 81, 81, 81, 82, 82, 82,\n",
       "       82, 82, 82, 82, 82, 82, 83, 83, 83, 83, 83, 83, 83, 83, 83, 83, 83,\n",
       "       84, 84, 84, 84, 84, 84, 84, 84, 85, 85, 85, 85, 85, 86, 86, 86, 86,\n",
       "       86, 86, 86, 86, 86, 86, 86, 86, 86, 86, 86, 87, 87, 87, 87, 87, 87,\n",
       "       87, 87, 87, 87, 87, 87, 87, 87, 87, 87, 87, 87, 88, 88, 88, 88, 88,\n",
       "       88, 88, 88, 88, 88, 88, 88, 88, 89, 89, 89, 89, 89, 89, 89, 90, 90,\n",
       "       90, 90, 90, 90, 90, 91, 91, 91, 91, 91, 91, 92, 92, 92, 92, 92, 92,\n",
       "       92, 92, 92, 92, 92, 93, 93, 93, 93, 93, 93, 93, 93, 93, 93, 93, 93,\n",
       "       93, 93, 93, 93, 93, 94, 94, 94, 94, 94, 94, 94, 94, 94, 94, 94, 94,\n",
       "       94, 94, 95, 95, 95, 95, 95, 95, 95, 95, 95, 95, 95, 95, 95, 96, 96,\n",
       "       96, 96, 96, 96, 96, 97, 97, 97, 97, 97, 97, 97, 97, 97, 97, 97, 97,\n",
       "       97, 97, 97, 97, 98, 98, 98, 98, 98, 99, 99, 99, 99, 99])"
      ]
     },
     "execution_count": 15,
     "metadata": {},
     "output_type": "execute_result"
    }
   ],
   "source": [
    "np.random.seed(101) #THE SEED\n",
    "arr = np.random.randint(0,100,1000)\n",
    "start_time = time()\n",
    "insertionSort(arr)\n",
    "elapsed_time = time() - start_time\n",
    "timeInsertion[1]=elapsed_time\n",
    "arr"
   ]
  },
  {
   "cell_type": "markdown",
   "metadata": {},
   "source": [
    "**Arreglo de 10000 datos original**"
   ]
  },
  {
   "cell_type": "code",
   "execution_count": 16,
   "metadata": {},
   "outputs": [
    {
     "data": {
      "text/plain": [
       "array([95, 11, 81, ..., 57,  2, 76])"
      ]
     },
     "execution_count": 16,
     "metadata": {},
     "output_type": "execute_result"
    }
   ],
   "source": [
    "np.random.seed(101) #THE SEED\n",
    "arr = np.random.randint(0,100,10000)\n",
    "arr"
   ]
  },
  {
   "cell_type": "markdown",
   "metadata": {},
   "source": [
    "**Con BubbleSort**"
   ]
  },
  {
   "cell_type": "code",
   "execution_count": 17,
   "metadata": {},
   "outputs": [
    {
     "data": {
      "text/plain": [
       "array([ 0,  0,  0, ..., 99, 99, 99])"
      ]
     },
     "execution_count": 17,
     "metadata": {},
     "output_type": "execute_result"
    }
   ],
   "source": [
    "start_time = time()\n",
    "bubbleSort(arr)\n",
    "elapsed_time = time() - start_time\n",
    "timeBubble[2]=elapsed_time\n",
    "arr"
   ]
  },
  {
   "cell_type": "markdown",
   "metadata": {},
   "source": [
    "**Con MergeSort**"
   ]
  },
  {
   "cell_type": "code",
   "execution_count": 18,
   "metadata": {},
   "outputs": [
    {
     "data": {
      "text/plain": [
       "array([ 0,  0,  0, ..., 99, 99, 99])"
      ]
     },
     "execution_count": 18,
     "metadata": {},
     "output_type": "execute_result"
    }
   ],
   "source": [
    "np.random.seed(101) #THE SEED\n",
    "arr = np.random.randint(0,100,10000)\n",
    "start_time = time()\n",
    "mergeSort(arr,0,len(arr)-1)\n",
    "elapsed_time = time() - start_time\n",
    "timeMerge[2]=elapsed_time\n",
    "arr"
   ]
  },
  {
   "cell_type": "markdown",
   "metadata": {},
   "source": [
    "**Con InsertionSort**"
   ]
  },
  {
   "cell_type": "code",
   "execution_count": 19,
   "metadata": {},
   "outputs": [
    {
     "data": {
      "text/plain": [
       "array([ 0,  0,  0, ..., 99, 99, 99])"
      ]
     },
     "execution_count": 19,
     "metadata": {},
     "output_type": "execute_result"
    }
   ],
   "source": [
    "np.random.seed(101) #THE SEED\n",
    "arr = np.random.randint(0,100,10000)\n",
    "start_time = time()\n",
    "insertionSort(arr)\n",
    "elapsed_time = time() - start_time\n",
    "timeInsertion[2]=elapsed_time\n",
    "arr"
   ]
  },
  {
   "cell_type": "markdown",
   "metadata": {},
   "source": [
    "**Arreglo de 100000 datos original**"
   ]
  },
  {
   "cell_type": "code",
   "execution_count": 20,
   "metadata": {},
   "outputs": [
    {
     "data": {
      "text/plain": [
       "array([95, 11, 81, ..., 72, 75, 64])"
      ]
     },
     "execution_count": 20,
     "metadata": {},
     "output_type": "execute_result"
    }
   ],
   "source": [
    "np.random.seed(101) #THE SEED\n",
    "arr = np.random.randint(0,100,100000)\n",
    "arr"
   ]
  },
  {
   "cell_type": "markdown",
   "metadata": {},
   "source": [
    "**Con BubbleSort**"
   ]
  },
  {
   "cell_type": "code",
   "execution_count": 21,
   "metadata": {},
   "outputs": [
    {
     "data": {
      "text/plain": [
       "array([ 0,  0,  0, ..., 99, 99, 99])"
      ]
     },
     "execution_count": 21,
     "metadata": {},
     "output_type": "execute_result"
    }
   ],
   "source": [
    "start_time = time()\n",
    "bubbleSort(arr)\n",
    "elapsed_time = time() - start_time\n",
    "timeBubble[3]=elapsed_time\n",
    "arr"
   ]
  },
  {
   "cell_type": "markdown",
   "metadata": {},
   "source": [
    "**Con MergeSort**"
   ]
  },
  {
   "cell_type": "code",
   "execution_count": 22,
   "metadata": {},
   "outputs": [
    {
     "data": {
      "text/plain": [
       "array([ 0,  0,  0, ..., 99, 99, 99])"
      ]
     },
     "execution_count": 22,
     "metadata": {},
     "output_type": "execute_result"
    }
   ],
   "source": [
    "np.random.seed(101) #THE SEED\n",
    "arr = np.random.randint(0,100,100000)\n",
    "start_time = time()\n",
    "mergeSort(arr,0,len(arr)-1)\n",
    "elapsed_time = time() - start_time\n",
    "timeMerge[3]=elapsed_time\n",
    "arr"
   ]
  },
  {
   "cell_type": "markdown",
   "metadata": {},
   "source": [
    "**Con InsertionSort**"
   ]
  },
  {
   "cell_type": "code",
   "execution_count": 23,
   "metadata": {},
   "outputs": [
    {
     "data": {
      "text/plain": [
       "array([ 0,  0,  0, ..., 99, 99, 99])"
      ]
     },
     "execution_count": 23,
     "metadata": {},
     "output_type": "execute_result"
    }
   ],
   "source": [
    "np.random.seed(101) #THE SEED\n",
    "arr = np.random.randint(0,100,100000)\n",
    "start_time = time()\n",
    "insertionSort(arr)\n",
    "elapsed_time = time() - start_time\n",
    "timeInsertion[3]=elapsed_time\n",
    "arr"
   ]
  },
  {
   "cell_type": "markdown",
   "metadata": {},
   "source": [
    "**Arreglo de 10000000 datos original**"
   ]
  },
  {
   "cell_type": "code",
   "execution_count": 24,
   "metadata": {},
   "outputs": [
    {
     "data": {
      "text/plain": [
       "array([95, 11, 81, ..., 50, 19, 42])"
      ]
     },
     "execution_count": 24,
     "metadata": {},
     "output_type": "execute_result"
    }
   ],
   "source": [
    "np.random.seed(101) #THE SEED\n",
    "arr = np.random.randint(0,100,10000000)\n",
    "arr"
   ]
  },
  {
   "cell_type": "markdown",
   "metadata": {},
   "source": [
    "**Con BubbleSort**"
   ]
  },
  {
   "cell_type": "code",
   "execution_count": 25,
   "metadata": {},
   "outputs": [
    {
     "ename": "KeyboardInterrupt",
     "evalue": "",
     "output_type": "error",
     "traceback": [
      "\u001b[1;31m---------------------------------------------------------------------------\u001b[0m",
      "\u001b[1;31mKeyboardInterrupt\u001b[0m                         Traceback (most recent call last)",
      "\u001b[1;32m<ipython-input-25-dc44e0f44d6c>\u001b[0m in \u001b[0;36m<module>\u001b[1;34m\u001b[0m\n\u001b[0;32m      1\u001b[0m \u001b[0mstart_time\u001b[0m \u001b[1;33m=\u001b[0m \u001b[0mtime\u001b[0m\u001b[1;33m(\u001b[0m\u001b[1;33m)\u001b[0m\u001b[1;33m\u001b[0m\u001b[1;33m\u001b[0m\u001b[0m\n\u001b[1;32m----> 2\u001b[1;33m \u001b[0mbubbleSort\u001b[0m\u001b[1;33m(\u001b[0m\u001b[0marr\u001b[0m\u001b[1;33m)\u001b[0m\u001b[1;33m\u001b[0m\u001b[1;33m\u001b[0m\u001b[0m\n\u001b[0m\u001b[0;32m      3\u001b[0m \u001b[0melapsed_time\u001b[0m \u001b[1;33m=\u001b[0m \u001b[0mtime\u001b[0m\u001b[1;33m(\u001b[0m\u001b[1;33m)\u001b[0m \u001b[1;33m-\u001b[0m \u001b[0mstart_time\u001b[0m\u001b[1;33m\u001b[0m\u001b[1;33m\u001b[0m\u001b[0m\n\u001b[0;32m      4\u001b[0m \u001b[0mtimeBubble\u001b[0m\u001b[1;33m[\u001b[0m\u001b[1;36m4\u001b[0m\u001b[1;33m]\u001b[0m\u001b[1;33m=\u001b[0m\u001b[0melapsed_time\u001b[0m\u001b[1;33m\u001b[0m\u001b[1;33m\u001b[0m\u001b[0m\n\u001b[0;32m      5\u001b[0m \u001b[0marr\u001b[0m\u001b[1;33m\u001b[0m\u001b[1;33m\u001b[0m\u001b[0m\n",
      "\u001b[1;32m<ipython-input-2-ad9082ddcc12>\u001b[0m in \u001b[0;36mbubbleSort\u001b[1;34m(arr)\u001b[0m\n\u001b[0;32m      6\u001b[0m                 \u001b[0maux\u001b[0m \u001b[1;33m=\u001b[0m \u001b[0marr\u001b[0m\u001b[1;33m[\u001b[0m\u001b[0mj\u001b[0m\u001b[1;33m]\u001b[0m\u001b[1;33m\u001b[0m\u001b[1;33m\u001b[0m\u001b[0m\n\u001b[0;32m      7\u001b[0m                 \u001b[0marr\u001b[0m\u001b[1;33m[\u001b[0m\u001b[0mj\u001b[0m\u001b[1;33m]\u001b[0m \u001b[1;33m=\u001b[0m \u001b[0marr\u001b[0m\u001b[1;33m[\u001b[0m\u001b[0mj\u001b[0m\u001b[1;33m+\u001b[0m\u001b[1;36m1\u001b[0m\u001b[1;33m]\u001b[0m\u001b[1;33m\u001b[0m\u001b[1;33m\u001b[0m\u001b[0m\n\u001b[1;32m----> 8\u001b[1;33m                 \u001b[0marr\u001b[0m\u001b[1;33m[\u001b[0m\u001b[0mj\u001b[0m\u001b[1;33m+\u001b[0m\u001b[1;36m1\u001b[0m\u001b[1;33m]\u001b[0m\u001b[1;33m=\u001b[0m \u001b[0maux\u001b[0m\u001b[1;33m\u001b[0m\u001b[1;33m\u001b[0m\u001b[0m\n\u001b[0m",
      "\u001b[1;31mKeyboardInterrupt\u001b[0m: "
     ]
    }
   ],
   "source": [
    "start_time = time()\n",
    "bubbleSort(arr)\n",
    "elapsed_time = time() - start_time\n",
    "timeBubble[4]=elapsed_time\n",
    "arr"
   ]
  },
  {
   "cell_type": "markdown",
   "metadata": {},
   "source": [
    "**Con MergeSort**"
   ]
  },
  {
   "cell_type": "code",
   "execution_count": 26,
   "metadata": {},
   "outputs": [
    {
     "data": {
      "text/plain": [
       "array([ 0,  0,  0, ..., 99, 99, 99])"
      ]
     },
     "execution_count": 26,
     "metadata": {},
     "output_type": "execute_result"
    }
   ],
   "source": [
    "np.random.seed(101) #THE SEED\n",
    "arr = np.random.randint(0,100,10000000)\n",
    "start_time = time()\n",
    "mergeSort(arr,0,len(arr)-1)\n",
    "elapsed_time = time() - start_time\n",
    "timeMerge[4]=elapsed_time\n",
    "arr"
   ]
  },
  {
   "cell_type": "markdown",
   "metadata": {},
   "source": [
    "**Con InsertionSort**"
   ]
  },
  {
   "cell_type": "code",
   "execution_count": null,
   "metadata": {},
   "outputs": [],
   "source": [
    "np.random.seed(101) #THE SEED\n",
    "arr = np.random.randint(0,100,10000000)\n",
    "start_time = time()\n",
    "insertionSort(arr)\n",
    "elapsed_time = time() - start_time\n",
    "timeInsertion[4]=elapsed_time\n",
    "arr"
   ]
  },
  {
   "cell_type": "markdown",
   "metadata": {},
   "source": [
    "# Gráficas\n",
    "**La gráfica con los diferentes tiempos se encuentra a continuación**"
   ]
  },
  {
   "cell_type": "code",
   "execution_count": 27,
   "metadata": {},
   "outputs": [
    {
     "name": "stdout",
     "output_type": "stream",
     "text": [
      "Método:\t\t100 datos\t1000 datos\t10000 datos\t100000 datos\t\t10000000 datos\n",
      "BubbleSort\t0.0020337105 \t0.2333235741 \t25.8976213932 \t2664.4141464233 \t\t28800.0000000000 \n",
      "MergeSort\t0.0000000000 \t0.0050220490 \t0.0628054142 \t0.7077655792 \t\t91.9518356323 \n",
      "InsertionSort\t0.0009982586 \t0.0728528500 \t7.0984683037 \t720.7022120953 \t\t18000.0000000000\n"
     ]
    }
   ],
   "source": [
    "timeBubble[4]=28800\n",
    "timeInsertion[4]=18000\n",
    "print(\"Método:\\t\\t100 datos\\t1000 datos\\t10000 datos\\t100000 datos\\t\\t10000000 datos\\nBubbleSort\\t%.10f\" %timeBubble[0], \"\\t%.10f\" %timeBubble[1], \"\\t%.10f\" %timeBubble[2], \"\\t%.10f\" %timeBubble[3], \"\\t\\t%.10f\" %timeBubble[4], \"\\nMergeSort\\t%.10f\" %timeMerge[0], \"\\t%.10f\" %timeMerge[1], \"\\t%.10f\" %timeMerge[2], \"\\t%.10f\" %timeMerge[3], \"\\t\\t%.10f\" %timeMerge[4], \"\\nInsertionSort\\t%.10f\" %timeInsertion[0], \"\\t%.10f\" %timeInsertion[1], \"\\t%.10f\" %timeInsertion[2], \"\\t%.10f\" %timeInsertion[3], \"\\t\\t%.10f\" %timeInsertion[4])"
   ]
  },
  {
   "cell_type": "code",
   "execution_count": 28,
   "metadata": {},
   "outputs": [
    {
     "data": {
      "image/png": "[encoded data removed]",
      "text/plain": [
       "<Figure size 432x288 with 1 Axes>"
      ]
     },
     "metadata": {
      "needs_background": "light"
     },
     "output_type": "display_data"
    }
   ],
   "source": [
    "plt.plot([100,1000,10000,100000,10000000],timeBubble,label=\"bubbleSort\")\n",
    "plt.plot([100,1000,10000,100000,10000000],timeMerge,label=\"mergeSort\")\n",
    "plt.plot([100,1000,10000,100000,10000000],timeInsertion,label=\"insertionSort\")\n",
    "\n",
    "plt.xlabel('n')\n",
    "plt.ylabel('time')\n",
    "\n",
    "plt.title(\"Métodos de ordenamiento\")\n",
    "\n",
    "plt.legend()\n",
    "\n",
    "plt.show()"
   ]
  },
  {
   "cell_type": "markdown",
   "metadata": {},
   "source": [
    "# Conclusiones"
   ]
  },
  {
   "cell_type": "markdown",
   "metadata": {},
   "source": [
    "Gracias al desarrollo de esta práctica se logró la asimilación de una técnica para el desarrollo de algoritmos que es \"Divide y vencerás\", la cual consiste en que al tener\n",
    "un problema que puede representar un gran gasto en los recursos del sistema, se dividen el problema en modulos de menor tamaño que permitan resolverse de manera más rápida,\n",
    "es decir, se tiene un problema, este se modulariza para tener problemas más pequeños a resolver hasta llegar a un caso base el cual nos permitirá resolver la unidad más \n",
    "pequeña a la cual se puede llegar a dividir el problema, y de esta forma, al resolver problemas más pequeños se resuelve en su conjunto todo. </br>\n",
    "Un ejemplo es el metodo de ordenamiento MergeSort que se realizó en la práctica, en este método se tiene un arreglo de números a ordenar, el cual se divide en dos subarreglos a ordenar, y cada uno de estos se divide a su vez en dos subarreglos hasta llegar a el caso base que es cuando el arreglo tiene dos elementos, en este punto, estos se ordenan\n",
    "y una vez que se tienen ordenados se ordena el arreglo superior a estos hasta llegar al arreglo principal, y se puede ver la ventaja que tiene ya que existen otros métodos\n",
    "de ordenamiento que debido al algoritmo se tardan demasiado tiempo por la complejidad que pueden llegar a tener, y el método MergeSort dado el algoritmo que implementa\n",
    "tiene una complejidad de nlog(n) que se ejecuta más rápido que métodos como el BubbleSort o el InsertionSort los cuales tienen una complejidad de n cuadrada. </br>\n",
    "También se logró ver la importancia que tiene el realizar el análisis de los algoritmos, ya que al seguir este procedimiento se puede visualizar cual algoritmo es más \n",
    "conveniente de implementar cuando se tiene un problema determinado, el elegir el mejor algoritmo ayudará a que los procedimientos que se efectuen gasten menos recursos,\n",
    "consuman menos tiempo y den las soluciones adecuadas, ya que en ocasiones se manejan con grandes cantidades de datos es importante realizar un correcto análisis de estos. </br>\n",
    "Se cumplio el objetivo de la práctica ya que primero, se realizó un análisis de diferentes algoritmos de ordenamiento de datos de forma teórica, lo cual demostró que\n",
    "el método de ordenamiento MergeSort es uno de los más eficaces, y este análisis se realizó con respecto a la O grande la cual nos da un limite superior de la complejidad\n",
    "que tiene el algoritmo, posteriormente, se implemento de forma práctica los diferentes algoritmos comprobando que efectivamente el análisis efectuado fue correcto y de \n",
    "esa forma se sabe que por ejemplo, al tener una gran cantidad de datos que se deseen ordenar, el mejor método para aplicar es el MergeSort."
   ]
  }
 ],
 "metadata": {
  "kernelspec": {
   "display_name": "Python 3",
   "language": "python",
   "name": "python3"
  },
  "language_info": {
   "codemirror_mode": {
    "name": "ipython",
    "version": 3
   },
   "file_extension": ".py",
   "mimetype": "text/x-python",
   "name": "python",
   "nbconvert_exporter": "python",
   "pygments_lexer": "ipython3",
   "version": "3.7.3"
  }
 },
 "nbformat": 4,
 "nbformat_minor": 4
}
