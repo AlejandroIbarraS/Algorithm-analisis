{
 "cells": [
  {
   "cell_type": "markdown",
   "metadata": {},
   "source": [
    "<img src=\"header_escom26.jpg\" alt=\"header\" style=\"height:200px;\">\n",
    "\n",
    "# Práctica 8:  Greedy - Planificador de procesos</br>\n",
    "# Ibarra Soto Alejandro\n",
    "# 2015080672\n",
    "\n",
    "**Análisis de Algoritmos** </br>\n",
    "**Profesor: Dr. Flavio Arturo Sánchez Garfias** </br>\n",
    "**3CM2**"
   ]
  },
  {
   "cell_type": "markdown",
   "metadata": {},
   "source": [
    "<h1>Planificador de procesos</h1>\n",
    "El planificador de procesos (process scheduler, en inglés) es la parte del sistema operativo que se encarga de seleccionar a qué proceso se asigna el recurso procesador y durante cuánto tiempo.\n",
    "El planificador de procesos tiene como funciones principales:\n",
    "<ul>\n",
    "<li>Llevar el control del estado de cada proceso.\n",
    "<li>Decidir qué proceso usará el procesador y durante cuánto tiempo, para ello empleará un cierto criterio en base al cual tomará las decisiones. Si implementa multiprogramación, deberá emplear un criterio que evite que un proceso monopolice el procesador.\n",
    "<li>Asignar el procesador al proceso, restableciendo el contexto de la ejecución del proceso por donde fuere. El contexto de la ejecución se encuentra almacenado en el PCB del proceso asignado.\n",
    "<li>Retirar el procesador al proceso, salvando el contexto de la ejecución del proceso, para poder restablecerlo posteriormente una vez que vuelva a ser asignado. El contexto de la ejecución se almacenará en el PCB del proceso retirado.\n",
    "El planificador de procesos es software, por tanto, requiere emplear el recurso procesador para ejecutar su código.</br>\n",
    "Existen diferente métodos para ordenarlo, sin embargo, en esta práctica no se consideran mecanismos expropiativos, sino que se realiza como se muestra a continuación.\n",
    "\n",
    "<h2>Método de fuerza bruta</h2>\n",
    "El método de fuerza bruta consiste en sacar todas las permutaciones que existen, es decir, todas las formas en que se pueden ordenar los procesos y una vez que se tienen se calcula el tiempo de espera de cada uno y se escoge aquella permutación que permita tener el menor tiempo de espera para todos y cada uno de los diferentes procesos a ordenar.\n",
    "<center><img src=\"i1.png\"></center></br>\n",
    "Una vez que se tienen todas las permutaciones, se prueba cada una de ellas y al final se muestra la que ofrecio el menor tiempo de espera para todos los procesos.\n",
    "<h2>Método de algoritmo greedy</h2>\n",
    "Este método consiste en ordenar todos los proceso con base en el tiempo en que se ejecutan, de menor a mayor, pues de esta manera se elimina el tiempo mayor y no se considera como de espera, y al demostrarlo por inducción matemática, al eliminar un proceso se tendría que sacar el minimo tiempo de espera de los procesos restantes, lo cual se obtiene otra vez al dejar hasta el final al proceso cuyo tiempo es mayor, así, los demás procesos no esperaran, dicha resolución se puede observar a continuación.\n",
    "<center><img src=\"i2.png\"></center></br>"
   ]
  },
  {
   "cell_type": "markdown",
   "metadata": {},
   "source": [
    "Import packages <a href=\"https://numpy.org\">Numpy</a> and <a href=\"https://matplotlib.org\">Matplotlib</a>"
   ]
  },
  {
   "cell_type": "code",
   "execution_count": 1,
   "metadata": {},
   "outputs": [],
   "source": [
    "import numpy as np\n",
    "import matplotlib.pyplot as plt\n",
    "import itertools\n",
    "%matplotlib inline"
   ]
  },
  {
   "cell_type": "markdown",
   "metadata": {},
   "source": [
    "**Definir funciones de ordenamiento**"
   ]
  },
  {
   "cell_type": "code",
   "execution_count": 2,
   "metadata": {},
   "outputs": [],
   "source": [
    "def mergeSort(arr,ini,fin,pos): #pos 0 es para ordenar el primer elemento, 1 para ordenar el segundo\n",
    "    if(pos!=0 and pos!=1):\n",
    "        pos=1\n",
    "    if ini<fin:\n",
    "        mitad = int((ini+(fin))/2)\n",
    "        #Ordenar la primera mitad del arreglo\n",
    "        mergeSort(arr,ini,mitad,pos)\n",
    "        #Ordenar la segunda mitad del arreglo\n",
    "        mergeSort(arr,mitad+1,fin,pos)\n",
    "        #Ordenar todo el arreglo\n",
    "        merge(arr,ini,mitad,fin,pos)\n",
    "\n",
    "def merge(arr,ini,mitad,fin,pos):\n",
    "    #Obtener el tamaño de los dos subarreglos\n",
    "    n1 = mitad-ini+1\n",
    "    n2 = fin-mitad \n",
    "    #Crear los dos subarreglos\n",
    "    #arrInicio = [0] * (n1)\n",
    "    #arrFin = [0] * (n2) \n",
    "    arrInicio = np.zeros((n1,2))\n",
    "    arrFin = np.zeros((n2,2))\n",
    "    #Copiar los datos a los subarreglos\n",
    "    for i in range(n1): \n",
    "        arrInicio[i,0]=arr[ini+i,0]\n",
    "        arrInicio[i,1]=arr[ini+i,1]\n",
    "    for j in range(n2): \n",
    "        arrFin[j,0]=arr[mitad+j+1,0]\n",
    "        arrFin[j,1]=arr[mitad+j+1,1]\n",
    "    i = 0 \n",
    "    j = 0 \n",
    "    k = ini\n",
    "    #Ordenar los dos subarreglos en el arreglo inicial\n",
    "    while i < n1 and j < n2 : \n",
    "        if arrInicio[i,pos]<=arrFin[j,pos]: \n",
    "            arr[k,0] = arrInicio[i,0]\n",
    "            arr[k,1] = arrInicio[i,1] \n",
    "            i=i+1\n",
    "        else: \n",
    "            arr[k,0]=arrFin[j,0] \n",
    "            arr[k,1]=arrFin[j,1] \n",
    "            j=j+1\n",
    "        k=k+1\n",
    "    #Copiar los elementos que sobraron en los dos subarreglos\n",
    "    while i<n1: \n",
    "        arr[k,0]=arrInicio[i,0]\n",
    "        arr[k,1]=arrInicio[i,1]\n",
    "        i=i+1\n",
    "        k=k+1\n",
    "    while j<n2: \n",
    "        arr[k,0] = arrFin[j,0]\n",
    "        arr[k,1] = arrFin[j,1] \n",
    "        j=j+1\n",
    "        k=k+1\n",
    "        \n",
    "def mergeSortArr(arr,ini,fin):\n",
    "    if ini<fin:\n",
    "        mitad = int((ini+(fin))/2)\n",
    "        #Ordenar la primera mitad del arreglo\n",
    "        mergeSortArr(arr,ini,mitad)\n",
    "        #Ordenar la segunda mitad del arreglo\n",
    "        mergeSortArr(arr,mitad+1,fin)\n",
    "        #Ordenar todo el arreglo\n",
    "        mergeArr(arr,ini,mitad,fin)\n",
    "\n",
    "def mergeArr(arr,ini,mitad,fin):\n",
    "    #Obtener el tamaño de los dos subarreglos\n",
    "    n1 = mitad-ini+1\n",
    "    n2 = fin-mitad \n",
    "    #Crear los dos subarreglos\n",
    "    arrInicio = [0] * (n1)\n",
    "    arrFin = [0] * (n2) \n",
    "    #Copiar los datos a los subarreglos\n",
    "    for i in range(n1): \n",
    "        arrInicio[i]=arr[ini+i]\n",
    "    for j in range(n2): \n",
    "        arrFin[j]=arr[mitad+j+1]\n",
    "    i = 0 \n",
    "    j = 0 \n",
    "    k = ini\n",
    "    #Ordenar los dos subarreglos en el arreglo inicial\n",
    "    while i < n1 and j < n2 : \n",
    "        if arrInicio[i]<=arrFin[j]: \n",
    "            arr[k] = arrInicio[i] \n",
    "            i=i+1\n",
    "        else: \n",
    "            arr[k]=arrFin[j] \n",
    "            j=j+1\n",
    "        k=k+1\n",
    "    #Copiar los elementos que sobraron en los dos subarreglos\n",
    "    while i<n1: \n",
    "        arr[k]=arrInicio[i] \n",
    "        i=i+1\n",
    "        k=k+1\n",
    "    while j<n2: \n",
    "        arr[k] = arrFin[j] \n",
    "        j=j+1\n",
    "        k=k+1"
   ]
  },
  {
   "cell_type": "markdown",
   "metadata": {},
   "source": [
    "**Definir la función de fuerza bruta**"
   ]
  },
  {
   "cell_type": "code",
   "execution_count": 3,
   "metadata": {},
   "outputs": [],
   "source": [
    "def process_FB(procesos):\n",
    "    lista=list(itertools.permutations(procesos))\n",
    "    permutacionOptima=0\n",
    "    #tiempoOptimo=-1\n",
    "    tiemposOptimos=[-1]*(len(procesos))\n",
    "    for i in range(len(lista)):\n",
    "        tiempos=[0]*(len(procesos))\n",
    "        for j in range(len(procesos)-1):\n",
    "            tiempos[j+1]=tiempos[j]+lista[i][j]\n",
    "        bandera=1\n",
    "        for j in range(len(procesos)):\n",
    "            if(tiemposOptimos[j]==-1):\n",
    "                permutacionOptima=i\n",
    "                tiemposOptimos=tiempos\n",
    "                break\n",
    "            else:\n",
    "                if(tiemposOptimos[j]<tiempos[j]):\n",
    "                    bandera=0\n",
    "                    break;\n",
    "        if(bandera==1):\n",
    "            tiemposOptimos=tiempos\n",
    "            permutacionOptima=i\n",
    "    print(lista[permutacionOptima])"
   ]
  },
  {
   "cell_type": "markdown",
   "metadata": {},
   "source": [
    "**Definir la función de algoritmo greedy**"
   ]
  },
  {
   "cell_type": "code",
   "execution_count": 4,
   "metadata": {},
   "outputs": [],
   "source": [
    "def processPlanning(procesos):\n",
    "    mergeSortArr(procesos,0,len(procesos)-1)\n",
    "    print(procesos)"
   ]
  },
  {
   "cell_type": "markdown",
   "metadata": {},
   "source": [
    "# Pruebas "
   ]
  },
  {
   "cell_type": "markdown",
   "metadata": {},
   "source": [
    "A continuación, se crearán arreglos de 10, 100, 1000, 10000, 100000, 1000000 digitos"
   ]
  },
  {
   "cell_type": "code",
   "execution_count": 5,
   "metadata": {},
   "outputs": [],
   "source": [
    "from time import time\n",
    "timePD = [0] * (6)\n",
    "timeDV = [0] * (6)"
   ]
  },
  {
   "cell_type": "markdown",
   "metadata": {},
   "source": [
    "# Datos de tamaño 10"
   ]
  },
  {
   "cell_type": "code",
   "execution_count": 6,
   "metadata": {},
   "outputs": [
    {
     "data": {
      "text/plain": [
       "array([95, 11, 81, 70, 63, 87, 75,  9, 77, 40])"
      ]
     },
     "execution_count": 6,
     "metadata": {},
     "output_type": "execute_result"
    }
   ],
   "source": [
    "np.random.seed(101) #THE SEED\n",
    "tam=10\n",
    "arr1 = np.random.randint(0,100,tam)\n",
    "arr1"
   ]
  },
  {
   "cell_type": "markdown",
   "metadata": {},
   "source": [
    "**Fuerza bruta**"
   ]
  },
  {
   "cell_type": "code",
   "execution_count": 7,
   "metadata": {},
   "outputs": [
    {
     "name": "stdout",
     "output_type": "stream",
     "text": [
      "(9, 11, 40, 63, 70, 75, 77, 81, 87, 95)\n"
     ]
    }
   ],
   "source": [
    "start_time = time()\n",
    "process_FB(arr1)\n",
    "elapsed_time = time() - start_time\n",
    "timeDV[0]=elapsed_time"
   ]
  },
  {
   "cell_type": "markdown",
   "metadata": {},
   "source": [
    "**Algoritmo greedy**"
   ]
  },
  {
   "cell_type": "code",
   "execution_count": 8,
   "metadata": {},
   "outputs": [
    {
     "name": "stdout",
     "output_type": "stream",
     "text": [
      "[ 9 11 40 63 70 75 77 81 87 95]\n"
     ]
    }
   ],
   "source": [
    "start_time = time()\n",
    "processPlanning(arr1)\n",
    "elapsed_time = time() - start_time\n",
    "timePD[0]=elapsed_time"
   ]
  },
  {
   "cell_type": "markdown",
   "metadata": {},
   "source": [
    "# Datos de tamaño 100"
   ]
  },
  {
   "cell_type": "code",
   "execution_count": 9,
   "metadata": {},
   "outputs": [
    {
     "data": {
      "text/plain": [
       "array([95, 11, 81, 70, 63, 87, 75,  9, 77, 40,  4, 63, 40, 60, 92, 64,  5,\n",
       "       12, 93, 40, 49, 83,  8, 29, 59, 34, 44, 72, 19, 10, 76, 95, 87,  0,\n",
       "       73,  8, 62, 36, 83, 99, 28, 63,  7, 10, 52, 56, 38, 73, 52, 18, 71,\n",
       "       15, 44,  0, 12, 17, 75, 79, 97, 93, 24, 36, 63, 19, 35, 30, 10, 60,\n",
       "       20, 27,  8, 86, 26, 87, 46, 47, 54, 86,  9, 45,  2, 18, 58, 92, 11,\n",
       "       10, 94, 35, 28,  3, 83, 84, 47, 14, 69, 60, 69, 51,  6, 88])"
      ]
     },
     "execution_count": 9,
     "metadata": {},
     "output_type": "execute_result"
    }
   ],
   "source": [
    "np.random.seed(101) #THE SEED\n",
    "tam=100\n",
    "arr2 = np.random.randint(0,100,tam)\n",
    "arr2"
   ]
  },
  {
   "cell_type": "markdown",
   "metadata": {},
   "source": [
    "**Fuerza bruta**"
   ]
  },
  {
   "cell_type": "code",
   "execution_count": null,
   "metadata": {},
   "outputs": [],
   "source": [
    "start_time = time()\n",
    "process_FB(arr2)\n",
    "elapsed_time = time() - start_time\n",
    "timeDV[1]=elapsed_time"
   ]
  },
  {
   "cell_type": "markdown",
   "metadata": {},
   "source": [
    "**Algoritmo greedy**"
   ]
  },
  {
   "cell_type": "code",
   "execution_count": 10,
   "metadata": {},
   "outputs": [
    {
     "name": "stdout",
     "output_type": "stream",
     "text": [
      "[ 0  0  2  3  4  5  6  7  8  8  8  9  9 10 10 10 10 11 11 12 12 14 15 17\n",
      " 18 18 19 19 20 24 26 27 28 28 29 30 34 35 35 36 36 38 40 40 40 44 44 45\n",
      " 46 47 47 49 51 52 52 54 56 58 59 60 60 60 62 63 63 63 63 64 69 69 70 71\n",
      " 72 73 73 75 75 76 77 79 81 83 83 83 84 86 86 87 87 87 88 92 92 93 93 94\n",
      " 95 95 97 99]\n"
     ]
    }
   ],
   "source": [
    "start_time = time()\n",
    "processPlanning(arr2)\n",
    "elapsed_time = time() - start_time\n",
    "timePD[1]=elapsed_time"
   ]
  },
  {
   "cell_type": "markdown",
   "metadata": {},
   "source": [
    "# Datos de tamaño 1000"
   ]
  },
  {
   "cell_type": "code",
   "execution_count": 11,
   "metadata": {},
   "outputs": [
    {
     "data": {
      "text/plain": [
       "array([95, 11, 81, 70, 63, 87, 75,  9, 77, 40,  4, 63, 40, 60, 92, 64,  5,\n",
       "       12, 93, 40, 49, 83,  8, 29, 59, 34, 44, 72, 19, 10, 76, 95, 87,  0,\n",
       "       73,  8, 62, 36, 83, 99, 28, 63,  7, 10, 52, 56, 38, 73, 52, 18, 71,\n",
       "       15, 44,  0, 12, 17, 75, 79, 97, 93, 24, 36, 63, 19, 35, 30, 10, 60,\n",
       "       20, 27,  8, 86, 26, 87, 46, 47, 54, 86,  9, 45,  2, 18, 58, 92, 11,\n",
       "       10, 94, 35, 28,  3, 83, 84, 47, 14, 69, 60, 69, 51,  6, 88, 71, 68,\n",
       "       23, 35, 79, 98, 67, 82, 57, 77, 46,  3, 46, 29, 86, 21, 21, 81, 23,\n",
       "       94, 71, 20, 27, 75,  5, 49, 86, 89, 63, 82, 77,  3, 56, 14, 49, 87,\n",
       "       52, 13, 47, 49, 24, 20, 64, 52, 60, 47, 29, 60, 53, 11, 40, 91, 45,\n",
       "       97, 24, 36, 38,  9, 52, 67, 43,  1, 79, 68, 68, 61, 18, 51, 14, 28,\n",
       "       17, 87, 46, 52, 16, 70, 71, 84, 10, 62, 96, 57, 23, 86, 85, 26, 76,\n",
       "       66, 54, 17, 65, 57, 89,  2, 80, 50, 66, 88, 79, 93,  6, 92, 42, 22,\n",
       "       20, 25, 97, 54, 71, 72, 80, 93, 64, 63, 80, 38, 45, 35, 25, 95, 75,\n",
       "       72, 11, 76, 79, 50, 22, 59, 66,  1, 34, 37, 57, 35, 42, 44, 49, 31,\n",
       "       79, 85,  3, 55, 73, 93, 94, 99, 40, 54, 88, 94, 86, 17, 68, 17, 18,\n",
       "       60, 83, 82,  7, 67, 34, 76, 94, 20, 69, 73, 59, 34, 69, 25, 78, 92,\n",
       "       74, 75, 33,  9, 43, 20, 82, 30,  3, 46, 29, 47, 27, 81, 71, 25, 94,\n",
       "       57, 21, 29,  6, 54, 47, 47, 60,  6, 75, 97, 53, 44, 98, 39, 32, 87,\n",
       "       78, 21, 90, 14, 20,  1, 70, 25, 45, 96, 32, 31, 41, 79, 87, 22, 94,\n",
       "       46, 71, 24, 41, 36, 31, 16, 87, 22, 96,  3, 12, 71,  9, 87, 95, 39,\n",
       "       64, 62, 88, 76, 93, 83, 95, 68, 69, 59, 52,  7, 40, 73, 86, 14, 49,\n",
       "       97, 25, 57, 40, 17, 32, 83, 97, 27, 47, 13, 70, 15, 92, 18, 94, 48,\n",
       "       65, 82, 34,  5, 46, 83, 27, 26, 20, 87, 84, 17, 59, 64, 44,  4, 51,\n",
       "       49, 74, 82, 37, 53, 93, 73,  5, 37, 56, 35, 15, 40, 42, 71, 37, 46,\n",
       "       71, 91, 97, 36, 43, 27, 66, 57,  3, 55, 70, 41, 67, 72, 88, 67, 75,\n",
       "       69, 92, 20, 15, 57,  9, 69, 97, 91, 51, 54, 45, 38, 15, 42, 61,  8,\n",
       "        3, 88, 72, 41, 24, 93, 28, 95, 43, 48, 69, 42, 66, 82, 66, 88, 78,\n",
       "       14, 53, 46, 14, 27, 68, 21, 38, 42, 30, 88, 79, 56, 65, 93, 37, 87,\n",
       "       66, 16, 60, 25, 99, 30, 41, 72, 45, 26, 87, 65, 60, 89, 70, 33, 59,\n",
       "       28, 16, 49, 95, 41, 11, 86, 15, 95, 91, 19, 69,  1, 77, 63, 87, 28,\n",
       "       70,  5,  3, 12, 62, 26, 96, 61, 87, 74, 99, 97, 64, 95,  3, 88, 59,\n",
       "       38, 29, 31, 88, 57,  9, 62, 31, 13, 35, 47,  2, 17, 50, 22, 30, 36,\n",
       "       22, 97, 51, 38, 28,  4,  0, 12, 90,  2,  7, 44, 54, 49, 76, 98,  3,\n",
       "       32, 91, 43,  7, 42, 66,  9,  5, 26, 66, 22, 47, 27, 46, 14, 52, 74,\n",
       "       54,  3, 94, 36, 63, 41, 18, 37, 45, 82, 47, 66, 97, 20,  9, 87, 40,\n",
       "       13, 95, 16, 38, 87, 72, 60, 78, 53, 48, 83, 90, 41, 84, 78, 55, 70,\n",
       "       93, 57, 86, 67,  8, 47, 70, 39, 53,  5, 40, 88, 58, 12, 70,  5, 82,\n",
       "        8, 60, 58, 45, 92, 85, 44, 62, 39, 38, 54, 98, 80, 93, 16, 37, 58,\n",
       "       40, 72, 72, 22, 42, 38, 45, 16, 52, 17, 22, 15, 18, 37, 48,  2,  2,\n",
       "       31, 50, 78, 70, 40, 60, 62, 69, 34, 95, 58,  4, 70, 20, 18, 66, 23,\n",
       "       87, 45, 64,  6, 39, 29, 60, 33, 18, 59, 64, 59, 65, 10, 86, 66, 38,\n",
       "       76, 97, 79,  7, 65, 50, 53,  4, 39,  1,  5, 67, 92, 50, 59,  2, 91,\n",
       "       14, 12, 68, 87, 13, 18,  4, 89, 22, 40,  7,  2, 83, 19, 68, 89, 16,\n",
       "        1,  2, 73, 65, 24, 84, 17, 21, 97, 44, 36, 38, 93, 32,  5, 76, 19,\n",
       "       33, 76, 41, 21, 20, 54, 77, 62, 99,  4, 52, 83, 55, 11, 46, 39, 92,\n",
       "       34, 54, 49, 11, 62, 11, 83, 25, 32, 40, 27, 30, 92, 59, 86, 74, 17,\n",
       "       69, 85,  4,  5, 49, 29, 41, 38, 22, 45, 10, 65, 77, 72, 90, 80, 64,\n",
       "       81, 20,  2, 20, 53, 38, 94, 49, 26, 88, 21, 38, 52, 74, 96, 19, 77,\n",
       "        5, 70, 27, 92,  6, 97, 71, 23, 90, 78, 85, 61, 79, 54, 56, 64, 41,\n",
       "       61, 56,  2, 86, 19, 77,  5, 44, 15, 75, 70, 12, 13, 93, 21, 46, 28,\n",
       "       20, 70, 14, 56, 19, 79, 59, 33, 33, 11, 44, 43, 93,  3, 39, 77,  3,\n",
       "       58, 51, 32, 46,  8,  9, 13, 63, 59, 79,  5, 33, 47, 29, 79, 62, 25,\n",
       "       43, 46, 94, 68, 55, 69, 41, 41, 14, 47,  3, 64, 23, 80, 42, 84, 88,\n",
       "       89, 10, 78, 97, 65,  8, 14, 28, 80, 17, 62, 27, 33, 14, 21, 25, 96,\n",
       "       64, 84,  6, 76, 95, 43, 94, 40, 68, 45, 24, 50, 36, 62, 52,  9, 79,\n",
       "       74, 30, 70, 90, 58, 97, 57, 60, 64, 86, 93, 31, 22, 90,  3, 52,  9,\n",
       "       93, 60, 42,  1, 15, 38, 65, 10, 86, 63, 98, 11, 96, 67, 95, 94, 80,\n",
       "       16, 30, 89, 62, 62, 42, 10, 48, 86, 33, 52, 24, 94, 78, 71, 19, 75,\n",
       "       81, 71, 23, 93, 58, 48, 76, 63, 58, 28, 84, 47, 40, 63])"
      ]
     },
     "execution_count": 11,
     "metadata": {},
     "output_type": "execute_result"
    }
   ],
   "source": [
    "np.random.seed(101) #THE SEED\n",
    "tam=1000\n",
    "arr3 = np.random.randint(0,100,tam)\n",
    "arr3"
   ]
  },
  {
   "cell_type": "markdown",
   "metadata": {},
   "source": [
    "**Fuerza bruta**"
   ]
  },
  {
   "cell_type": "code",
   "execution_count": null,
   "metadata": {},
   "outputs": [],
   "source": [
    "start_time = time()\n",
    "process_FB(arr3)\n",
    "elapsed_time = time() - start_time\n",
    "timeDV[2]=elapsed_time"
   ]
  },
  {
   "cell_type": "markdown",
   "metadata": {},
   "source": [
    "**Algoritmo greedy**"
   ]
  },
  {
   "cell_type": "code",
   "execution_count": 12,
   "metadata": {},
   "outputs": [
    {
     "name": "stdout",
     "output_type": "stream",
     "text": [
      "[ 0  0  0  1  1  1  1  1  1  1  2  2  2  2  2  2  2  2  2  2  2  3  3  3\n",
      "  3  3  3  3  3  3  3  3  3  3  3  3  3  4  4  4  4  4  4  4  4  5  5  5\n",
      "  5  5  5  5  5  5  5  5  5  5  5  6  6  6  6  6  6  6  7  7  7  7  7  7\n",
      "  7  8  8  8  8  8  8  8  8  9  9  9  9  9  9  9  9  9  9  9  9 10 10 10\n",
      " 10 10 10 10 10 10 10 11 11 11 11 11 11 11 11 11 11 12 12 12 12 12 12 12\n",
      " 12 13 13 13 13 13 13 13 14 14 14 14 14 14 14 14 14 14 14 14 14 15 15 15\n",
      " 15 15 15 15 15 15 16 16 16 16 16 16 16 16 16 17 17 17 17 17 17 17 17 17\n",
      " 17 17 17 18 18 18 18 18 18 18 18 18 18 19 19 19 19 19 19 19 19 19 20 20\n",
      " 20 20 20 20 20 20 20 20 20 20 20 20 20 21 21 21 21 21 21 21 21 21 21 22\n",
      " 22 22 22 22 22 22 22 22 22 22 22 23 23 23 23 23 23 23 24 24 24 24 24 24\n",
      " 24 24 25 25 25 25 25 25 25 25 25 25 26 26 26 26 26 26 26 27 27 27 27 27\n",
      " 27 27 27 27 27 27 28 28 28 28 28 28 28 28 28 28 29 29 29 29 29 29 29 29\n",
      " 29 30 30 30 30 30 30 30 30 31 31 31 31 31 31 31 32 32 32 32 32 32 32 33\n",
      " 33 33 33 33 33 33 33 33 34 34 34 34 34 34 34 35 35 35 35 35 35 35 36 36\n",
      " 36 36 36 36 36 36 36 37 37 37 37 37 37 37 37 38 38 38 38 38 38 38 38 38\n",
      " 38 38 38 38 38 38 38 39 39 39 39 39 39 39 39 40 40 40 40 40 40 40 40 40\n",
      " 40 40 40 40 40 40 40 41 41 41 41 41 41 41 41 41 41 41 41 41 42 42 42 42\n",
      " 42 42 42 42 42 42 42 43 43 43 43 43 43 43 43 44 44 44 44 44 44 44 44 44\n",
      " 44 45 45 45 45 45 45 45 45 45 45 45 45 46 46 46 46 46 46 46 46 46 46 46\n",
      " 46 46 46 47 47 47 47 47 47 47 47 47 47 47 47 47 47 47 48 48 48 48 48 48\n",
      " 49 49 49 49 49 49 49 49 49 49 49 49 50 50 50 50 50 50 50 51 51 51 51 51\n",
      " 51 52 52 52 52 52 52 52 52 52 52 52 52 52 52 53 53 53 53 53 53 53 53 54\n",
      " 54 54 54 54 54 54 54 54 54 54 54 55 55 55 55 55 56 56 56 56 56 56 56 57\n",
      " 57 57 57 57 57 57 57 57 57 57 58 58 58 58 58 58 58 58 58 59 59 59 59 59\n",
      " 59 59 59 59 59 59 59 59 60 60 60 60 60 60 60 60 60 60 60 60 60 60 60 61\n",
      " 61 61 61 61 62 62 62 62 62 62 62 62 62 62 62 62 62 62 63 63 63 63 63 63\n",
      " 63 63 63 63 63 63 64 64 64 64 64 64 64 64 64 64 64 64 64 65 65 65 65 65\n",
      " 65 65 65 65 65 66 66 66 66 66 66 66 66 66 66 66 66 67 67 67 67 67 67 67\n",
      " 67 68 68 68 68 68 68 68 68 68 68 69 69 69 69 69 69 69 69 69 69 69 69 70\n",
      " 70 70 70 70 70 70 70 70 70 70 70 70 70 70 70 71 71 71 71 71 71 71 71 71\n",
      " 71 71 71 71 72 72 72 72 72 72 72 72 72 72 73 73 73 73 73 73 73 74 74 74\n",
      " 74 74 74 74 75 75 75 75 75 75 75 75 75 76 76 76 76 76 76 76 76 76 76 76\n",
      " 77 77 77 77 77 77 77 77 77 78 78 78 78 78 78 78 78 78 79 79 79 79 79 79\n",
      " 79 79 79 79 79 79 79 79 80 80 80 80 80 80 80 80 81 81 81 81 81 82 82 82\n",
      " 82 82 82 82 82 82 83 83 83 83 83 83 83 83 83 83 83 84 84 84 84 84 84 84\n",
      " 84 85 85 85 85 85 86 86 86 86 86 86 86 86 86 86 86 86 86 86 86 87 87 87\n",
      " 87 87 87 87 87 87 87 87 87 87 87 87 87 87 87 88 88 88 88 88 88 88 88 88\n",
      " 88 88 88 88 89 89 89 89 89 89 89 90 90 90 90 90 90 90 91 91 91 91 91 91\n",
      " 92 92 92 92 92 92 92 92 92 92 92 93 93 93 93 93 93 93 93 93 93 93 93 93\n",
      " 93 93 93 93 94 94 94 94 94 94 94 94 94 94 94 94 94 94 95 95 95 95 95 95\n",
      " 95 95 95 95 95 95 95 96 96 96 96 96 96 96 97 97 97 97 97 97 97 97 97 97\n",
      " 97 97 97 97 97 97 98 98 98 98 98 99 99 99 99 99]\n"
     ]
    }
   ],
   "source": [
    "start_time = time()\n",
    "processPlanning(arr3)\n",
    "elapsed_time = time() - start_time\n",
    "timePD[2]=elapsed_time"
   ]
  },
  {
   "cell_type": "markdown",
   "metadata": {},
   "source": [
    "# Datos de tamaño 10000"
   ]
  },
  {
   "cell_type": "code",
   "execution_count": 13,
   "metadata": {},
   "outputs": [
    {
     "data": {
      "text/plain": [
       "array([95, 11, 81, ..., 57,  2, 76])"
      ]
     },
     "execution_count": 13,
     "metadata": {},
     "output_type": "execute_result"
    }
   ],
   "source": [
    "np.random.seed(101) #THE SEED\n",
    "tam=10000\n",
    "arr4 = np.random.randint(0,100,tam)\n",
    "arr4"
   ]
  },
  {
   "cell_type": "markdown",
   "metadata": {},
   "source": [
    "**Fuerza bruta**"
   ]
  },
  {
   "cell_type": "code",
   "execution_count": null,
   "metadata": {},
   "outputs": [],
   "source": [
    "start_time = time()\n",
    "process_FB(arr4)\n",
    "elapsed_time = time() - start_time\n",
    "timeDV[3]=elapsed_time"
   ]
  },
  {
   "cell_type": "markdown",
   "metadata": {},
   "source": [
    "**Algoritmo greedy**"
   ]
  },
  {
   "cell_type": "code",
   "execution_count": 14,
   "metadata": {},
   "outputs": [
    {
     "name": "stdout",
     "output_type": "stream",
     "text": [
      "[ 0  0  0 ... 99 99 99]\n"
     ]
    }
   ],
   "source": [
    "start_time = time()\n",
    "processPlanning(arr4)\n",
    "elapsed_time = time() - start_time\n",
    "timePD[3]=elapsed_time"
   ]
  },
  {
   "cell_type": "markdown",
   "metadata": {},
   "source": [
    "# Datos de tamaño 100000"
   ]
  },
  {
   "cell_type": "code",
   "execution_count": 15,
   "metadata": {},
   "outputs": [
    {
     "data": {
      "text/plain": [
       "array([95, 11, 81, ..., 72, 75, 64])"
      ]
     },
     "execution_count": 15,
     "metadata": {},
     "output_type": "execute_result"
    }
   ],
   "source": [
    "np.random.seed(101) #THE SEED\n",
    "tam=100000\n",
    "arr5 = np.random.randint(0,100,tam)\n",
    "arr5"
   ]
  },
  {
   "cell_type": "markdown",
   "metadata": {},
   "source": [
    "**Fuerza bruta**"
   ]
  },
  {
   "cell_type": "code",
   "execution_count": null,
   "metadata": {},
   "outputs": [],
   "source": [
    "start_time = time()\n",
    "process_FB(arr5)\n",
    "elapsed_time = time() - start_time\n",
    "timeDV[4]=elapsed_time"
   ]
  },
  {
   "cell_type": "markdown",
   "metadata": {},
   "source": [
    "**Algoritmo greedy**"
   ]
  },
  {
   "cell_type": "code",
   "execution_count": 16,
   "metadata": {},
   "outputs": [
    {
     "name": "stdout",
     "output_type": "stream",
     "text": [
      "[ 0  0  0 ... 99 99 99]\n"
     ]
    }
   ],
   "source": [
    "start_time = time()\n",
    "processPlanning(arr5)\n",
    "elapsed_time = time() - start_time\n",
    "timePD[4]=elapsed_time"
   ]
  },
  {
   "cell_type": "markdown",
   "metadata": {},
   "source": [
    "# Datos de tamaño 1000000"
   ]
  },
  {
   "cell_type": "code",
   "execution_count": 17,
   "metadata": {},
   "outputs": [
    {
     "data": {
      "text/plain": [
       "array([95, 11, 81, ...,  7, 96, 13])"
      ]
     },
     "execution_count": 17,
     "metadata": {},
     "output_type": "execute_result"
    }
   ],
   "source": [
    "np.random.seed(101) #THE SEED\n",
    "tam=1000000\n",
    "arr6 = np.random.randint(0,100,tam)\n",
    "arr6"
   ]
  },
  {
   "cell_type": "markdown",
   "metadata": {},
   "source": [
    "**Fuerza bruta**"
   ]
  },
  {
   "cell_type": "code",
   "execution_count": null,
   "metadata": {},
   "outputs": [],
   "source": [
    "start_time = time()\n",
    "process_FB(arr6)\n",
    "elapsed_time = time() - start_time\n",
    "timeDV[5]=elapsed_time"
   ]
  },
  {
   "cell_type": "markdown",
   "metadata": {},
   "source": [
    "**Algoritmo greedy**"
   ]
  },
  {
   "cell_type": "code",
   "execution_count": 18,
   "metadata": {},
   "outputs": [
    {
     "name": "stdout",
     "output_type": "stream",
     "text": [
      "[ 0  0  0 ... 99 99 99]\n"
     ]
    }
   ],
   "source": [
    "start_time = time()\n",
    "processPlanning(arr6)\n",
    "elapsed_time = time() - start_time\n",
    "timePD[5]=elapsed_time"
   ]
  },
  {
   "cell_type": "markdown",
   "metadata": {},
   "source": [
    "# Gráficas\n",
    "**La gráfica con los diferentes tiempos se encuentra a continuación**"
   ]
  },
  {
   "cell_type": "markdown",
   "metadata": {},
   "source": [
    "**NOTA: La implementación por fuerza bruta no terminaba pasadas 3 horas para 100 datos, es por ellos que se detuvo y se colocó dicho tiempo**"
   ]
  },
  {
   "cell_type": "code",
   "execution_count": 19,
   "metadata": {},
   "outputs": [],
   "source": [
    "timeDV[1]=10800"
   ]
  },
  {
   "cell_type": "code",
   "execution_count": 21,
   "metadata": {},
   "outputs": [
    {
     "name": "stdout",
     "output_type": "stream",
     "text": [
      "Método:\t\t10 datos\t100 datos\t1000 datos\t10000 datos\t\t100000 datos\t\t1000000 datos\n",
      "Greedy\t\t0.0009644032 \t0.0000000000 \t0.0089755058 \t0.0608942509 \t\t0.7131726742 \t\t8.3475859165 \n",
      "FB\t\t8.4108631611 \t10800.00000 \t0.0000000000 \t0.0000000000 \t\t0.0000000000 \t\t0.0000000000\n"
     ]
    }
   ],
   "source": [
    "print(\"Método:\\t\\t10 datos\\t100 datos\\t1000 datos\\t10000 datos\\t\\t100000 datos\\t\\t1000000 datos\\nGreedy\\t\\t%.10f\"%timePD[0],\"\\t%.10f\" %timePD[1], \"\\t%.10f\" %timePD[2], \"\\t%.10f\" %timePD[3], \"\\t\\t%.10f\" %timePD[4], \"\\t\\t%.10f\" %timePD[5], \"\\nFB\\t\\t%.10f\"%timeDV[0],\"\\t%.5f\" %timeDV[1], \"\\t%.10f\" %timeDV[2], \"\\t%.10f\" %timeDV[3], \"\\t\\t%.10f\" %timeDV[4], \"\\t\\t%.10f\" %timeDV[5])"
   ]
  },
  {
   "cell_type": "code",
   "execution_count": 24,
   "metadata": {},
   "outputs": [
    {
     "data": {
      "image/png": "[encoded data removed]",
      "text/plain": [
       "<Figure size 432x288 with 1 Axes>"
      ]
     },
     "metadata": {
      "needs_background": "light"
     },
     "output_type": "display_data"
    }
   ],
   "source": [
    "n=[10,100,1000,10000,100000,1000000]\n",
    "plt.plot(n[:2],timeDV[:2],label=\"Fuerza bruta\")\n",
    "plt.plot(n,timePD,label=\"Greedy\")\n",
    "\n",
    "plt.xlabel('Tamaño de datos')\n",
    "plt.ylabel('Tiempo (s)')\n",
    "\n",
    "plt.title(\"Process planning\")\n",
    "\n",
    "plt.legend()\n",
    "\n",
    "plt.show()"
   ]
  },
  {
   "cell_type": "markdown",
   "metadata": {},
   "source": [
    "# Conclusiones"
   ]
  },
  {
   "cell_type": "markdown",
   "metadata": {},
   "source": [
    "Gracias al desarrollo de esta práctica se logró visualizar una aplicación del algoritmo Greedy para obtener el menor tiempo de espera al momento de tener un planificador de procesos, ya que el algoritmo por Fuerza Bruta lo que hace es obtener todas las formas en que se pueden planificar los procesos, y para cada una de ellas se está calculando el tiempo de espera que se tendrá, esto resulta impráctico, pues tal y como lo muestra el algoritmo Greedy, al ir ordenando los procesos con base en el tiempo de ejecución de cada uno de estos, se puede dejr hasta al final al proceso cuya duración es mayor, esto resulta últi, pues al dejar al final al proceso que dura más, significa que todos los demás ya habrían terminado cuando este se ejecute y así, no tuvieron que esperar a que el que dura más terminará, puesto esto incrementaría el tiempo que esperan cada uno de los procesos.\n",
    "Es importante destacar que los algoritmos Greedy resultan ser una buena opción en los casos convenientes, sin embargo, lo dificil no es determinar el algoritmo o su implementación, lo complicado en muchas ocasiones resulta ser demostrar que efectivamente el algoritmo funciona en todos los casos y no lo hace unicamente en determinadas ocasiones. De cualquier manera, se puede observar que en este caso el algoritmo Greedy resulto ser más eficiente que el desarrollado por fuerza bruta, esto es un reflejo de la agilidad y la rapidez que esta clase de algoritmo puede brindar."
   ]
  }
 ],
 "metadata": {
  "kernelspec": {
   "display_name": "Python 3",
   "language": "python",
   "name": "python3"
  },
  "language_info": {
   "codemirror_mode": {
    "name": "ipython",
    "version": 3
   },
   "file_extension": ".py",
   "mimetype": "text/x-python",
   "name": "python",
   "nbconvert_exporter": "python",
   "pygments_lexer": "ipython3",
   "version": "3.7.3"
  }
 },
 "nbformat": 4,
 "nbformat_minor": 4
}
