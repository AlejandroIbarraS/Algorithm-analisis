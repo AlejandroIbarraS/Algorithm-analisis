{
 "cells": [
  {
   "cell_type": "markdown",
   "metadata": {},
   "source": [
    "<img src=\"header_escom26.jpg\" alt=\"header\" style=\"height:200px;\">\n",
    "\n",
    "# Práctica 7:  Greedy - Problema de la mochila fraccionada</br>\n",
    "# Ibarra Soto Alejandro\n",
    "# 2015080672\n",
    "\n",
    "**Análisis de Algoritmos** </br>\n",
    "**Profesor: Dr. Flavio Arturo Sánchez Garfias** </br>\n",
    "**3CM2**"
   ]
  },
  {
   "cell_type": "markdown",
   "metadata": {},
   "source": [
    "<h1>Mochila fraccionada</h1>\n",
    "Este problema al igual que la mochila entera busca llevar ciertos productos en una mochila, obteniendo la mayor ganancia posible, sin embargo, en esta ocasión los objetos se pueden \"partir\", es decir, se pueden llevar unicamente un porcentaje del objeto.\n",
    "<h2>Método de fuerza bruta</h2>\n",
    "El método de fuerza bruta consiste en realizar todas las posibles ganancias, que al ser mochila fraccionada los valores son continuos, es por ello que primero se calculan todas las posibles combinanciones binarias.\n",
    "<center><img src=\"i2.png\"></center></br>\n",
    "Una vez que se tienen, por cada una de esta combinaciones nos indican que objetos se van a llevar, nos falta determinar que parte de cada uno se llevará. para ello se obtiene todas las permutaciones del orden en que se pueden ir metiendo los unicos objetos que se llevarán, tratando de meter todo del primer objeto que se ingrese, luego del segundo y así hasta llenar la mochila.\n",
    "<center><img src=\"i3.png\"></center></br>\n",
    "Tras realizar todas las posibles combinaciones se elige aquella que de una mayor ganancia.\n",
    "<h2>Método Greedy</h2>\n",
    "Este resulta ser bastante fácil pues teniendo el arreglo de peso (w) y el de valor (v) se divide el valor entre el peso (v/w) para obtener el arreglo que no de el valor por unidad de peso, al tener esto, se sabe cual es el objeto que da mayor ganancia en una unidad de peso comparado con los demás, entonces lo que se tiene que hacer es <b>ordenar este arreglo</b> e ir metiendo todo lo que se pueda empezando por el de mayor valor por unidad de peso.\n",
    "<center><img src=\"i1.png\"></center></br>"
   ]
  },
  {
   "cell_type": "markdown",
   "metadata": {},
   "source": [
    "Import packages <a href=\"https://numpy.org\">Numpy</a> and <a href=\"https://matplotlib.org\">Matplotlib</a>"
   ]
  },
  {
   "cell_type": "code",
   "execution_count": 1,
   "metadata": {},
   "outputs": [],
   "source": [
    "import numpy as np\n",
    "import matplotlib.pyplot as plt\n",
    "from itertools import product\n",
    "import itertools\n",
    "%matplotlib inline"
   ]
  },
  {
   "cell_type": "markdown",
   "metadata": {},
   "source": [
    "**Definir funciones de ordenamiento**"
   ]
  },
  {
   "cell_type": "code",
   "execution_count": 2,
   "metadata": {},
   "outputs": [],
   "source": [
    "def mergeSort(arr,ini,fin,pos): #pos 0 es para ordenar el primer elemento, 1 para ordenar el segundo\n",
    "    if(pos!=0 and pos!=1):\n",
    "        pos=1\n",
    "    if ini<fin:\n",
    "        mitad = int((ini+(fin))/2)\n",
    "        #Ordenar la primera mitad del arreglo\n",
    "        mergeSort(arr,ini,mitad,pos)\n",
    "        #Ordenar la segunda mitad del arreglo\n",
    "        mergeSort(arr,mitad+1,fin,pos)\n",
    "        #Ordenar todo el arreglo\n",
    "        merge(arr,ini,mitad,fin,pos)\n",
    "\n",
    "def merge(arr,ini,mitad,fin,pos):\n",
    "    #Obtener el tamaño de los dos subarreglos\n",
    "    n1 = mitad-ini+1\n",
    "    n2 = fin-mitad \n",
    "    #Crear los dos subarreglos\n",
    "    #arrInicio = [0] * (n1)\n",
    "    #arrFin = [0] * (n2) \n",
    "    arrInicio = np.zeros((n1,2))\n",
    "    arrFin = np.zeros((n2,2))\n",
    "    #Copiar los datos a los subarreglos\n",
    "    for i in range(n1): \n",
    "        arrInicio[i,0]=arr[ini+i,0]\n",
    "        arrInicio[i,1]=arr[ini+i,1]\n",
    "    for j in range(n2): \n",
    "        arrFin[j,0]=arr[mitad+j+1,0]\n",
    "        arrFin[j,1]=arr[mitad+j+1,1]\n",
    "    i = 0 \n",
    "    j = 0 \n",
    "    k = ini\n",
    "    #Ordenar los dos subarreglos en el arreglo inicial\n",
    "    while i < n1 and j < n2 : \n",
    "        if arrInicio[i,pos]<=arrFin[j,pos]: \n",
    "            arr[k,0] = arrInicio[i,0]\n",
    "            arr[k,1] = arrInicio[i,1] \n",
    "            i=i+1\n",
    "        else: \n",
    "            arr[k,0]=arrFin[j,0] \n",
    "            arr[k,1]=arrFin[j,1] \n",
    "            j=j+1\n",
    "        k=k+1\n",
    "    #Copiar los elementos que sobraron en los dos subarreglos\n",
    "    while i<n1: \n",
    "        arr[k,0]=arrInicio[i,0]\n",
    "        arr[k,1]=arrInicio[i,1]\n",
    "        i=i+1\n",
    "        k=k+1\n",
    "    while j<n2: \n",
    "        arr[k,0] = arrFin[j,0]\n",
    "        arr[k,1] = arrFin[j,1] \n",
    "        j=j+1\n",
    "        k=k+1\n",
    "        \n",
    "def mergeSortArr(arr,ini,fin):\n",
    "    if ini<fin:\n",
    "        mitad = int((ini+(fin))/2)\n",
    "        #Ordenar la primera mitad del arreglo\n",
    "        mergeSortArr(arr,ini,mitad)\n",
    "        #Ordenar la segunda mitad del arreglo\n",
    "        mergeSortArr(arr,mitad+1,fin)\n",
    "        #Ordenar todo el arreglo\n",
    "        mergeArr(arr,ini,mitad,fin)\n",
    "\n",
    "def mergeArr(arr,ini,mitad,fin):\n",
    "    #Obtener el tamaño de los dos subarreglos\n",
    "    n1 = mitad-ini+1\n",
    "    n2 = fin-mitad \n",
    "    #Crear los dos subarreglos\n",
    "    arrInicio = [0] * (n1)\n",
    "    arrFin = [0] * (n2) \n",
    "    #Copiar los datos a los subarreglos\n",
    "    for i in range(n1): \n",
    "        arrInicio[i]=arr[ini+i]\n",
    "    for j in range(n2): \n",
    "        arrFin[j]=arr[mitad+j+1]\n",
    "    i = 0 \n",
    "    j = 0 \n",
    "    k = ini\n",
    "    #Ordenar los dos subarreglos en el arreglo inicial\n",
    "    while i < n1 and j < n2 : \n",
    "        if arrInicio[i]<=arrFin[j]: \n",
    "            arr[k] = arrInicio[i] \n",
    "            i=i+1\n",
    "        else: \n",
    "            arr[k]=arrFin[j] \n",
    "            j=j+1\n",
    "        k=k+1\n",
    "    #Copiar los elementos que sobraron en los dos subarreglos\n",
    "    while i<n1: \n",
    "        arr[k]=arrInicio[i] \n",
    "        i=i+1\n",
    "        k=k+1\n",
    "    while j<n2: \n",
    "        arr[k] = arrFin[j] \n",
    "        j=j+1\n",
    "        k=k+1"
   ]
  },
  {
   "cell_type": "markdown",
   "metadata": {},
   "source": [
    "**Definir la función de fuerza bruta**"
   ]
  },
  {
   "cell_type": "code",
   "execution_count": 3,
   "metadata": {},
   "outputs": [],
   "source": [
    "def fractionedKapsack_FB(v,w,wM):\n",
    "    v_w = np.zeros((len(v)))\n",
    "    for i in range (len(v)):\n",
    "        v_w[i]=float(v[i]/w[i])\n",
    "    lista = list(product([0,1], repeat=len(w)))\n",
    "    tamOpcion = len(lista[0])\n",
    "    tamLista = len(lista)\n",
    "    mejorGanancia=0\n",
    "    mejorOpcion = [0]*(tamOpcion)\n",
    "    for i in range (tamLista):\n",
    "        permutaciones = list(np.arange(0,tamOpcion))\n",
    "        permutaciones=list(itertools.permutations(permutaciones))\n",
    "        tamPermutaciones = len(permutaciones)\n",
    "        for j in range (tamPermutaciones):\n",
    "            pesoAuxiliar=wM\n",
    "            gananciaAuxiliar=0\n",
    "            aux=[0]*(tamOpcion)\n",
    "            for k in range (tamOpcion):\n",
    "                if (pesoAuxiliar>0):\n",
    "                    fraccion = pesoAuxiliar / w[permutaciones[j][k]]\n",
    "                    if(fraccion>1):\n",
    "                        fraccion=1\n",
    "                    aux[permutaciones[j][k]]= fraccion * lista[i][permutaciones[j][k]]\n",
    "                    pesoAuxiliar=pesoAuxiliar-fraccion*w[permutaciones[j][k]]*lista[i][permutaciones[j][k]]\n",
    "                    gananciaAuxiliar=gananciaAuxiliar+fraccion*v[permutaciones[j][k]]*lista[i][permutaciones[j][k]]\n",
    "            if(gananciaAuxiliar>mejorGanancia):\n",
    "                mejorOpcion=aux\n",
    "                mejorGanancia=gananciaAuxiliar\n",
    "    return mejorOpcion"
   ]
  },
  {
   "cell_type": "markdown",
   "metadata": {},
   "source": [
    "**Definir la función Greedy**"
   ]
  },
  {
   "cell_type": "code",
   "execution_count": 4,
   "metadata": {},
   "outputs": [],
   "source": [
    "def fractionedKapsack(v,w,wM):\n",
    "    n = len(v)\n",
    "    v_w = np.zeros((n,2))\n",
    "    #print(v_w)\n",
    "    for i in range (n):\n",
    "        v_w[i,0]=float(v[i]/w[i])\n",
    "        v_w[i,1]=i\n",
    "    mergeSort(v_w,0,len(v_w)-1,0)\n",
    "    i=len(w)-1\n",
    "    lista = [0]*(len(w))\n",
    "    while(wM>0):\n",
    "        indice = int(v_w[i,1])\n",
    "        aux=float(wM/w[indice])\n",
    "        if(aux>1):\n",
    "            aux=1\n",
    "            lista[indice]=1\n",
    "        else:\n",
    "            lista[indice]=aux\n",
    "        wM=wM-aux*w[indice]\n",
    "        i=i-1\n",
    "    return lista"
   ]
  },
  {
   "cell_type": "code",
   "execution_count": 5,
   "metadata": {},
   "outputs": [
    {
     "data": {
      "text/plain": [
       "[0, 0.8, 1]"
      ]
     },
     "execution_count": 5,
     "metadata": {},
     "output_type": "execute_result"
    }
   ],
   "source": [
    "peso=[3,5,2]\n",
    "precio=[5,10,6]\n",
    "fractionedKapsack_FB(precio,peso,6)"
   ]
  },
  {
   "cell_type": "code",
   "execution_count": 6,
   "metadata": {},
   "outputs": [
    {
     "data": {
      "text/plain": [
       "[0, 0.8, 1]"
      ]
     },
     "execution_count": 6,
     "metadata": {},
     "output_type": "execute_result"
    }
   ],
   "source": [
    "fractionedKapsack(precio,peso,6)"
   ]
  },
  {
   "cell_type": "markdown",
   "metadata": {},
   "source": [
    "# Pruebas "
   ]
  },
  {
   "cell_type": "markdown",
   "metadata": {},
   "source": [
    "A continuación, se crearán arreglos de 10, 100, 1000, 10000, 100000, 1000000 digitos"
   ]
  },
  {
   "cell_type": "code",
   "execution_count": 7,
   "metadata": {},
   "outputs": [],
   "source": [
    "from time import time\n",
    "timeDV = [0] * (6) #tiempoFuerzaBruta\n",
    "timePD = [0] * (6) #tiempoGreedy"
   ]
  },
  {
   "cell_type": "markdown",
   "metadata": {},
   "source": [
    "# Datos de tamaño 10"
   ]
  },
  {
   "cell_type": "code",
   "execution_count": 8,
   "metadata": {},
   "outputs": [
    {
     "name": "stdout",
     "output_type": "stream",
     "text": [
      "[96 12 82 71 64 88 76 10 78 41]\n",
      "[ 5 64 41 61 93 65  6 13 94 41]\n"
     ]
    }
   ],
   "source": [
    "np.random.seed(101) #THE SEED\n",
    "tam=10\n",
    "peso1 = np.random.randint(1,100,tam)\n",
    "precio1 = np.random.randint(1,100,tam)\n",
    "print(peso1)\n",
    "print(precio1)"
   ]
  },
  {
   "cell_type": "markdown",
   "metadata": {},
   "source": [
    "**A continuación, ingresa el peso de la mochila**"
   ]
  },
  {
   "cell_type": "code",
   "execution_count": 9,
   "metadata": {},
   "outputs": [],
   "source": [
    "w1 = 75"
   ]
  },
  {
   "cell_type": "markdown",
   "metadata": {},
   "source": [
    "**Fuerza bruta**"
   ]
  },
  {
   "cell_type": "code",
   "execution_count": null,
   "metadata": {},
   "outputs": [],
   "source": [
    "start_time = time()\n",
    "print(fractionedKapsack_FB(precio1,peso1,w1))\n",
    "elapsed_time = time() - start_time\n",
    "timeDV[0]=elapsed_time"
   ]
  },
  {
   "cell_type": "markdown",
   "metadata": {},
   "source": [
    "**Greedy**"
   ]
  },
  {
   "cell_type": "code",
   "execution_count": 11,
   "metadata": {},
   "outputs": [
    {
     "name": "stdout",
     "output_type": "stream",
     "text": [
      "[0, 1, 0, 0, 0.984375, 0, 0, 0, 0, 0]\n"
     ]
    }
   ],
   "source": [
    "start_time = time()\n",
    "print(fractionedKapsack(precio1,peso1,w1))\n",
    "elapsed_time = time() - start_time\n",
    "timePD[0]=elapsed_time"
   ]
  },
  {
   "cell_type": "markdown",
   "metadata": {},
   "source": [
    "# Datos de tamaño 100"
   ]
  },
  {
   "cell_type": "code",
   "execution_count": 12,
   "metadata": {},
   "outputs": [
    {
     "name": "stdout",
     "output_type": "stream",
     "text": [
      "[96 12 82 71 64 88 76 10 78 41  5 64 41 61 93 65  6 13 94 41 50 84  9 30\n",
      " 60 35 45 73 20 11 77 96 88  1 74  9 63 37 84 29 64  8 11 53 57 39 74 53\n",
      " 19 72 16 45  1 13 18 76 80 98 94 25 37 64 20 36 31 11 61 21 28  9 87 27\n",
      " 88 47 48 55 87 10 46  3 19 59 93 12 11 95 36 29  4 84 85 48 15 70 61 70\n",
      " 52  7 89 72]\n",
      "[69 24 36 80 99 68 83 58 78 47  4 47 30 87 22 22 82 24 95 72 21 28 76  6\n",
      " 50 87 90 64 83 78  4 57 15 50 88 53 14 48 50 25 21 65 53 61 48 30 61 54\n",
      " 12 41 92 46 98 25 37 39 10 53 68 44  2 80 69 69 62 19 52 15 29 18 88 47\n",
      " 53 17 71 72 85 11 63 97 58 24 87 86 27 77 67 55 18 66 58 90  3 81 51 67\n",
      " 89 80 94  7]\n"
     ]
    }
   ],
   "source": [
    "np.random.seed(101) #THE SEED\n",
    "tam=100\n",
    "peso2 = np.random.randint(1,100,tam)\n",
    "precio2 = np.random.randint(1,100,tam)\n",
    "print(peso2)\n",
    "print(precio2)"
   ]
  },
  {
   "cell_type": "markdown",
   "metadata": {},
   "source": [
    "**A continuación, ingresa el peso de la mochila**"
   ]
  },
  {
   "cell_type": "code",
   "execution_count": 13,
   "metadata": {},
   "outputs": [],
   "source": [
    "w2 = 750"
   ]
  },
  {
   "cell_type": "markdown",
   "metadata": {},
   "source": [
    "**Fuerza bruta**"
   ]
  },
  {
   "cell_type": "code",
   "execution_count": null,
   "metadata": {},
   "outputs": [],
   "source": [
    "start_time = time()\n",
    "print(fractionedKapsack_FB(precio2,peso2,w2))\n",
    "elapsed_time = time() - start_time\n",
    "timeDV[1]=elapsed_time"
   ]
  },
  {
   "cell_type": "markdown",
   "metadata": {},
   "source": [
    "**Greedy**"
   ]
  },
  {
   "cell_type": "code",
   "execution_count": 14,
   "metadata": {},
   "outputs": [
    {
     "name": "stdout",
     "output_type": "stream",
     "text": [
      "[0, 1, 0, 0, 1, 0, 0, 1, 0, 0, 0, 0, 0, 0, 0, 0, 1, 1, 0, 1, 0, 0, 1, 0, 0, 1, 1, 0, 1, 1, 0, 0, 0, 1, 0, 1, 0, 0, 0, 0, 0, 1, 1, 0, 0, 0, 0, 0, 0, 0, 1, 0, 1, 1, 1, 0, 0, 0, 0, 1, 0, 0, 1, 1, 1, 1, 0, 0, 0, 1, 0, 1, 0, 0, 0.5625, 0, 0, 0, 0, 1, 1, 0, 0, 1, 1, 0, 1, 1, 1, 0, 0, 1, 0, 0, 0, 0, 1, 1, 0, 0]\n"
     ]
    }
   ],
   "source": [
    "start_time = time()\n",
    "print(fractionedKapsack(precio2,peso2,w2))\n",
    "elapsed_time = time() - start_time\n",
    "timePD[1]=elapsed_time"
   ]
  },
  {
   "cell_type": "markdown",
   "metadata": {},
   "source": [
    "# Datos de tamaño 1000"
   ]
  },
  {
   "cell_type": "code",
   "execution_count": 15,
   "metadata": {},
   "outputs": [
    {
     "name": "stdout",
     "output_type": "stream",
     "text": [
      "[96 12 82 71 64 88 76 10 78 41  5 64 41 61 93 65  6 13 94 41 50 84  9 30\n",
      " 60 35 45 73 20 11 77 96 88  1 74  9 63 37 84 29 64  8 11 53 57 39 74 53\n",
      " 19 72 16 45  1 13 18 76 80 98 94 25 37 64 20 36 31 11 61 21 28  9 87 27\n",
      " 88 47 48 55 87 10 46  3 19 59 93 12 11 95 36 29  4 84 85 48 15 70 61 70\n",
      " 52  7 89 72 69 24 36 80 99 68 83 58 78 47  4 47 30 87 22 22 82 24 95 72\n",
      " 21 28 76  6 50 87 90 64 83 78  4 57 15 50 88 53 14 48 50 25 21 65 53 61\n",
      " 48 30 61 54 12 41 92 46 98 25 37 39 10 53 68 44  2 80 69 69 62 19 52 15\n",
      " 29 18 88 47 53 17 71 72 85 11 63 97 58 24 87 86 27 77 67 55 18 66 58 90\n",
      "  3 81 51 67 89 80 94  7 93 43 23 21 26 98 55 72 73 81 94 65 64 81 39 46\n",
      " 36 26 96 76 73 12 77 80 51 23 60 67  2 35 38 58 36 43 45 50 32 80 86  4\n",
      " 56 74 94 95 41 55 89 95 87 18 69 18 19 61 84 83  8 68 35 77 95 21 70 74\n",
      " 60 35 70 26 79 93 75 76 34 10 44 21 83 31  4 47 30 48 28 82 72 26 95 58\n",
      " 22 30  7 55 48 48 61  7 76 98 54 45 99 40 33 88 79 22 91 15 21  2 71 26\n",
      " 46 97 33 32 42 80 88 23 95 47 72 25 42 37 32 17 88 23 97  4 13 72 10 88\n",
      " 96 40 65 63 89 77 94 84 96 69 70 60 53  8 41 74 87 15 50 98 26 58 41 18\n",
      " 33 84 98 28 48 14 71 16 93 19 95 49 66 83 35  6 47 84 28 27 21 88 85 18\n",
      " 60 65 45  5 52 50 75 83 38 54 94 74  6 38 57 36 16 41 43 72 38 47 72 92\n",
      " 98 37 44 28 67 58  4 56 71 42 68 73 89 68 76 70 93 21 16 58 10 70 98 92\n",
      " 52 55 46 39 16 43 62  9  4 89 73 42 25 94 29 96 44 49 70 43 67 83 67 89\n",
      " 79 15 54 47 15 28 69 22 39 43 31 89 80 57 66 94 38 88 67 17 61 26 31 42\n",
      " 73 46 27 88 66 61 90 71 34 60 29 17 50 96 42 12 87 16 96 92 20 70  2 78\n",
      " 64 88 29 71  6  4 13 63 27 97 62 88 75 98 65 96  4 89 60 39 30 32 89 58\n",
      " 10 63 32 14 36 48  3 18 51 23 31 37 23 98 52 39 29  5  1 13 91  3  8 45\n",
      " 55 50 77 99  4 33 92 44  8 43 67 10  6 27 67 23 48 28 47 15 53 75 55  4\n",
      " 95 37 64 42 19 38 46 83 48 67 98 21 10 88 41 14 96 17 39 88 73 61 79 54\n",
      " 49 84 91 42 85 79 56 71 94 58 87 68  9 48 71 40 54  6 41 89 59 13 71  6\n",
      " 83  9 61 59 46 93 86 45 63 40 39 55 99 81 94 17 38 59 41 73 73 23 43 39\n",
      " 46 17 53 18 23 16 19 38 49  3  3 32 51 79 71 41 61 63 70 35 96 59  5 71\n",
      " 21 19 67 24 88 46 65  7 40 30 61 34 19 60 65 60 66 11 87 67 39 77 98 80\n",
      "  8 66 51 54  5 40  2  6 68 93 51 60  3 92 15 13 69 88 14 19  5 90 23 41\n",
      "  8  3 84 20 69 90 17  2  3 74 66 25 85 18 22 98 45 37 39 94 33  6 77 20\n",
      " 34 77 42 22 21 55 78 63  5 53 84 56 12 47 40 93 35 55 50 12 63 12 84 26\n",
      " 33 41 28 31 93 60 87 75 18 70 86  5  6 50 30 42 39 23 46 11 66 78 73 91\n",
      " 81 65 82 21  3 21 54 39 95 50 27 89 22 39 53 75 97 20 78  6 71 28 93  7\n",
      " 98 72 24 91 79 86 62 80 55 57 65 42 62 57  3 87 20 78  6 45 16 76 71 13\n",
      " 14 94 22 47 29 21 71 15 57 20 80 60 34 34 12 45 44 94  4 40 78  4 59 52\n",
      " 33 47  9 10 14 64 60 80  6 34 48 30 80 63 26 44 47 95 69 56 70 42 42 15\n",
      " 48  4 65 24 81 43 85 89 90 11 79 98 66  9 15 29 81 18 63 28 34 15 22 26\n",
      " 97 65 85  7 77 96 44 95 41 69 46 25 51 37 63 53 10 80 75 31 71 91 59 98\n",
      " 58 61 65 87 94 32 23 91  4 53 10 94 61 43  2 16 39 66 11 87 64 99 12 97\n",
      " 68 96 95 81 17 31 90 63 63 43 11 49 87 34 53 25 95 79 72 20 76 82 72 24\n",
      " 94 59 49 77 64 59 29 85 48 41 64 47 23  7 11 62]\n",
      "[16 32 24 17 96 27 91 16 95 43 66 22 35 27 82 80 30 64 31 93 99 74 43 14\n",
      " 28 77  1 86 69 99 53 24 15 93 26 19 17 63 26 80 86 39 66 48 51 89 64 88\n",
      " 15 64 15 54 69 98  8 67 62  3 16 81 48 76 86 18  9 88 53 16 94 18 35 25\n",
      " 24 47 56 26 65 91 90 57 88 19 33 32 75 13 87 17 51 37 78 91 61  8 85 86\n",
      " 78 73 95 35  5 38 80 43 83 12 32 67 14 57 86 67 17 64 44 47 51 38 77 96\n",
      " 51 54  7  2 99 17 36 22 34 68 88 45 63 37 44 89 92 83 91 12 13  7 65 16\n",
      " 19  7 30 12 49 25 51 54 38 78 48 70 58 43 65 85 23 49 75 19 43 80 56 66\n",
      " 39 30 39 84 35 74 26 21 88 13 16 91 63 22 38 39 18 29 70 13 78 65 38 66\n",
      " 44 73 94 69  6  8 55 74 25 95 47 38 16 92 79 73 54 18 90 16 16 43  7 13\n",
      " 29 24 77  9 11 42 98 56 67 96 97 66 76 84 11 72 28 57 94 81 98 71 96 78\n",
      " 71 92 97 12 14 95 37 13 48 61 38  7  4 83 40 53 10 64 77 49 95 59 76 96\n",
      " 92 25 11  1 12 37 47 77  1 55 62  1 16 81 47 90 39 16 22 51 99 47 31 70\n",
      " 66 94 48  9 66 64 43 94 99 32 42 61 15 48 25 62 34 26 24 74 49 79 25 66\n",
      " 97 36 58 17  4 58 22 62 62 41 75 55 19 49 64 87 39 97 68 17 18 39 50 81\n",
      " 61 72 22 16  9 57 70 27 92 64 12 19  2 24 88 53 17 32  8 65 42 24 65 34\n",
      " 89 38 92 16 42 54 92  4 80 24 88 36 54 32  9 96 50 82 63 88  5 36 13 94\n",
      " 48 11 37 63 34 88 55 72 90 25 69 77 87 16 25 26 11 75 75 15 31 53 30  3\n",
      " 96 72 34 54 62 58 72  4 20 62  2 58 70 52 70 16 86 38 54 38 69 14 88 73\n",
      " 63 73 18 44 65 48 88 27 30 51 24 32 31 97 92 14 86 79 99 94 81 51 16 77\n",
      " 30 64 84 98 67 62 90 92  2 14 11 79 93 91 73 52 18 77 84 12 62 36 36 84\n",
      " 49 59  1 59 25 24 79 55 28 28 22 63 43  4 11 29 22 77 17 77 87 56 21 45\n",
      " 31 31 97 37 18 73 29 76 90 59 35 41 94 63 30 12 38 99 65 13 68 97 24 70\n",
      " 18 41 83 46  5 26 17 20 17 81 35 94 87 44 32 21 93 46 73 77 21 17 51 55\n",
      " 78 59 97 24 47 57 78 54 28 51 57 20 47 85 56 86 33 25  2 36  6 75 27 43\n",
      " 60 43 13 21  8 94 93 69 88 60 69 87 17 76 78 66 88 88 67 92 64 70 88 90\n",
      " 56 87 58 45 14 48 32 78 59 90 38 23 23 33 49 70 25 92  4 59 74 69 85 49\n",
      " 95 74 76 48 22 31  6 65 82 96 90 71 29 70 32 65 41 34 18 80 56  5 78 52\n",
      " 48 85 75 21 81 44 97 23 42 54 26 25 98 37 54 19 25 56 71 83 41 55 69 94\n",
      " 39 34 69 35 30 52 64 31 55 14 25 15 18  8 14 25 77 73  1 97 68 68 32  7\n",
      " 35 66 73 77 89 38 99 58 70 52 60 19 14 54 68 81 68 24 56 87 39  9 32 47\n",
      " 81 43  3 88 70 52 92 47 92 56 28 16  8 98  3 34 68 52 48 50  4 71  5 67\n",
      "  6 77 52 40 43  9  2 21 51 18 42 15 23 99  8 65  7 72 77 29 67 79 62 67\n",
      " 25 16 54 45 50 92 25 29 43 87 69 73 20  3 26 32 90 24 23 23 53 81 63  8\n",
      " 58  8 41 83 96 71 29 79  4 69 98 79 94 82 19 79 30 93 82 21 91  5 46 77\n",
      " 30 85 14 43 24 39 77 17 32 92 27 11 89 37 68 31  7 57 21 93 71  3 81 20\n",
      " 86 69 64 54 78 44 83 87 38 39 51 92 77 17 18 81 95 58  3 95 22 92 99 12\n",
      "  3 83  3 83 88 99 58 52 78 26 38 34 16 34  5 81 74 40 55  7  2 22 80 20\n",
      " 10 33 93 90 16 83  5 76 65  4 90 14 41 10 18 28 60 16 37 30 88 82 42 88\n",
      " 95 97 12 34 94 81 49  5 49 50 46 44 84 22 28 64 14 22 41 55 32 82 44 64\n",
      " 54 48 52 92 60 14 61 47  4 36 91 69 59 44 20 18 28 78 35 21 10 31 41 60\n",
      " 89 93 91 27 73 40 46 24 38 41 11 12 85 24  7 25 19 38 25 81 25 26  6 68\n",
      " 99 79 31 37 53 17 72 85 28 40 21 46 20 15 23 98]\n"
     ]
    }
   ],
   "source": [
    "np.random.seed(101) #THE SEED\n",
    "tam=1000\n",
    "peso3 = np.random.randint(1,100,tam)\n",
    "precio3 = np.random.randint(1,100,tam)\n",
    "print(peso3)\n",
    "print(precio3)"
   ]
  },
  {
   "cell_type": "markdown",
   "metadata": {},
   "source": [
    "**A continuación, ingresa el peso de la mochila**"
   ]
  },
  {
   "cell_type": "code",
   "execution_count": 16,
   "metadata": {},
   "outputs": [],
   "source": [
    "w3 = 750"
   ]
  },
  {
   "cell_type": "markdown",
   "metadata": {},
   "source": [
    "**Fuerza bruta**"
   ]
  },
  {
   "cell_type": "code",
   "execution_count": null,
   "metadata": {},
   "outputs": [],
   "source": [
    "start_time = time()\n",
    "print(fractionedKapsack_FB(precio3,peso3,w3))\n",
    "elapsed_time = time() - start_time\n",
    "timeDV[2]=elapsed_time"
   ]
  },
  {
   "cell_type": "markdown",
   "metadata": {},
   "source": [
    "**Greedy**"
   ]
  },
  {
   "cell_type": "code",
   "execution_count": 17,
   "metadata": {},
   "outputs": [
    {
     "name": "stdout",
     "output_type": "stream",
     "text": [
      "[0, 0, 0, 0, 0, 0, 0, 0, 0, 0, 1, 0, 0, 0, 0, 0, 1, 1, 0, 0, 0, 0, 1, 0, 0, 0, 0, 0, 0, 1, 0, 0, 0, 1, 0, 0, 0, 0, 0, 0, 0, 1, 1, 0, 0, 0, 0, 0, 0, 0, 0, 0, 1, 1, 0, 0, 0, 0, 0, 0, 0, 0, 0, 0, 0, 1, 0, 0, 0, 0, 0, 0, 0, 0, 0, 0, 0, 1, 0, 1, 0.42105263157894735, 0, 0, 0, 1, 0, 0, 0, 1, 0, 0, 0, 0, 0, 0, 0, 0, 1, 0, 0, 0, 0, 0, 0, 0, 0, 0, 0, 0, 0, 1, 0, 0, 0, 0, 0, 0, 0, 0, 0, 0, 0, 0, 0, 0, 0, 0, 0, 0, 0, 1, 0, 0, 0, 0, 0, 1, 0, 0, 0, 0, 0, 0, 0, 0, 0, 0, 0, 0, 0, 0, 0, 0, 0, 0, 0, 1, 0, 0, 0, 1, 0, 0, 0, 0, 0, 0, 0, 0, 0, 0, 0, 0, 0, 0, 0, 0, 0, 0, 0, 0, 0, 0, 0, 0, 0, 0, 0, 0, 0, 0, 0, 1, 0, 0, 0, 0, 0, 0, 1, 0, 0, 0, 0, 0, 0, 0, 0, 0, 0, 0, 0, 0, 0, 0, 0, 0, 0, 0, 0, 0, 0, 0, 0, 0, 0, 0, 0, 1, 0, 0, 0, 0, 0, 0, 0, 0, 0, 0, 1, 0, 0, 0, 0, 0, 0, 0, 0, 0, 0, 0, 0, 0, 0, 0, 0, 0, 0, 0, 0, 0, 0, 0, 0, 0, 0, 0, 0, 0, 0, 0, 0, 0, 1, 0, 0, 0, 0, 1, 0, 0, 0, 0, 0, 0, 0, 0, 0, 0, 0, 1, 0, 0, 0, 0, 1, 0, 0, 0, 0, 0, 0, 0, 0, 0, 0, 0, 1, 0, 1, 0, 0, 0, 0, 0, 0, 0, 0, 0, 0, 0, 0, 0, 0, 0, 0, 0, 1, 0, 0, 0, 0, 0, 0, 1, 0, 0, 0, 0, 0, 0, 0, 0, 0, 0, 0, 0, 0, 0, 0, 0, 0, 0, 0, 0, 0, 0, 0, 0, 0, 0, 0, 0, 0, 0, 0, 0, 0, 0, 0, 0, 0, 0, 0, 0, 1, 0, 0, 0, 0, 0, 0, 0, 1, 0, 0, 0, 1, 0, 0, 0, 0, 0, 0, 0, 0, 1, 0, 0, 0, 0, 0, 0, 0, 0, 0, 0, 0, 0, 0, 0, 0, 0, 0, 1, 0, 0, 0, 0, 0, 0, 0, 0, 0, 0, 0, 0, 0, 1, 0, 0, 0, 0, 0, 0, 0, 0, 0, 0, 0, 1, 0, 0, 0, 0, 0, 0, 0, 0, 0, 0, 0, 0, 0, 0, 0, 0, 0, 0, 0, 0, 0, 0, 0, 0, 0, 0, 0, 0, 0, 0, 0, 0, 0, 0, 0, 0, 0, 0, 0, 0, 0, 0, 0, 0, 0, 0, 0, 0, 0, 0, 0, 0, 0, 0, 0, 0, 1, 0, 0, 0, 0, 1, 0, 0, 0, 0, 0, 0, 1, 0, 0, 0, 0, 0, 0, 0, 0, 0, 0, 1, 0, 0, 0, 0, 0, 0, 0, 0, 0, 0, 0, 0, 0, 1, 0, 0, 0, 0, 0, 0, 0, 0, 0, 0, 1, 1, 1, 0, 1, 1, 0, 0, 0, 0, 0, 1, 0, 0, 0, 0, 0, 0, 0, 1, 0, 0, 0, 0, 0, 0, 0, 0, 0, 0, 1, 0, 0, 0, 0, 0, 0, 0, 0, 0, 0, 0, 0, 0, 0, 0, 1, 0, 1, 0, 0, 0, 0, 0, 0, 0, 0, 0, 0, 0, 0, 0, 0, 0, 0, 0, 0, 0, 0, 0, 0, 0, 1, 0, 0, 0, 1, 0, 1, 0, 1, 0, 0, 0, 0, 0, 0, 0, 0, 0, 0, 0, 0, 0, 0, 0, 0, 0, 0, 0, 0, 0, 0, 0, 1, 0, 0, 0, 0, 1, 0, 0, 1, 1, 0, 0, 0, 0, 0, 0, 0, 0, 0, 0, 0, 1, 0, 0, 0, 0, 0, 0, 0, 0, 0, 0, 0, 0, 0, 0, 0, 0, 0, 0, 1, 0, 0, 0, 0, 0, 0, 0, 0, 0, 0, 1, 0, 1, 1, 0, 0, 0, 0, 1, 0, 0, 1, 0, 0, 0, 0, 1, 0, 0, 0, 1, 1, 0, 0, 0, 0, 1, 1, 1, 0, 0, 0, 0, 1, 0, 0, 0, 0, 0, 0, 0, 1, 0, 0, 0, 0, 0, 0, 0, 0, 0, 0, 1, 0, 0, 0, 0, 0, 0, 0, 0, 0, 0, 0, 0, 1, 0, 0, 0, 0, 0, 0, 0, 0, 0, 0, 0, 0, 0, 1, 0, 0, 0, 0, 0, 0, 0, 0, 0, 0, 0, 0, 0, 0, 0, 0, 1, 0, 0, 0, 0, 0, 0, 0, 0, 0, 0, 0, 0, 1, 0, 0, 0, 0, 0, 1, 0, 0, 0, 0, 0, 0, 0, 0, 0, 0, 0, 0, 0, 0, 1, 0, 0, 0, 0, 0, 0, 0, 0, 0, 1, 0, 0, 0, 0, 0, 0, 1, 0, 0, 0, 0, 0, 0, 0, 0, 0, 0, 0, 0, 0, 1, 0, 0, 0, 0, 0, 1, 1, 0, 0, 0, 1, 0, 0, 0, 0, 0, 0, 0, 0, 0, 0, 0, 0, 0, 0, 0, 0, 1, 0, 0, 0, 0, 0, 0, 0, 0, 0, 0, 0, 0, 0, 0, 0, 0, 0, 0, 0, 1, 0, 0, 0, 0, 0, 1, 0, 0, 0, 0, 0, 0, 0, 0, 0, 0, 0, 0, 0, 0, 0, 0, 0, 0, 0, 0, 0, 0, 0, 0, 0, 0, 0, 0, 0, 0, 1, 0, 0, 0, 1, 0, 0, 0, 0, 0, 0, 0, 0, 0, 0, 0, 0, 0, 0, 0, 0, 0, 0, 0, 0, 0, 0, 0, 0, 0, 0, 0, 0, 0, 0, 0, 0, 0, 0, 0, 0, 0, 0, 0, 0, 0, 0, 0, 0, 0, 0, 0, 0, 0]\n"
     ]
    }
   ],
   "source": [
    "start_time = time()\n",
    "print(fractionedKapsack(precio3,peso3,w3))\n",
    "elapsed_time = time() - start_time\n",
    "timePD[2]=elapsed_time"
   ]
  },
  {
   "cell_type": "markdown",
   "metadata": {},
   "source": [
    "# Datos de tamaño 10000"
   ]
  },
  {
   "cell_type": "code",
   "execution_count": 18,
   "metadata": {},
   "outputs": [
    {
     "name": "stdout",
     "output_type": "stream",
     "text": [
      "[96 12 82 ... 79 22 46]\n",
      "[84 39 49 ... 96 54 79]\n"
     ]
    }
   ],
   "source": [
    "np.random.seed(101) #THE SEED\n",
    "tam=10000\n",
    "peso4 = np.random.randint(1,100,tam)\n",
    "precio4 = np.random.randint(1,100,tam)\n",
    "print(peso4)\n",
    "print(precio4)"
   ]
  },
  {
   "cell_type": "markdown",
   "metadata": {},
   "source": [
    "**A continuación, ingresa el peso de la mochila**"
   ]
  },
  {
   "cell_type": "code",
   "execution_count": 19,
   "metadata": {},
   "outputs": [],
   "source": [
    "w4 = 750"
   ]
  },
  {
   "cell_type": "markdown",
   "metadata": {},
   "source": [
    "**Fuerza bruta**"
   ]
  },
  {
   "cell_type": "code",
   "execution_count": null,
   "metadata": {},
   "outputs": [],
   "source": [
    "start_time = time()\n",
    "print(fractionedKapsack_FB(precio4,peso4,w4))\n",
    "elapsed_time = time() - start_time\n",
    "timeDV[3]=elapsed_time"
   ]
  },
  {
   "cell_type": "markdown",
   "metadata": {},
   "source": [
    "**Greedy**"
   ]
  },
  {
   "cell_type": "code",
   "execution_count": 20,
   "metadata": {},
   "outputs": [
    {
     "name": "stdout",
     "output_type": "stream",
     "text": [
      "[0. 0. 0. ... 0. 0. 0.]\n"
     ]
    }
   ],
   "source": [
    "start_time = time()\n",
    "print(np.array(fractionedKapsack(precio4,peso4,w4)))\n",
    "elapsed_time = time() - start_time\n",
    "timePD[3]=elapsed_time"
   ]
  },
  {
   "cell_type": "markdown",
   "metadata": {},
   "source": [
    "# Datos de tamaño 100000"
   ]
  },
  {
   "cell_type": "code",
   "execution_count": 21,
   "metadata": {},
   "outputs": [
    {
     "name": "stdout",
     "output_type": "stream",
     "text": [
      "[96 12 82 ... 50 28  7]\n",
      "[69 89 61 ... 64 50  2]\n"
     ]
    }
   ],
   "source": [
    "np.random.seed(101) #THE SEED\n",
    "tam=100000\n",
    "peso5 = np.random.randint(1,100,tam)\n",
    "precio5 = np.random.randint(1,100,tam)\n",
    "print(peso5)\n",
    "print(precio5)"
   ]
  },
  {
   "cell_type": "markdown",
   "metadata": {},
   "source": [
    "**A continuación, ingresa el peso de la mochila**"
   ]
  },
  {
   "cell_type": "code",
   "execution_count": 22,
   "metadata": {},
   "outputs": [],
   "source": [
    "w5 = 750"
   ]
  },
  {
   "cell_type": "markdown",
   "metadata": {},
   "source": [
    "**Fuerza bruta**"
   ]
  },
  {
   "cell_type": "code",
   "execution_count": null,
   "metadata": {},
   "outputs": [],
   "source": [
    "start_time = time()\n",
    "print(fractionedKapsack_FB(precio5,peso5,w5))\n",
    "elapsed_time = time() - start_time\n",
    "timeDV[4]=elapsed_time"
   ]
  },
  {
   "cell_type": "markdown",
   "metadata": {},
   "source": [
    "**Greedy**"
   ]
  },
  {
   "cell_type": "code",
   "execution_count": 23,
   "metadata": {},
   "outputs": [
    {
     "name": "stdout",
     "output_type": "stream",
     "text": [
      "[0. 0. 0. ... 0. 0. 0.]\n"
     ]
    }
   ],
   "source": [
    "start_time = time()\n",
    "print(np.array(fractionedKapsack(precio5,peso5,w5)))\n",
    "elapsed_time = time() - start_time\n",
    "timePD[4]=elapsed_time"
   ]
  },
  {
   "cell_type": "markdown",
   "metadata": {},
   "source": [
    "# Datos de tamaño 1000000"
   ]
  },
  {
   "cell_type": "code",
   "execution_count": 24,
   "metadata": {},
   "outputs": [
    {
     "name": "stdout",
     "output_type": "stream",
     "text": [
      "[96 12 82 ... 40 51 26]\n",
      "[87 69 22 ... 74 12 68]\n"
     ]
    }
   ],
   "source": [
    "np.random.seed(101) #THE SEED\n",
    "tam=1000000\n",
    "peso6 = np.random.randint(1,100,tam)\n",
    "precio6 = np.random.randint(1,100,tam)\n",
    "print(peso6)\n",
    "print(precio6)"
   ]
  },
  {
   "cell_type": "markdown",
   "metadata": {},
   "source": [
    "**A continuación, ingresa el peso de la mochila**"
   ]
  },
  {
   "cell_type": "code",
   "execution_count": 25,
   "metadata": {},
   "outputs": [],
   "source": [
    "w6 = 750"
   ]
  },
  {
   "cell_type": "markdown",
   "metadata": {},
   "source": [
    "**Fuerza bruta**"
   ]
  },
  {
   "cell_type": "code",
   "execution_count": null,
   "metadata": {},
   "outputs": [],
   "source": [
    "start_time = time()\n",
    "print(fractionedKapsack_FB(precio6,peso6,w6))\n",
    "elapsed_time = time() - start_time\n",
    "timeDV[5]=elapsed_time"
   ]
  },
  {
   "cell_type": "markdown",
   "metadata": {},
   "source": [
    "**Greedy**"
   ]
  },
  {
   "cell_type": "code",
   "execution_count": 26,
   "metadata": {},
   "outputs": [
    {
     "name": "stdout",
     "output_type": "stream",
     "text": [
      "[0. 0. 0. ... 0. 0. 0.]\n"
     ]
    }
   ],
   "source": [
    "start_time = time()\n",
    "print(np.array(fractionedKapsack(precio6,peso6,w6)))\n",
    "elapsed_time = time() - start_time\n",
    "timePD[5]=elapsed_time"
   ]
  },
  {
   "cell_type": "markdown",
   "metadata": {},
   "source": [
    "# Gráficas\n",
    "**La gráfica con los diferentes tiempos se encuentra a continuación**"
   ]
  },
  {
   "cell_type": "markdown",
   "metadata": {},
   "source": [
    "**NOTA: La implementación por fuerza bruta para arreglos de tamaño 10 no termino, pues en 2 ocasiones ocasiono el crasheo de la computadora, antes de esto transcurrieron 2 horas, es por ellos que ese tiempo se colocó a continuación para graficar**"
   ]
  },
  {
   "cell_type": "code",
   "execution_count": 27,
   "metadata": {},
   "outputs": [],
   "source": [
    "timeDV[0]=7200"
   ]
  },
  {
   "cell_type": "code",
   "execution_count": 30,
   "metadata": {},
   "outputs": [
    {
     "name": "stdout",
     "output_type": "stream",
     "text": [
      "Método:\t\t10 datos\t100 datos\t1000 datos\t10000 datos\t\t100000 datos\t\t1000000 datos\n",
      "Greedy\t\t0.0009660721 \t0.0019636154 \t0.0149586201 \t0.1944792271 \t\t2.3108930588 \t\t27.4760222435 \n",
      "FB\t\t7200.00000 \t0.0000000000 \t0.0000000000 \t0.0000000000 \t\t0.0000000000 \t\t0.0000000000\n"
     ]
    }
   ],
   "source": [
    "print(\"Método:\\t\\t10 datos\\t100 datos\\t1000 datos\\t10000 datos\\t\\t100000 datos\\t\\t1000000 datos\\nGreedy\\t\\t%.10f\"%timePD[0],\"\\t%.10f\" %timePD[1], \"\\t%.10f\" %timePD[2], \"\\t%.10f\" %timePD[3], \"\\t\\t%.10f\" %timePD[4], \"\\t\\t%.10f\" %timePD[5], \"\\nFB\\t\\t%.5f\"%timeDV[0],\"\\t%.10f\" %timeDV[1], \"\\t%.10f\" %timeDV[2], \"\\t%.10f\" %timeDV[3], \"\\t\\t%.10f\" %timeDV[4], \"\\t\\t%.10f\" %timeDV[5])"
   ]
  },
  {
   "cell_type": "code",
   "execution_count": 31,
   "metadata": {},
   "outputs": [
    {
     "data": {
      "image/png": "[encoded data removed]",
      "text/plain": [
       "<Figure size 432x288 with 1 Axes>"
      ]
     },
     "metadata": {
      "needs_background": "light"
     },
     "output_type": "display_data"
    }
   ],
   "source": [
    "n=[10,100,1000,10000,100000,1000000]\n",
    "plt.plot(n,timeDV,label=\"Fuerza bruta\")\n",
    "plt.plot(n,timePD,label=\"Greedy\")\n",
    "\n",
    "plt.xlabel('Tamaño de datos')\n",
    "plt.ylabel('Tiempo (s)')\n",
    "\n",
    "plt.title(\"Mochila fraccionada\")\n",
    "\n",
    "plt.legend()\n",
    "\n",
    "plt.show()"
   ]
  },
  {
   "cell_type": "markdown",
   "metadata": {},
   "source": [
    "# Conclusiones"
   ]
  },
  {
   "cell_type": "markdown",
   "metadata": {},
   "source": [
    "Gracias al desarrollo de esta práctica se logró asimilar que existen ciertos algoritmos que tienen una manera de resolver los problemas de forma rápida, pues se tiene que el algoritmo de fuerza bruta para este problema requiere de calcular todas las combinaciones que se puedan dar, esto al tener que tomar en cuenta los valores continuos se vuelve demasiado, es por ello, que ni siquiera logró terminar para 10 datos, unicamente con la prueba fue donde logró funcionar, y por el contrario, la implementación de un algortimo Greedy que unicamente consistía en ordenar el arreglo de valor entre peso, esto se logró mediante el método de ordenamiento merge-sort, el cual tiene una complejidad nlog(n), es aquí que se puede ver que los algoritmos Greedy o voraces van formando la solución a un problema a través de elegir la solución óptima de cada punto en el que se encuentre, esperando que al final se logre llevar a cabo la solución óptima, estos algoritmos permiten resolver cierto tipos de problemas como lo es el presente caso, dicha implementación logró finalizar con todos los datos de prueba en tiempo bastante cortos.\n",
    "Se puede ver que este tipo de algoritmos al ir formando la solución mediante soluciones óptimas parciales, logra obtener la mejor alternativa de solución, al hacerlo de esta forma no se vuelve tan complicado el algoritmo y se logra generar la solución en un tiempo corto, y quedo demostrado al poder elegir que productos y en que cantidad se iban a llevar, obteniendo la mayor ganancia posible."
   ]
  }
 ],
 "metadata": {
  "kernelspec": {
   "display_name": "Python 3",
   "language": "python",
   "name": "python3"
  },
  "language_info": {
   "codemirror_mode": {
    "name": "ipython",
    "version": 3
   },
   "file_extension": ".py",
   "mimetype": "text/x-python",
   "name": "python",
   "nbconvert_exporter": "python",
   "pygments_lexer": "ipython3",
   "version": "3.7.3"
  }
 },
 "nbformat": 4,
 "nbformat_minor": 4
}
