{
 "cells": [
  {
   "cell_type": "markdown",
   "metadata": {},
   "source": [
    "<img src=\"header_escom26.jpg\" alt=\"header\" style=\"height:200px;\">\n",
    "\n",
    "# Práctica 6:  Programación dinámica: Problema de la mochila entera binaria (0/1 Kapsack problem)\n",
    "# 2015080672\n",
    "\n",
    "**Análisis de Algoritmos** </br>\n",
    "**Profesor: Dr. Flavio Arturo Sánchez Garfias** </br>\n",
    "**3CM2**"
   ]
  },
  {
   "cell_type": "markdown",
   "metadata": {},
   "source": [
    "<h1>Problema de la mochila entera</h1>\n",
    "En algoritmia, el problema de la mochila, comúnmente abreviado por KP (del inglés Knapsack problem) es un problema de optimización combinatoria, es decir, que busca la mejor solución entre un conjunto finito de posibles soluciones a un problema. Modela una situación análoga al llenar una mochila, incapaz de soportar más de un peso determinado, con todo o parte de un conjunto de objetos, cada uno con un peso y valor específicos. Los objetos colocados en la mochila deben maximizar el valor total sin exceder el peso máximo.\n",
    "<h2>Método de fuerza bruta</h2>\n",
    "Este método resulta ser bastante inadecuado, pues lo que hace es probar todas las posibles combinaciones de elemento que se pueden llevar, y de entre todas las posibles formas de llevar objetos se toma aquella que tenga el valor máximo.\n",
    "<center><img src=\"i1.png\"></center></br>\n",
    "Se tienen que probar todas las combinanciones que se pueden generar al llevar los objetos, considerando que es 1/0, es decir, se lleva o se deja, al finalizar se elige aquella combinación que ofrece más ganancia.\n",
    "<h2>Método de programación dinámica</h2>\n",
    "Para poder explicar dicho método considerese la siguiente matriz:\n",
    "<center><img src=\"i2.png\"></center></br>\n",
    "Dicha matriz se va llenando de izquierda a derecha, y de arriba hacia abajo, en donde las columnas representan mochilas de diferentes pesos desde 0 hasta el peso de la mochila deseado, y las filas representan cuantos objetos se tienen, así, tanto la primera columna como la primera fila se inician en 0 pues en ninguno de estos casos se obtiene ganancia.</br>\n",
    "Para llenar las siguientes filas se siguen las siguientes reglas\n",
    "<ul>\n",
    "    <li>Si el peso del objeto no se puede ingresar en la mochila porque sobrepasa el peso, se copia la ganancia de la casilla superior</li>\n",
    "    <li>Si el peso del objeto se puede ingresar a la mochila<ul>\n",
    "        <li>Se ingresa la ganancia de este objeto más la generada por cualquier otro objeto que quepa. </li>\n",
    "        <li>Se copia el la ganancia superior si esta es mayor al generado por el objeto que se ingreso más cualquier otro posible objeto que se pueda introducir.</li>\n",
    "        </ul></li>\n",
    "</ul>"
   ]
  },
  {
   "cell_type": "markdown",
   "metadata": {},
   "source": [
    "Import packages <a href=\"https://numpy.org\">Numpy</a> and <a href=\"https://matplotlib.org\">Matplotlib</a>"
   ]
  },
  {
   "cell_type": "code",
   "execution_count": 1,
   "metadata": {},
   "outputs": [],
   "source": [
    "import numpy as np\n",
    "import matplotlib.pyplot as plt\n",
    "from itertools import product\n",
    "%matplotlib inline"
   ]
  },
  {
   "cell_type": "markdown",
   "metadata": {},
   "source": [
    "**Definir la función de fuerza bruta**"
   ]
  },
  {
   "cell_type": "code",
   "execution_count": 2,
   "metadata": {},
   "outputs": [],
   "source": [
    "def kapsack_FB(v,w,wM):\n",
    "    lista = list(product([0,1], repeat=len(w)))\n",
    "    combinacionOptima=0\n",
    "    gananciaOptima=0\n",
    "    for i in range (len(lista)):\n",
    "        ganancia=0\n",
    "        peso=0\n",
    "        for j in range (len(w)):\n",
    "            peso=peso+lista[i][j]*w[j]\n",
    "            ganancia=ganancia+lista[i][j]*v[j]\n",
    "        if(peso<wM):\n",
    "            if(ganancia>gananciaOptima):\n",
    "                gananciaOptima=ganancia\n",
    "                combinacionOptima=i\n",
    "    print(lista[combinacionOptima])"
   ]
  },
  {
   "cell_type": "markdown",
   "metadata": {},
   "source": [
    "**Definir la función de programación dinámica**"
   ]
  },
  {
   "cell_type": "code",
   "execution_count": 15,
   "metadata": {},
   "outputs": [],
   "source": [
    "def kapsack(v,w,wM):\n",
    "    n1 = len(w)+1\n",
    "    n2 = int(wM+1)\n",
    "    M = np.zeros((n1,n2))\n",
    "    for i in range (1,n1):\n",
    "        for j in range (1,n2):\n",
    "            if (w[i-1]>j):\n",
    "                M[i,j]=M[i-1,j]\n",
    "            else:\n",
    "                if (w[i-1] <= j):\n",
    "                    aux=M[i-1,j-w[i-1]]+v[i-1]\n",
    "                    if (aux<M[i-1,j]):\n",
    "                        M[i,j]=M[i-1,j]\n",
    "                    else:\n",
    "                        M[i,j]=aux\n",
    "    aux=1\n",
    "    lista = [0]*(len(w))\n",
    "    while(aux!=0):\n",
    "        aux=M[i,j]\n",
    "        if(M[i,j]==M[i,j-1]):\n",
    "            j=j-1\n",
    "        else:\n",
    "            if(M[i,j]==M[i-1,j]):\n",
    "                i=i-1\n",
    "            else:\n",
    "                i=i-1\n",
    "                j=j-w[i]\n",
    "                lista[i]=1\n",
    "    #print(lista)\n",
    "    return lista"
   ]
  },
  {
   "cell_type": "markdown",
   "metadata": {},
   "source": [
    "# Pruebas "
   ]
  },
  {
   "cell_type": "markdown",
   "metadata": {},
   "source": [
    "A continuación, se crearán arreglos de 10, 100, 1000, 10000, 100000, 1000000 digitos"
   ]
  },
  {
   "cell_type": "code",
   "execution_count": 4,
   "metadata": {},
   "outputs": [],
   "source": [
    "from time import time\n",
    "timePD = [0] * (6)\n",
    "timeDV = [0] * (6)"
   ]
  },
  {
   "cell_type": "markdown",
   "metadata": {},
   "source": [
    "# Datos de tamaño 10"
   ]
  },
  {
   "cell_type": "code",
   "execution_count": 5,
   "metadata": {},
   "outputs": [
    {
     "name": "stdout",
     "output_type": "stream",
     "text": [
      "[95 11 81 70 63 87 75  9 77 40]\n",
      "[ 4 63 40 60 92 64  5 12 93 40]\n"
     ]
    }
   ],
   "source": [
    "np.random.seed(101) #THE SEED\n",
    "tam=10\n",
    "peso1 = np.random.randint(0,100,tam)\n",
    "precio1 = np.random.randint(0,100,tam)\n",
    "print(peso1)\n",
    "print(precio1)"
   ]
  },
  {
   "cell_type": "markdown",
   "metadata": {},
   "source": [
    "**A continuación, ingresa el peso de la mochila**"
   ]
  },
  {
   "cell_type": "code",
   "execution_count": 6,
   "metadata": {},
   "outputs": [],
   "source": [
    "w1 = 75"
   ]
  },
  {
   "cell_type": "markdown",
   "metadata": {},
   "source": [
    "**Fuerza bruta**"
   ]
  },
  {
   "cell_type": "code",
   "execution_count": 7,
   "metadata": {},
   "outputs": [
    {
     "name": "stdout",
     "output_type": "stream",
     "text": [
      "(0, 1, 0, 0, 1, 0, 0, 0, 0, 0)\n"
     ]
    }
   ],
   "source": [
    "start_time = time()\n",
    "kapsack_FB(precio1,peso1,w1)\n",
    "elapsed_time = time() - start_time\n",
    "timeDV[0]=elapsed_time"
   ]
  },
  {
   "cell_type": "markdown",
   "metadata": {},
   "source": [
    "**Programación dinámica**"
   ]
  },
  {
   "cell_type": "code",
   "execution_count": 8,
   "metadata": {},
   "outputs": [
    {
     "name": "stdout",
     "output_type": "stream",
     "text": [
      "[0, 1, 0, 0, 1, 0, 0, 0, 0, 0]\n"
     ]
    }
   ],
   "source": [
    "start_time = time()\n",
    "kapsack(precio1,peso1,w1)\n",
    "elapsed_time = time() - start_time\n",
    "timePD[0]=elapsed_time"
   ]
  },
  {
   "cell_type": "markdown",
   "metadata": {},
   "source": [
    "# Datos de tamaño 100"
   ]
  },
  {
   "cell_type": "code",
   "execution_count": 9,
   "metadata": {},
   "outputs": [
    {
     "name": "stdout",
     "output_type": "stream",
     "text": [
      "[95 11 81 70 63 87 75  9 77 40  4 63 40 60 92 64  5 12 93 40 49 83  8 29\n",
      " 59 34 44 72 19 10 76 95 87  0 73  8 62 36 83 99 28 63  7 10 52 56 38 73\n",
      " 52 18 71 15 44  0 12 17 75 79 97 93 24 36 63 19 35 30 10 60 20 27  8 86\n",
      " 26 87 46 47 54 86  9 45  2 18 58 92 11 10 94 35 28  3 83 84 47 14 69 60\n",
      " 69 51  6 88]\n",
      "[71 68 23 35 79 98 67 82 57 77 46  3 46 29 86 21 21 81 23 94 71 20 27 75\n",
      "  5 49 86 89 63 82 77  3 56 14 49 87 52 13 47 49 24 20 64 52 60 47 29 60\n",
      " 53 11 40 91 45 97 24 36 38  9 52 67 43  1 79 68 68 61 18 51 14 28 17 87\n",
      " 46 52 16 70 71 84 10 62 96 57 23 86 85 26 76 66 54 17 65 57 89  2 80 50\n",
      " 66 88 79 93]\n"
     ]
    }
   ],
   "source": [
    "np.random.seed(101) #THE SEED\n",
    "tam=100\n",
    "peso2 = np.random.randint(0,100,tam)\n",
    "precio2 = np.random.randint(0,100,tam)\n",
    "print(peso2)\n",
    "print(precio2)"
   ]
  },
  {
   "cell_type": "markdown",
   "metadata": {},
   "source": [
    "**A continuación, ingresa el peso de la mochila**"
   ]
  },
  {
   "cell_type": "code",
   "execution_count": 10,
   "metadata": {},
   "outputs": [],
   "source": [
    "w2 = 750"
   ]
  },
  {
   "cell_type": "markdown",
   "metadata": {},
   "source": [
    "**Fuerza bruta**"
   ]
  },
  {
   "cell_type": "code",
   "execution_count": null,
   "metadata": {},
   "outputs": [],
   "source": [
    "start_time = time()\n",
    "kapsack_FB(precio2,peso2,w2)\n",
    "elapsed_time = time() - start_time\n",
    "timeDV[1]=elapsed_time"
   ]
  },
  {
   "cell_type": "markdown",
   "metadata": {},
   "source": [
    "**Programación dinámica**"
   ]
  },
  {
   "cell_type": "code",
   "execution_count": 11,
   "metadata": {},
   "outputs": [
    {
     "name": "stdout",
     "output_type": "stream",
     "text": [
      "[0, 1, 0, 0, 0, 0, 0, 1, 0, 1, 1, 0, 0, 0, 0, 0, 1, 1, 0, 1, 1, 0, 1, 1, 0, 0, 1, 0, 1, 1, 0, 0, 0, 1, 0, 1, 0, 0, 0, 0, 0, 0, 1, 1, 0, 0, 0, 0, 0, 0, 0, 1, 0, 1, 1, 1, 0, 0, 0, 0, 1, 0, 0, 1, 1, 1, 0, 0, 0, 0, 1, 0, 1, 0, 0, 1, 0, 0, 0, 0, 1, 1, 0, 0, 1, 1, 0, 1, 1, 1, 0, 0, 1, 0, 0, 0, 0, 1, 1, 0]\n"
     ]
    }
   ],
   "source": [
    "start_time = time()\n",
    "kapsack(precio2,peso2,w2)\n",
    "elapsed_time = time() - start_time\n",
    "timePD[1]=elapsed_time"
   ]
  },
  {
   "cell_type": "markdown",
   "metadata": {},
   "source": [
    "# Datos de tamaño 1000"
   ]
  },
  {
   "cell_type": "code",
   "execution_count": 12,
   "metadata": {},
   "outputs": [],
   "source": [
    "np.random.seed(101) #THE SEED\n",
    "tam=1000\n",
    "peso3 = np.random.randint(0,100,tam)\n",
    "precio3 = np.random.randint(0,100,tam)\n",
    "#print(peso3)\n",
    "#print(precio3)"
   ]
  },
  {
   "cell_type": "markdown",
   "metadata": {},
   "source": [
    "**A continuación, ingresa el peso de la mochila**"
   ]
  },
  {
   "cell_type": "code",
   "execution_count": 13,
   "metadata": {},
   "outputs": [],
   "source": [
    "w3 = 1879"
   ]
  },
  {
   "cell_type": "markdown",
   "metadata": {},
   "source": [
    "**Fuerza bruta**"
   ]
  },
  {
   "cell_type": "code",
   "execution_count": null,
   "metadata": {},
   "outputs": [],
   "source": [
    "start_time = time()\n",
    "kapsack_FB(precio3,peso3,w3)\n",
    "elapsed_time = time() - start_time\n",
    "timeDV[2]=elapsed_time"
   ]
  },
  {
   "cell_type": "markdown",
   "metadata": {},
   "source": [
    "**Programación dinámica**"
   ]
  },
  {
   "cell_type": "code",
   "execution_count": 14,
   "metadata": {},
   "outputs": [
    {
     "name": "stdout",
     "output_type": "stream",
     "text": [
      "[0, 0, 0, 0, 0, 0, 0, 0, 0, 0, 1, 0, 0, 0, 0, 0, 1, 0, 0, 0, 0, 0, 1, 0, 0, 1, 0, 0, 0, 0, 0, 0, 0, 1, 0, 1, 0, 0, 0, 0, 0, 0, 1, 0, 0, 0, 0, 0, 0, 0, 0, 1, 0, 1, 1, 0, 0, 0, 0, 0, 0, 0, 0, 0, 0, 0, 1, 0, 0, 0, 1, 0, 0, 0, 0, 0, 0, 0, 1, 0, 1, 1, 0, 0, 1, 1, 0, 0, 0, 1, 0, 0, 0, 1, 0, 0, 0, 0, 1, 0, 0, 0, 1, 0, 0, 0, 0, 0, 0, 0, 0, 1, 0, 0, 0, 0, 1, 0, 0, 0, 0, 0, 0, 0, 1, 0, 0, 0, 0, 0, 0, 1, 0, 0, 0, 0, 0, 1, 0, 0, 0, 1, 0, 0, 0, 0, 0, 0, 0, 0, 0, 0, 0, 0, 0, 0, 0, 1, 0, 0, 0, 1, 0, 0, 0, 0, 0, 0, 1, 0, 0, 0, 0, 0, 0, 0, 0, 0, 1, 0, 0, 0, 1, 0, 0, 1, 0, 0, 0, 0, 0, 0, 0, 1, 0, 0, 0, 0, 0, 0, 1, 0, 0, 0, 0, 1, 0, 0, 0, 0, 0, 0, 0, 0, 0, 0, 0, 0, 0, 0, 0, 0, 0, 0, 0, 0, 0, 0, 0, 1, 0, 0, 0, 0, 0, 0, 0, 0, 0, 0, 1, 0, 0, 0, 0, 0, 0, 0, 0, 0, 0, 1, 0, 0, 0, 0, 0, 0, 0, 0, 0, 0, 0, 1, 0, 0, 0, 0, 0, 1, 0, 0, 0, 0, 0, 1, 0, 1, 0, 0, 1, 0, 0, 0, 0, 0, 0, 0, 0, 0, 1, 0, 1, 0, 0, 0, 0, 0, 0, 0, 0, 0, 0, 0, 0, 0, 0, 0, 0, 1, 0, 1, 0, 1, 0, 0, 0, 0, 0, 0, 0, 0, 0, 0, 0, 0, 0, 0, 0, 1, 0, 0, 0, 1, 1, 0, 1, 0, 0, 0, 0, 0, 0, 0, 0, 0, 0, 0, 0, 0, 0, 1, 0, 0, 0, 0, 0, 0, 0, 0, 0, 1, 0, 0, 0, 0, 0, 0, 0, 0, 0, 1, 0, 0, 0, 0, 0, 1, 0, 0, 0, 1, 0, 0, 0, 1, 0, 0, 0, 1, 0, 0, 0, 0, 0, 0, 0, 0, 1, 0, 0, 0, 1, 0, 0, 0, 0, 0, 0, 0, 0, 0, 0, 0, 0, 0, 1, 0, 0, 0, 0, 0, 0, 0, 0, 0, 0, 1, 1, 0, 0, 0, 0, 0, 0, 0, 0, 0, 1, 0, 0, 0, 1, 0, 0, 0, 0, 0, 0, 0, 0, 0, 0, 0, 0, 0, 0, 0, 0, 1, 0, 0, 1, 0, 0, 1, 0, 0, 0, 0, 0, 0, 0, 0, 0, 0, 0, 1, 0, 0, 0, 0, 0, 0, 0, 0, 0, 0, 0, 0, 0, 0, 0, 0, 1, 0, 0, 0, 1, 0, 0, 0, 0, 0, 0, 1, 0, 0, 0, 0, 0, 1, 1, 0, 0, 1, 0, 0, 0, 0, 0, 0, 0, 0, 1, 0, 0, 0, 0, 0, 0, 0, 0, 0, 1, 0, 0, 0, 1, 1, 0, 0, 0, 0, 0, 0, 0, 0, 1, 1, 1, 0, 0, 1, 1, 0, 0, 0, 0, 0, 1, 0, 0, 0, 1, 0, 0, 1, 1, 0, 0, 0, 0, 0, 0, 1, 0, 0, 0, 0, 0, 0, 0, 0, 0, 0, 0, 0, 0, 0, 0, 1, 1, 0, 0, 1, 0, 0, 0, 0, 0, 0, 0, 0, 0, 0, 0, 0, 0, 0, 0, 0, 0, 0, 0, 0, 1, 0, 0, 0, 0, 1, 0, 0, 0, 0, 0, 0, 0, 1, 0, 0, 0, 0, 0, 0, 0, 0, 0, 0, 0, 0, 0, 1, 0, 0, 0, 0, 0, 0, 0, 0, 0, 1, 0, 1, 0, 1, 1, 0, 0, 1, 1, 1, 0, 0, 0, 0, 0, 0, 0, 0, 0, 0, 1, 0, 1, 0, 0, 1, 0, 0, 0, 1, 0, 0, 0, 0, 0, 0, 0, 0, 0, 0, 0, 0, 0, 0, 0, 0, 0, 0, 0, 0, 1, 0, 1, 1, 0, 0, 0, 0, 1, 0, 1, 1, 0, 0, 0, 1, 1, 0, 1, 0, 1, 1, 0, 0, 0, 0, 1, 1, 0, 0, 0, 0, 0, 0, 1, 0, 0, 0, 0, 0, 0, 1, 0, 0, 0, 0, 0, 1, 0, 0, 0, 0, 0, 1, 0, 0, 0, 0, 0, 0, 0, 0, 0, 0, 0, 0, 0, 0, 1, 0, 0, 0, 0, 0, 0, 0, 0, 0, 0, 0, 1, 1, 0, 0, 0, 0, 1, 0, 0, 0, 0, 0, 0, 0, 0, 0, 1, 1, 0, 0, 0, 0, 0, 1, 0, 0, 0, 0, 0, 0, 1, 0, 1, 0, 0, 0, 1, 0, 0, 1, 0, 0, 0, 0, 0, 0, 0, 0, 0, 0, 0, 1, 0, 0, 0, 1, 0, 1, 0, 0, 1, 0, 0, 1, 0, 1, 0, 0, 1, 0, 0, 0, 0, 0, 0, 1, 0, 0, 0, 1, 0, 0, 1, 0, 0, 0, 0, 1, 0, 1, 0, 0, 0, 1, 0, 0, 1, 0, 0, 0, 0, 0, 0, 0, 0, 0, 0, 0, 1, 0, 1, 0, 0, 0, 0, 0, 0, 0, 1, 0, 0, 0, 0, 1, 0, 0, 1, 0, 0, 0, 0, 0, 0, 0, 0, 0, 1, 0, 0, 0, 0, 0, 0, 0, 1, 0, 0, 0, 0, 1, 0, 0, 0, 0, 0, 0, 0, 0, 0, 0, 0, 0, 0, 0, 0, 1, 0, 1, 0, 0, 0, 1, 0, 0, 0, 1, 0, 0, 0, 0, 0, 0, 0, 0, 0, 0, 0, 0, 0, 0, 0, 0, 0, 0, 0, 0, 0, 0, 0, 0, 1, 0, 0, 0, 0, 0, 0, 0, 0, 0, 0, 0, 0, 0, 0, 0]\n"
     ]
    }
   ],
   "source": [
    "start_time = time()\n",
    "kapsack(precio3,peso3,w3)\n",
    "elapsed_time = time() - start_time\n",
    "timePD[2]=elapsed_time"
   ]
  },
  {
   "cell_type": "markdown",
   "metadata": {},
   "source": [
    "# Datos de tamaño 10000"
   ]
  },
  {
   "cell_type": "code",
   "execution_count": 16,
   "metadata": {},
   "outputs": [],
   "source": [
    "np.random.seed(101) #THE SEED\n",
    "tam=10000\n",
    "peso4 = np.random.randint(0,100,tam)\n",
    "precio4 = np.random.randint(0,100,tam)\n",
    "#print(peso4)\n",
    "#print(precio4)"
   ]
  },
  {
   "cell_type": "markdown",
   "metadata": {},
   "source": [
    "**A continuación, ingresa el peso de la mochila**"
   ]
  },
  {
   "cell_type": "code",
   "execution_count": 17,
   "metadata": {},
   "outputs": [],
   "source": [
    "w4 = 6550"
   ]
  },
  {
   "cell_type": "markdown",
   "metadata": {},
   "source": [
    "**Fuerza bruta**"
   ]
  },
  {
   "cell_type": "code",
   "execution_count": null,
   "metadata": {},
   "outputs": [],
   "source": [
    "start_time = time()\n",
    "kapsack_FB(precio4,peso4,w4)\n",
    "elapsed_time = time() - start_time\n",
    "timeDV[3]=elapsed_time"
   ]
  },
  {
   "cell_type": "markdown",
   "metadata": {},
   "source": [
    "**Programación dinámica**"
   ]
  },
  {
   "cell_type": "code",
   "execution_count": 18,
   "metadata": {},
   "outputs": [],
   "source": [
    "start_time = time()\n",
    "kapsack(precio4,peso4,w4)\n",
    "elapsed_time = time() - start_time\n",
    "timePD[3]=elapsed_time"
   ]
  },
  {
   "cell_type": "markdown",
   "metadata": {},
   "source": [
    "# Datos de tamaño 100000"
   ]
  },
  {
   "cell_type": "code",
   "execution_count": 19,
   "metadata": {},
   "outputs": [],
   "source": [
    "np.random.seed(101) #THE SEED\n",
    "tam=100000\n",
    "peso5 = np.random.randint(0,100,tam)\n",
    "precio5 = np.random.randint(0,100,tam)\n",
    "#print(peso5)\n",
    "#print(precio5)"
   ]
  },
  {
   "cell_type": "markdown",
   "metadata": {},
   "source": [
    "**A continuación, ingresa el peso de la mochila**"
   ]
  },
  {
   "cell_type": "code",
   "execution_count": 20,
   "metadata": {},
   "outputs": [],
   "source": [
    "w5 = 24580"
   ]
  },
  {
   "cell_type": "markdown",
   "metadata": {},
   "source": [
    "**Fuerza bruta**"
   ]
  },
  {
   "cell_type": "code",
   "execution_count": null,
   "metadata": {},
   "outputs": [],
   "source": [
    "start_time = time()\n",
    "kapsack_FB(precio5,peso5,w5)\n",
    "elapsed_time = time() - start_time\n",
    "timeDV[4]=elapsed_time"
   ]
  },
  {
   "cell_type": "markdown",
   "metadata": {},
   "source": [
    "**Programación dinámica**"
   ]
  },
  {
   "cell_type": "code",
   "execution_count": 21,
   "metadata": {},
   "outputs": [],
   "source": [
    "start_time = time()\n",
    "kapsack(precio5,peso5,w5)\n",
    "elapsed_time = time() - start_time\n",
    "timePD[4]=elapsed_time"
   ]
  },
  {
   "cell_type": "markdown",
   "metadata": {},
   "source": [
    "# Datos de tamaño 1000000"
   ]
  },
  {
   "cell_type": "code",
   "execution_count": 22,
   "metadata": {},
   "outputs": [],
   "source": [
    "np.random.seed(101) #THE SEED\n",
    "tam=1000000\n",
    "peso6 = np.random.randint(0,100,tam)\n",
    "precio6 = np.random.randint(0,100,tam)\n",
    "#print(peso6)\n",
    "#print(precio6)"
   ]
  },
  {
   "cell_type": "markdown",
   "metadata": {},
   "source": [
    "**A continuación, ingresa el peso de la mochila**"
   ]
  },
  {
   "cell_type": "code",
   "execution_count": 23,
   "metadata": {},
   "outputs": [],
   "source": [
    "w6 = 189654"
   ]
  },
  {
   "cell_type": "markdown",
   "metadata": {},
   "source": [
    "**Fuerza bruta**"
   ]
  },
  {
   "cell_type": "code",
   "execution_count": null,
   "metadata": {},
   "outputs": [],
   "source": [
    "start_time = time()\n",
    "kapsack_FB(precio6,peso6,w6)\n",
    "elapsed_time = time() - start_time\n",
    "timeDV[5]=elapsed_time"
   ]
  },
  {
   "cell_type": "markdown",
   "metadata": {},
   "source": [
    "**Programación dinámica**"
   ]
  },
  {
   "cell_type": "code",
   "execution_count": null,
   "metadata": {},
   "outputs": [],
   "source": [
    "start_time = time()\n",
    "kapsack(precio6,peso6,w6)\n",
    "elapsed_time = time() - start_time\n",
    "timePD[5]=elapsed_time"
   ]
  },
  {
   "cell_type": "markdown",
   "metadata": {},
   "source": [
    "# Gráficas\n",
    "**La gráfica con los diferentes tiempos se encuentra a continuación**"
   ]
  },
  {
   "cell_type": "markdown",
   "metadata": {},
   "source": [
    "**NOTA: La implementación por divide y vencerás para arreglos de tamaño 100 no terminaba pasadas más de 3 horas, es por ello que se detuvo**</br></br>\n",
    "**Si se desea obtener los tiempos reales eliminar la siguiente celda y correr las celdas que tienen la ejecución del DV para 100 datos**"
   ]
  },
  {
   "cell_type": "code",
   "execution_count": 36,
   "metadata": {},
   "outputs": [],
   "source": [
    "timeDV[1]=10800"
   ]
  },
  {
   "cell_type": "code",
   "execution_count": 37,
   "metadata": {},
   "outputs": [
    {
     "name": "stdout",
     "output_type": "stream",
     "text": [
      "Método:\t\t10 datos\t100 datos\t1000 datos\t10000 datos\t\t100000 datos\t\t1000000 datos\n",
      "PD\t\t0.0009601116 \t0.0905044079 \t2.6301391125 \t94.8526356220 \t\t3564.3826541901 \t0.0000000000 \n",
      "DV\t\t0.0069792271 \t10800.00000 \t0.0000000000 \t0.0000000000 \t\t0.0000000000 \t\t0.0000000000\n"
     ]
    }
   ],
   "source": [
    "print(\"Método:\\t\\t10 datos\\t100 datos\\t1000 datos\\t10000 datos\\t\\t100000 datos\\t\\t1000000 datos\\nPD\\t\\t%.10f\"%timePD[0],\"\\t%.10f\" %timePD[1], \"\\t%.10f\" %timePD[2], \"\\t%.10f\" %timePD[3], \"\\t\\t%.10f\" %timePD[4], \"\\t%.10f\" %timePD[5], \"\\nDV\\t\\t%.10f\"%timeDV[0],\"\\t%.5f\"%timeDV[1], \"\\t%.10f\" %timeDV[2], \"\\t%.10f\" %timeDV[3], \"\\t\\t%.10f\" %timeDV[4], \"\\t\\t%.10f\" %timeDV[5])"
   ]
  },
  {
   "cell_type": "code",
   "execution_count": 38,
   "metadata": {},
   "outputs": [
    {
     "data": {
      "image/png": "[encoded data removed]",
      "text/plain": [
       "<Figure size 432x288 with 1 Axes>"
      ]
     },
     "metadata": {
      "needs_background": "light"
     },
     "output_type": "display_data"
    }
   ],
   "source": [
    "n=[10,100,1000,10000,100000,1000000]\n",
    "plt.plot(n[:2],timeDV[:2],label=\"Divide y vencerás\")\n",
    "plt.plot(n[:5],timePD[:5],label=\"Programación dinámica\")\n",
    "\n",
    "plt.xlabel('Tamaño de datos')\n",
    "plt.ylabel('Tiempo (s)')\n",
    "\n",
    "plt.title(\"Mochila entera\")\n",
    "\n",
    "plt.legend()\n",
    "\n",
    "plt.show()"
   ]
  },
  {
   "cell_type": "markdown",
   "metadata": {},
   "source": [
    "# Conclusiones"
   ]
  },
  {
   "cell_type": "markdown",
   "metadata": {},
   "source": [
    "Gracias al desarrollo de esta práctica se logró realizar otra implementación de la técnica de programación dinámica en donde se permitio resolver el problema de la Mochila entera, el cual consiste en tener una cierta cantidad de objetos cada uno con un respectivo valor, así como una mochila a la que unicamente le cabe cierto peso, y el problema busca llevar los objetos de forma que se aproveche en su máximo la capacidad de la mochila y también se pueda obtener la mayor ganancia, esto se logró realizar por dos técnicas, la primera de ellas que resulto ser bastante ineficiente es obtener todas las combinaciones que se pueden para llevar los objetos, y una vez calculada la ganancia para todas estas, elegir aquella que sea mayor, esto tiene una complejidad de 2 a la n, pues se tienen que generar las combinaciones binarias y probarlas.\n",
    "Por el otro lado se realizó mediante la programación dinámica, en la que se contaba con una matriz cuyo llenado tenía ciertas reglas a través de las cuales se lograba determinar en la casilla inferior derecha cual era la mayor ganancia que se podía obtener, y empleando las mismas reglas se puede hacer el recorrido inverso para determinar que objetos se pueden llevar, de la misma forma que los problemas anteriores se logró visualizar que esta técnica resultó ser más eficiente que aquella obtenida por fuerza bruta, pues los tiempos generados para esta son mucho menores a los de fuerza bruta, sin embargo, no logró terminar todos los datos pues requiere una gran cantidad de memoria para tener la matriz requerida y de golpe, es por ello, que esta técnica se encuentra muy limitada, pues aunque logre optimizar los tiempos de ejecución, se encuentra limitada por los recursos de la memoria del computador."
   ]
  }
 ],
 "metadata": {
  "kernelspec": {
   "display_name": "Python 3",
   "language": "python",
   "name": "python3"
  },
  "language_info": {
   "codemirror_mode": {
    "name": "ipython",
    "version": 3
   },
   "file_extension": ".py",
   "mimetype": "text/x-python",
   "name": "python",
   "nbconvert_exporter": "python",
   "pygments_lexer": "ipython3",
   "version": "3.7.3"
  }
 },
 "nbformat": 4,
 "nbformat_minor": 4
}
