{
 "cells": [
  {
   "cell_type": "markdown",
   "metadata": {},
   "source": [
    "<img src=\"header_escom26.jpg\" alt=\"header\" style=\"height:200px;\">\n",
    "\n",
    "# Práctica 5:  Programación dinámica: Problema de la subsecuencia máxima</br>\n",
    "# Ibarra Soto Alejandro\n",
    "# 2015080672\n",
    "\n",
    "**Análisis de Algoritmos** </br>\n",
    "**Profesor: Dr. Flavio Arturo Sánchez Garfias** </br>\n",
    "**3CM2**"
   ]
  },
  {
   "cell_type": "markdown",
   "metadata": {},
   "source": [
    "<h1>Subsecuencia</h1>\n",
    "Una subsecuencia es una secuencia que puede derivarse de otra secuencia al eliminar algunos elementos sin cambiar el orden de los elementos restantes. Digamos que tenemos una cadena ABC . Si borramos cero o uno o más de un carácter de esta cadena obtenemos la subsecuencia de esta cadena. Así que las subsecuencias de la cadena ABC serán { \"A\" , \"B\" , \"C\" , \"AB\" , \"AC\" , \"BC\" , \"ABC\" , \"\" }. Incluso si eliminamos todos los caracteres, la cadena vacía también será una subsecuencia. Para averiguar la subsecuencia, para cada carácter de una cadena, tenemos dos opciones: o tomamos el carácter o no. Entonces, si la longitud de la cadena es n , hay 2 n subsecuencias de esa cadena.\n",
    "\n",
    "<h3>Subsecuencia más larga:</h3>\n",
    "\n",
    "Como el nombre sugiere, de todas las subsecuencias comunes entre dos cadenas, la subsecuencia común más larga (LCS) es la que tiene la longitud máxima. Por ejemplo: las subsecuencias comunes entre \"HELLOM\" y \"HMLD\" son \"H\" , \"HL\" , \"HM\", etc. Aquí \"HLL\" es la subsecuencia común más larga que tiene la longitud 3.\n",
    "<h2> Método de divide y vencerás</h2>\n",
    "Lo que se hace para el método de divide y vencerás es, ya que se tienen las dos cadenas, por un lado se le quita el primer caracter a una cadena y se saca la subsecuencia de esta nueva cadena con la cadena 2, y por el otro lado se realiza el mismo procedimiento, se le remueve el caracter inicial a la cadena 2 y se comprueba con la cadena 1, siguiendo ciertas reglas, que son:\n",
    "<ul>\n",
    "    <li>LCS(X,0) = LCS(0,Y) = 0</li>\n",
    "    <li>LCS(AX,AY)=LCS(X,Y)+1</li>\n",
    "    <li>LCS(AX,BY)=max(LCS(X,BY),LCS(AX,Y))</li>\n",
    "</ul>\n",
    "Esto nos permite obtener el tamaño de la cadena más larga, y con la implementación adecuada se tiene que también se obtiene la subcadena.\n",
    "<h2>Método de programación dinámica</h2>\n",
    "Este método lo que hace es en un matriz guardar las posibles subsecuencias, almacenando en cada casilla el tamaño y de donde proviene la subsecuencia, siguiendo estas tres reglas:\n",
    "<ul>\n",
    "    <li>(X,0) = (0,Y) = 0</li>\n",
    "    <li>(X,X) = Diagonal+1</li>\n",
    "    <li>(X,Y) = max(arriba,izquierda)</li>\n",
    "</ul>\n",
    "De forma que un ejemplo de llenado es el siguiente:\n",
    "<center><img src=\"i1.png\"></center></br>\n",
    "Dicha matriz tiene tanto la fila 0 como la columna 0 inicializadas en 0 por la primer regla, posteriormente se recorre de izquierda a derecha, y de arriba hacia abajo, siguiendo las reglas antes enunciadas, es así, que se lográ completar el llenado de la matriz, donde en la casilla inferior derecha se encuentra el tamaño de la subsecuencia máxima, y para determinarla unicamente hay que seguir el recorrido desde esa casilla hasta lelgar a una que tega el valor 0, siguiendo siempre las diagonales, pues son las más importantes.</br>\n",
    "La complejidad del tiempo para este algoritmo es: O (mn) donde m y n denota la longitud de cada cadena."
   ]
  },
  {
   "cell_type": "markdown",
   "metadata": {},
   "source": [
    "Import packages <a href=\"https://numpy.org\">Numpy</a> and <a href=\"https://matplotlib.org\">Matplotlib</a>"
   ]
  },
  {
   "cell_type": "code",
   "execution_count": 1,
   "metadata": {},
   "outputs": [],
   "source": [
    "import numpy as np\n",
    "import matplotlib.pyplot as plt\n",
    "import random\n",
    "%matplotlib inline"
   ]
  },
  {
   "cell_type": "markdown",
   "metadata": {},
   "source": [
    "**Definir la función para generar las cadenas**"
   ]
  },
  {
   "cell_type": "code",
   "execution_count": 2,
   "metadata": {},
   "outputs": [],
   "source": [
    "def generarCadena(tam):\n",
    "    cad=\"\"\n",
    "    for i in range(tam):\n",
    "        cad=cad+chr(random.randint(97,122))\n",
    "    return cad"
   ]
  },
  {
   "cell_type": "markdown",
   "metadata": {},
   "source": [
    "**Definir la función de divide y vencerás**"
   ]
  },
  {
   "cell_type": "code",
   "execution_count": 3,
   "metadata": {},
   "outputs": [],
   "source": [
    "def LCS_DV(cad1,cad2):\n",
    "    n1 = len(cad1)+1\n",
    "    n2 = len(cad2)+1\n",
    "    if((len(cad1)==0) or (len(cad2)==0)):\n",
    "        arr=[0,\"\"]\n",
    "        return arr\n",
    "    if(cad2[0] == cad1[0]):\n",
    "        aux=LCS_DV(cad1[1:],cad2[1:])\n",
    "        tam=aux[0]+1\n",
    "        cad=cad2[0]+aux[1]\n",
    "        arr=[tam,cad]\n",
    "        return arr\n",
    "    else:\n",
    "        aux1=LCS_DV(cad1[1:],cad2[0:])\n",
    "        aux2=LCS_DV(cad1[0:],cad2[1:])\n",
    "        if(aux1[0]>aux2[0]):\n",
    "            return aux1\n",
    "        return aux2"
   ]
  },
  {
   "cell_type": "markdown",
   "metadata": {},
   "source": [
    "**Definir la función de programación dinámica**"
   ]
  },
  {
   "cell_type": "code",
   "execution_count": 4,
   "metadata": {},
   "outputs": [],
   "source": [
    "def LCS(cad1,cad2):\n",
    "    n1 = len(cad1)+1\n",
    "    n2 = len(cad2)+1\n",
    "    M = np.zeros((n1,n2,2))\n",
    "    for i in range(1,n1):\n",
    "        for j in range(1,n2):\n",
    "            if(cad2[j-1] == cad1[i-1]):\n",
    "                M[i,j,0]=1+M[i-1,j-1,0]\n",
    "                #0 arriba, 1 izquierda, 2 ambos, 3 diagonal\n",
    "                M[i,j,1]=3\n",
    "            else:\n",
    "                M[i,j,0]=max(M[i-1,j,0],M[i,j-1,0])\n",
    "                if(M[i-1,j,0]==M[i,j-1,0]):\n",
    "                    M[i,j,1]=2\n",
    "                else:\n",
    "                    if(M[i-1,j,0]<M[i,j-1,0]):\n",
    "                        M[i,j,1]=1\n",
    "                    else:\n",
    "                        M[i,j,1]=0\n",
    "    aux=1\n",
    "    subsecuencia = []\n",
    "    while(aux!=0):\n",
    "        aux=M[i,j,0]\n",
    "        if(M[i,j,1]==3):\n",
    "            i=i-1\n",
    "            j=j-1\n",
    "            subsecuencia.insert(0,cad1[i])\n",
    "        else:\n",
    "            if((M[i,j,1]==2) or (M[i,j,1]==0)):\n",
    "                i=i-1\n",
    "            else:\n",
    "                j=j-1\n",
    "    return ''.join(subsecuencia)"
   ]
  },
  {
   "cell_type": "markdown",
   "metadata": {},
   "source": [
    "# Pruebas "
   ]
  },
  {
   "cell_type": "markdown",
   "metadata": {},
   "source": [
    "A continuación, se crearán cadenas de 10, 100, 1000, 10000, 100000, 1000000 caracteres"
   ]
  },
  {
   "cell_type": "code",
   "execution_count": 5,
   "metadata": {},
   "outputs": [],
   "source": [
    "from time import time\n",
    "timePD = [0] * (6)\n",
    "timeDV = [0] * (6)"
   ]
  },
  {
   "cell_type": "markdown",
   "metadata": {},
   "source": [
    "# Datos de tamaño 10"
   ]
  },
  {
   "cell_type": "code",
   "execution_count": 6,
   "metadata": {},
   "outputs": [
    {
     "name": "stdout",
     "output_type": "stream",
     "text": [
      "uqqobuvvxc\n",
      "ywxkwfqvli\n"
     ]
    }
   ],
   "source": [
    "tam=10\n",
    "cad10=generarCadena(tam)\n",
    "cad20=generarCadena(tam)\n",
    "print(cad10)\n",
    "print(cad20)"
   ]
  },
  {
   "cell_type": "markdown",
   "metadata": {},
   "source": [
    "**Divide y vencerás**"
   ]
  },
  {
   "cell_type": "code",
   "execution_count": 7,
   "metadata": {},
   "outputs": [
    {
     "name": "stdout",
     "output_type": "stream",
     "text": [
      "qv\n"
     ]
    }
   ],
   "source": [
    "start_time = time()\n",
    "subsecuencia=LCS_DV(cad10,cad20)\n",
    "print(subsecuencia[1])\n",
    "elapsed_time = time() - start_time\n",
    "timeDV[0]=elapsed_time"
   ]
  },
  {
   "cell_type": "markdown",
   "metadata": {},
   "source": [
    "**Programación dinámica**"
   ]
  },
  {
   "cell_type": "code",
   "execution_count": 8,
   "metadata": {},
   "outputs": [
    {
     "name": "stdout",
     "output_type": "stream",
     "text": [
      "qv\n"
     ]
    }
   ],
   "source": [
    "start_time = time()\n",
    "print(LCS(cad10,cad20))\n",
    "elapsed_time = time() - start_time\n",
    "timePD[0]=elapsed_time"
   ]
  },
  {
   "cell_type": "markdown",
   "metadata": {},
   "source": [
    "# Datos de tamaño 100"
   ]
  },
  {
   "cell_type": "code",
   "execution_count": 9,
   "metadata": {},
   "outputs": [
    {
     "name": "stdout",
     "output_type": "stream",
     "text": [
      "trarvxyfrruwuttajraillloizbtasjvslxbpscdiossrhxjzfllxanywwfpwurmzpoxvjpkzfbvuvcblmkjgjzkzugovyglirum\n",
      "wsbrfggssxfalvnjfmcftxhebqrzczgvkafccgwaqwyfdrpoanmlcngveniukzdhliuklykldhxwovxagguzofigwtbavqdpukpk\n"
     ]
    }
   ],
   "source": [
    "tam=100\n",
    "cad11=generarCadena(tam)\n",
    "cad21=generarCadena(tam)\n",
    "print(cad11)\n",
    "print(cad21)"
   ]
  },
  {
   "cell_type": "markdown",
   "metadata": {},
   "source": [
    "**Divide y vencerás**"
   ]
  },
  {
   "cell_type": "code",
   "execution_count": null,
   "metadata": {},
   "outputs": [],
   "source": [
    "start_time = time()\n",
    "subsecuencia=LCS_DV(cad11,cad21)\n",
    "print(subsecuencia[1])\n",
    "elapsed_time = time() - start_time\n",
    "timeDV[1]=elapsed_time"
   ]
  },
  {
   "cell_type": "markdown",
   "metadata": {},
   "source": [
    "**Programación dinámica**"
   ]
  },
  {
   "cell_type": "code",
   "execution_count": 11,
   "metadata": {},
   "outputs": [
    {
     "name": "stdout",
     "output_type": "stream",
     "text": [
      "rxfajtxbczfayfrpovkzulkgzgvu\n"
     ]
    }
   ],
   "source": [
    "start_time = time()\n",
    "print(LCS(cad11,cad21))\n",
    "elapsed_time = time() - start_time\n",
    "timePD[1]=elapsed_time"
   ]
  },
  {
   "cell_type": "markdown",
   "metadata": {},
   "source": [
    "# Datos de tamaño 1000"
   ]
  },
  {
   "cell_type": "code",
   "execution_count": 12,
   "metadata": {},
   "outputs": [
    {
     "name": "stdout",
     "output_type": "stream",
     "text": [
      "dbbicnvefhvetkwymucjxqgcnrvnuylhqbqujnbkvkjvhlykicqqsfktglhavoufnnfrpvmiohgllbfzonwhkkugokmxckkulqxrignrdtogcmxjtryrpjnhqagvgeipoohocecuwmlcyscsizqqazkpdwgqufaspxfvahtyqqvssglbuivncyhcnpcqnnhrxewjmvxiciyjogrfkpscgicisbhexbhfuijikryenfdeyoebbqqmmgbmehsunuewtzjoyihlszelocoemzfvywezhzqmxaccbdkojqcoitcopmfpjyaoagdafmcvxvynqigyruzulcnuazipfzphhcpaxbfaevfaamhvnwdhqmnsivmaockfjniahqtifsbpssqdpeaelhdrnednkithumqvlrkuttlfdjtimoqiwrugooxjhlhemkkawbkyepdwrmsycqmzyieywaszjtqdvztbfbemuuemqxphdihdgoretvuduyvjahtdizlxmdndcnaslfncldlhvscnovxvdenbmvmrqzfgcpkejeumqwzefqqpnkfrxhiquafkcypnqkyunpuhmupkulkevfbikqfpedysbesztskhguptxudberdxonwwsrbsdepkbtrtdcgsnnubdbusythfhmwhsrjlrqrusedtqnzkamboktabaysdnricgctzawwzchbsjlbzvzifdpdjlocdycjccddskydgytgrchgrgnaggjixizfnfwnzwknmiabyjhcwtrpvxruzhiepqsumwbidpmqmxhsfdmbjiufdehfmrxkrczokpcwrdowatrgyuufcokfomqorlmqrumaewwifkxwbygsbvwgmbcumriwhdjwrjkcmlmkwcnqbithczwljublzinhtpgnbmrmfqqgvdmkzmskcuhqqrstalitzjdcnsvhtjyfitkcdkifdsttihuhuhhozpxkzhwnoqrhesortvslrkcqcpdepzwch\n",
      "jmznkqffdgqyxnwircqixgvusdyanfwmzbjmqoytryoapqcouzfrocicfjgvgdwducphxsnvbdbqgqvhdprivvojhiasnebhxpsfkkrckbsejjdokemnonmybzqabzlkaakkvyagslkvaybyfderhwslbfsjlnrbfolunrmxzwnoccpcbavptpzhutgocltwgsdfhsxkeuywnvaxmoydvbdwyfnkkxapediqdhoyndzvxengmczymjwecyyrpbbmlxtcqqkudhqbuxqyyvwlltvlgbhechsxvypjyxkotnghxbnuvywipwmxssjtjbgbdarzcuuqbloxicrrkoawycjzlbeyqcvhgpogxqhpqaljgkvkhxtvcjwvrpouxmyqrjefisneyhtoiujnouwmujxleewidqrifffsyiijdfchekfxqvqtmdiisdfwsyooxvmcxlhgqskvswwikfwningdntxwznnvnnvttkjuzcrcpqjmxpflralkcukvpmtkmigkhgmbritquflqkatvmyymyhdcrnhqleiqedyyfnzxdjrvnijcpzpvetwxbjoszrrzuwjgljemehebogutvhvqfxucdltoswhjctzszghinvzeldfdngxijvzynhwogpjqzknvvwnzzzbxvvmspeavsfunxvpkzyudxhisouklvxruxvfiflptshzcugvujrixacxqdddetcnjjhdopfuaqdjzpaqoubcdosrakucywbbndjcfvxpyasxawnldqwoincgwqphjvkxbzjszxlqpmmkoaxwhrbdbsddbldtisglegwburohusslwoykxnhyifqsrlaldagvjwfljvtuzkznjkwebqopukqovohayrqlgruhcdoqleiplyfzmcpfwhtqoyvleoewyucygrandnmlqbwiqucpkntozdwbblorzmlqftqyzxzxfoztvwaolbklkqaqlgnnulzvdduouspncmxglqeqndisa\n"
     ]
    }
   ],
   "source": [
    "tam=1000\n",
    "cad12=generarCadena(tam)\n",
    "cad22=generarCadena(tam)\n",
    "print(cad12)\n",
    "print(cad22)"
   ]
  },
  {
   "cell_type": "markdown",
   "metadata": {},
   "source": [
    "**Divide y vencerás**"
   ]
  },
  {
   "cell_type": "code",
   "execution_count": null,
   "metadata": {},
   "outputs": [],
   "source": [
    "start_time = time()\n",
    "subsecuencia=LCS_DV(cad12,cad22)\n",
    "print(subsecuencia[1])\n",
    "elapsed_time = time() - start_time\n",
    "timeDV[2]=elapsed_time"
   ]
  },
  {
   "cell_type": "markdown",
   "metadata": {},
   "source": [
    "**Programación dinámica**"
   ]
  },
  {
   "cell_type": "code",
   "execution_count": 13,
   "metadata": {},
   "outputs": [
    {
     "name": "stdout",
     "output_type": "stream",
     "text": [
      "dicnftyucjxqgrvnhbjnbkkvyskafrhllbfonwhugoclgdxynaveihocecmlcqqkdquxvtvgbvypnhxwmxjgrcicbhxhjkryeneyounuwjleewdqifjdfcxvqiifxvmhvwikfnitnnkumlrkutimqulkaymycqieyzjvztbemehgtvudjhizlddnnhnvvnbvmpeunxpkyuhukuvfifptshguxdddetcnduqdzabokbasdncgwhjbzzpddddsggrhragjfzknjweqpukooargucoqleifwyvwgrdmlwcntzwblzmfqvkkqqlzvdduupxqeqd\n"
     ]
    }
   ],
   "source": [
    "start_time = time()\n",
    "print(LCS(cad12,cad22))\n",
    "elapsed_time = time() - start_time\n",
    "timePD[2]=elapsed_time"
   ]
  },
  {
   "cell_type": "markdown",
   "metadata": {},
   "source": [
    "# Datos de tamaño 10000"
   ]
  },
  {
   "cell_type": "code",
   "execution_count": 14,
   "metadata": {},
   "outputs": [],
   "source": [
    "tam=10000\n",
    "cad13=generarCadena(tam)\n",
    "cad23=generarCadena(tam)\n",
    "#print(cad13)\n",
    "#print(cad23)"
   ]
  },
  {
   "cell_type": "markdown",
   "metadata": {},
   "source": [
    "**Divide y vencerás**"
   ]
  },
  {
   "cell_type": "code",
   "execution_count": null,
   "metadata": {},
   "outputs": [],
   "source": [
    "start_time = time()\n",
    "subsecuencia=LCS_DV(cad13,cad23)\n",
    "print(subsecuencia[1])\n",
    "elapsed_time = time() - start_time\n",
    "timeDV[3]=elapsed_time"
   ]
  },
  {
   "cell_type": "markdown",
   "metadata": {},
   "source": [
    "**Programación dinámica**"
   ]
  },
  {
   "cell_type": "code",
   "execution_count": 15,
   "metadata": {},
   "outputs": [],
   "source": [
    "start_time = time()\n",
    "LCS(cad13,cad23)\n",
    "elapsed_time = time() - start_time\n",
    "timePD[3]=elapsed_time"
   ]
  },
  {
   "cell_type": "markdown",
   "metadata": {},
   "source": [
    "# Datos de tamaño 100000"
   ]
  },
  {
   "cell_type": "code",
   "execution_count": 16,
   "metadata": {},
   "outputs": [],
   "source": [
    "tam=100000\n",
    "cad14=generarCadena(tam)\n",
    "cad24=generarCadena(tam)\n",
    "#print(cad14)\n",
    "#print(cad24)"
   ]
  },
  {
   "cell_type": "markdown",
   "metadata": {},
   "source": [
    "**Divide y vencerás**"
   ]
  },
  {
   "cell_type": "code",
   "execution_count": null,
   "metadata": {},
   "outputs": [],
   "source": [
    "start_time = time()\n",
    "subsecuencia=LCS_DV(cad14,cad24)\n",
    "#print(subsecuencia[1])\n",
    "elapsed_time = time() - start_time\n",
    "timeDV[4]=elapsed_time"
   ]
  },
  {
   "cell_type": "markdown",
   "metadata": {},
   "source": [
    "**Programación dinámica**"
   ]
  },
  {
   "cell_type": "code",
   "execution_count": 17,
   "metadata": {},
   "outputs": [
    {
     "ename": "MemoryError",
     "evalue": "",
     "output_type": "error",
     "traceback": [
      "\u001b[1;31m---------------------------------------------------------------------------\u001b[0m",
      "\u001b[1;31mMemoryError\u001b[0m                               Traceback (most recent call last)",
      "\u001b[1;32m<ipython-input-17-6a9bdcf673a2>\u001b[0m in \u001b[0;36m<module>\u001b[1;34m\u001b[0m\n\u001b[0;32m      1\u001b[0m \u001b[0mstart_time\u001b[0m \u001b[1;33m=\u001b[0m \u001b[0mtime\u001b[0m\u001b[1;33m(\u001b[0m\u001b[1;33m)\u001b[0m\u001b[1;33m\u001b[0m\u001b[1;33m\u001b[0m\u001b[0m\n\u001b[1;32m----> 2\u001b[1;33m \u001b[0mLCS\u001b[0m\u001b[1;33m(\u001b[0m\u001b[0mcad14\u001b[0m\u001b[1;33m,\u001b[0m\u001b[0mcad24\u001b[0m\u001b[1;33m)\u001b[0m\u001b[1;33m\u001b[0m\u001b[1;33m\u001b[0m\u001b[0m\n\u001b[0m\u001b[0;32m      3\u001b[0m \u001b[0melapsed_time\u001b[0m \u001b[1;33m=\u001b[0m \u001b[0mtime\u001b[0m\u001b[1;33m(\u001b[0m\u001b[1;33m)\u001b[0m \u001b[1;33m-\u001b[0m \u001b[0mstart_time\u001b[0m\u001b[1;33m\u001b[0m\u001b[1;33m\u001b[0m\u001b[0m\n\u001b[0;32m      4\u001b[0m \u001b[0mtimePD\u001b[0m\u001b[1;33m[\u001b[0m\u001b[1;36m4\u001b[0m\u001b[1;33m]\u001b[0m\u001b[1;33m=\u001b[0m\u001b[0melapsed_time\u001b[0m\u001b[1;33m\u001b[0m\u001b[1;33m\u001b[0m\u001b[0m\n",
      "\u001b[1;32m<ipython-input-4-2e38e297c6d4>\u001b[0m in \u001b[0;36mLCS\u001b[1;34m(cad1, cad2)\u001b[0m\n\u001b[0;32m      2\u001b[0m     \u001b[0mn1\u001b[0m \u001b[1;33m=\u001b[0m \u001b[0mlen\u001b[0m\u001b[1;33m(\u001b[0m\u001b[0mcad1\u001b[0m\u001b[1;33m)\u001b[0m\u001b[1;33m+\u001b[0m\u001b[1;36m1\u001b[0m\u001b[1;33m\u001b[0m\u001b[1;33m\u001b[0m\u001b[0m\n\u001b[0;32m      3\u001b[0m     \u001b[0mn2\u001b[0m \u001b[1;33m=\u001b[0m \u001b[0mlen\u001b[0m\u001b[1;33m(\u001b[0m\u001b[0mcad2\u001b[0m\u001b[1;33m)\u001b[0m\u001b[1;33m+\u001b[0m\u001b[1;36m1\u001b[0m\u001b[1;33m\u001b[0m\u001b[1;33m\u001b[0m\u001b[0m\n\u001b[1;32m----> 4\u001b[1;33m     \u001b[0mM\u001b[0m \u001b[1;33m=\u001b[0m \u001b[0mnp\u001b[0m\u001b[1;33m.\u001b[0m\u001b[0mzeros\u001b[0m\u001b[1;33m(\u001b[0m\u001b[1;33m(\u001b[0m\u001b[0mn1\u001b[0m\u001b[1;33m,\u001b[0m\u001b[0mn2\u001b[0m\u001b[1;33m,\u001b[0m\u001b[1;36m2\u001b[0m\u001b[1;33m)\u001b[0m\u001b[1;33m)\u001b[0m\u001b[1;33m\u001b[0m\u001b[1;33m\u001b[0m\u001b[0m\n\u001b[0m\u001b[0;32m      5\u001b[0m     \u001b[1;32mfor\u001b[0m \u001b[0mi\u001b[0m \u001b[1;32min\u001b[0m \u001b[0mrange\u001b[0m\u001b[1;33m(\u001b[0m\u001b[1;36m1\u001b[0m\u001b[1;33m,\u001b[0m\u001b[0mn1\u001b[0m\u001b[1;33m)\u001b[0m\u001b[1;33m:\u001b[0m\u001b[1;33m\u001b[0m\u001b[1;33m\u001b[0m\u001b[0m\n\u001b[0;32m      6\u001b[0m         \u001b[1;32mfor\u001b[0m \u001b[0mj\u001b[0m \u001b[1;32min\u001b[0m \u001b[0mrange\u001b[0m\u001b[1;33m(\u001b[0m\u001b[1;36m1\u001b[0m\u001b[1;33m,\u001b[0m\u001b[0mn2\u001b[0m\u001b[1;33m)\u001b[0m\u001b[1;33m:\u001b[0m\u001b[1;33m\u001b[0m\u001b[1;33m\u001b[0m\u001b[0m\n",
      "\u001b[1;31mMemoryError\u001b[0m: "
     ]
    }
   ],
   "source": [
    "start_time = time()\n",
    "LCS(cad14,cad24)\n",
    "elapsed_time = time() - start_time\n",
    "timePD[4]=elapsed_time"
   ]
  },
  {
   "cell_type": "markdown",
   "metadata": {},
   "source": [
    "# Datos de tamaño 1000000"
   ]
  },
  {
   "cell_type": "code",
   "execution_count": null,
   "metadata": {},
   "outputs": [],
   "source": [
    "tam=1000000\n",
    "cad15=generarCadena(tam)\n",
    "cad25=generarCadena(tam)\n",
    "#print(cad15)\n",
    "#print(cad25)"
   ]
  },
  {
   "cell_type": "markdown",
   "metadata": {},
   "source": [
    "**Divide y vencerás**"
   ]
  },
  {
   "cell_type": "code",
   "execution_count": null,
   "metadata": {},
   "outputs": [],
   "source": [
    "start_time = time()\n",
    "subsecuencia=LCS_DV(cad15,cad25)\n",
    "#print(subsecuencia[1])\n",
    "elapsed_time = time() - start_time\n",
    "timeDV[5]=elapsed_time"
   ]
  },
  {
   "cell_type": "markdown",
   "metadata": {},
   "source": [
    "**Programación dinámica**"
   ]
  },
  {
   "cell_type": "code",
   "execution_count": null,
   "metadata": {},
   "outputs": [],
   "source": [
    "start_time = time()\n",
    "LCS(cad15,cad25)\n",
    "elapsed_time = time() - start_time\n",
    "timePD[5]=elapsed_time"
   ]
  },
  {
   "cell_type": "markdown",
   "metadata": {},
   "source": [
    "# Gráficas\n",
    "**La gráfica con los diferentes tiempos se encuentra a continuación**"
   ]
  },
  {
   "cell_type": "markdown",
   "metadata": {},
   "source": [
    "**NOTA: La implementación por divide y vencerás para cadenas de 100 caracteres no terminaba pasadas más de 3 horas, es por ello que se detuvieron**</br></br>\n",
    "**Si se desea obtener los tiempos reales eliminar la siguiente celda y correr las celdas que tienen la ejecución correspondientes**"
   ]
  },
  {
   "cell_type": "code",
   "execution_count": 18,
   "metadata": {},
   "outputs": [],
   "source": [
    "timeDV[1]=10800"
   ]
  },
  {
   "cell_type": "code",
   "execution_count": 25,
   "metadata": {},
   "outputs": [
    {
     "name": "stdout",
     "output_type": "stream",
     "text": [
      "Método:\t\t10 datos\t100 datos\t1000 datos\t10000 datos\t\t100000 datos\t\t1000000 datos\n",
      "PD\t\t0.0000000000 \t0.0129652023 \t1.2152581215 \t125.5402960777 \t\t0.0000000000 \t\t0.0000000000 \n",
      "DV\t\t0.0977847576 \t10800.00000 \t0.0000000000 \t0.0000000000 \t\t0.0000000000 \t\t0.0000000000\n"
     ]
    }
   ],
   "source": [
    "print(\"Método:\\t\\t10 datos\\t100 datos\\t1000 datos\\t10000 datos\\t\\t100000 datos\\t\\t1000000 datos\\nPD\\t\\t%.10f\"%timePD[0],\"\\t%.10f\" %timePD[1], \"\\t%.10f\" %timePD[2], \n",
    "      \"\\t%.10f\" %timePD[3], \"\\t\\t%.10f\" %timePD[4], \"\\t\\t%.10f\" %timePD[5], \"\\nDV\\t\\t%.10f\"%timeDV[0],\n",
    "      \"\\t%.5f\" %timeDV[1], \"\\t%.10f\" %timeDV[2], \"\\t%.10f\" %timeDV[3], \"\\t\\t%.10f\" %timeDV[4], \"\\t\\t%.10f\" %timeDV[5])"
   ]
  },
  {
   "cell_type": "code",
   "execution_count": 27,
   "metadata": {},
   "outputs": [
    {
     "data": {
      "image/png": "[encoded data removed]",
      "text/plain": [
       "<Figure size 432x288 with 1 Axes>"
      ]
     },
     "metadata": {
      "needs_background": "light"
     },
     "output_type": "display_data"
    }
   ],
   "source": [
    "n=[10,100,1000,10000,100000,1000000]\n",
    "plt.plot(n[:2],timeDV[:2],label=\"Divide y vencerás\")\n",
    "plt.plot(n[:4],timePD[:4],label=\"Programación dinámica\")\n",
    "\n",
    "plt.xlabel('Tamaño de datos')\n",
    "plt.ylabel('Tiempo (s)')\n",
    "\n",
    "plt.title(\"Subsecuencia de cadenas\")\n",
    "\n",
    "plt.legend()\n",
    "\n",
    "plt.show()"
   ]
  },
  {
   "cell_type": "markdown",
   "metadata": {},
   "source": [
    "# Conclusiones"
   ]
  },
  {
   "cell_type": "markdown",
   "metadata": {},
   "source": [
    "Gracias al desarrollo de esta práctica se logró en primera instancia resolver el problema de la subsecuencia más larga entre dos cadenas, esto se logró ralizar implementando dos métodos diferentes, el de programacion dinamica y el de divide y vencerás, se realizó de esta manera para poder comparar cuanto tiempo les tomaba a cada uno de estos para ejecutarse, esto nos permitió darnos cuenta que el de programación dinámica es rápido, sin embargo, requiere de una gran cantidad de memoria para guardar los datos requeridos, y el de divide y vencerás resulto ser bastante lento, pues mientras el de PD logró finalizar hasta cadenas de 10000 datos, la de DV unicamente terminó para 10 datos, aquí se puede observar de una mejor manera la diferencia entre estos dos métodos y la utilidad de implementar la programacion dinamica, sin embargo, al igual que el problema de la multiplicacion de matrices no se puede confiar plenamente en este, pues al requerir de una gran cantidad de memoria se encuentra limitado por la computadora donde se ejecute, es importante mencionar que a pesar de ello este es una técnica que permite ejecutar lso algoritmos de una forma bastante rápida y en este caso, al determinar la subsecuencia máxima de dos cadenas, se demostró que efectivamente es bastante rápido, generando tiempos bastante bueno y nos deja ver que esta técnica cumple con su objetivo de agilizar los algoritmos."
   ]
  }
 ],
 "metadata": {
  "kernelspec": {
   "display_name": "Python 3",
   "language": "python",
   "name": "python3"
  },
  "language_info": {
   "codemirror_mode": {
    "name": "ipython",
    "version": 3
   },
   "file_extension": ".py",
   "mimetype": "text/x-python",
   "name": "python",
   "nbconvert_exporter": "python",
   "pygments_lexer": "ipython3",
   "version": "3.7.3"
  }
 },
 "nbformat": 4,
 "nbformat_minor": 4
}
