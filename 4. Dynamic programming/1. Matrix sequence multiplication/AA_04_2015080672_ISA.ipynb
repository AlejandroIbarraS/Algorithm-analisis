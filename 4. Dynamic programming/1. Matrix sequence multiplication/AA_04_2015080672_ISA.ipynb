{
 "cells": [
  {
   "cell_type": "markdown",
   "metadata": {},
   "source": [
    "<img src=\"header_escom26.jpg\" alt=\"header\" style=\"height:200px;\">\n",
    "\n",
    "# Práctica 4:  Programación dinámica: Multiplicación de una secuencia de matrices</br>\n",
    "# Ibarra Soto Alejandro\n",
    "# 2015080672\n",
    "\n",
    "**Análisis de Algoritmos** </br>\n",
    "**Profesor: Dr. Flavio Arturo Sánchez Garfias** </br>\n",
    "**3CM2**"
   ]
  },
  {
   "cell_type": "markdown",
   "metadata": {},
   "source": [
    "<h1>Método de divide y vencerás</h1>\n",
    "El producto de un número n de matrices es optimizable en cuanto al número de multiplicaciones escalares requeridas. A la hora de multiplicar una serie de matrices se puede elegir en que orden queremos realizar las multiplicaciones entre estas. Se pueden realizar en un orden cualquiera dada la propiedad asociativa de la multiplicación.\n",
    "<center><img src=\"i2.png\"></center></br>\n",
    "Decidamos el orden que decidamos el resultado siempre es el mismo. La diferencia esta en el número de multiplicaciones que implica elegir un orden u otro. Al multiplicar dos matrices M1 de tamaño nxm y M2 de tamaño mxk el número de multiplicaciones escalares es n*m*k. La cantidad total de multiplicaciones será, la suma de todas las multiplicaciones que hacen falta para multiplicar cada submatriz obtenida como resultado con la siguiente en el orden escogido. Y como vamos a ver en este sencillo ejemplo esta cantidad puede variar con el orden utilizado.\n",
    "<center><img src=\"i1.png\"></center></br>\n",
    "Eligiendo un orden adecuado como podemos ver, optimizamos el coste de realizar las multiplicaciones escalares necesarias para llegar al resultado. Aquí se puede ver que el método <b>divide y vencerás</b> consiste en probar todas las posibles formas de multiplicar las matrices y escoger aquella que tiene el menor coste.</br>\n",
    "<h2> Método de programación dinámica </h2>\n",
    "Como vamos a emplear Programación Dinámica, buscamos que todas las subsoluciones sean óptimas, porque se debe de cumplir el principio de optimalidad de Bellman. Esto quiere decir que si la solución es buscar la forma de realizar la multiplicación de n matrices, una posible subsolución será multiplicar desde la matriz i hasta la j. El número mínimo de multiplicaciones necesarias para hallar la subsolución óptima de i a j será Mij. Si tenemos que ir calculando todas las subsoluciones hasta encontrar la M1n que es la que andamos buscando, necesitaremos una tabla de nxn donde iremos almacenando los resultados.\n",
    "<center><img src=\"i3.png\"></center></br>\n",
    "Como la i y la j cumplen que 1 <= i <= j <= n solo vamos a utilizar la mitad superior derecha de la tabla en donde se cumple la restricción. En las Mij donde la i=j, se cumple que Mij=0. Tal y como hemos definido Mij es el número de multiplicaciones escalares necesarias para obtener el resultado de multiplicar desde la matriz i hasta la j, si i y j son iguales significa que no se realiza ninguna operación porque solo tenemos una matriz. La tabla empleada para realizar los cálculos tendría la forma que muestra la imagen.\n",
    "Para hallar cada subsolución aplicamos la siguiente función que minimiza el coste total en número de multiplicaciones:\n",
    "<center><img src=\"i4.png\"></center></br>\n",
    "El resultado del coste menor se encontrará en la casilla superior izquierda, y a partir de esta se usa la misma lógica para obtener el orden."
   ]
  },
  {
   "cell_type": "markdown",
   "metadata": {},
   "source": [
    "Import packages <a href=\"https://numpy.org\">Numpy</a> and <a href=\"https://matplotlib.org\">Matplotlib</a>"
   ]
  },
  {
   "cell_type": "code",
   "execution_count": 1,
   "metadata": {},
   "outputs": [],
   "source": [
    "import numpy as np\n",
    "import matplotlib.pyplot as plt\n",
    "%matplotlib inline"
   ]
  },
  {
   "cell_type": "markdown",
   "metadata": {},
   "source": [
    "**Definir la función para imprimir la solución**"
   ]
  },
  {
   "cell_type": "code",
   "execution_count": 2,
   "metadata": {},
   "outputs": [],
   "source": [
    "def imprimir(mat,i,j,cad):\n",
    "    #if((i-j==1) or (i-j==-1)):\n",
    "    if((j-i)==1):\n",
    "        cad.append(\"A\")\n",
    "        cad.append(str(int(i)))\n",
    "    else:\n",
    "        cad.append(\"(\")\n",
    "        imprimir(mat,int(i),int(mat[int(i),int(j),1]),cad)\n",
    "        cad.append(\"x\")\n",
    "        imprimir(mat,int(mat[int(i),int(j),1]),int(j),cad)\n",
    "        cad.append(\")\")"
   ]
  },
  {
   "cell_type": "markdown",
   "metadata": {},
   "source": [
    "**Definir la función de divide y vencerás**"
   ]
  },
  {
   "cell_type": "code",
   "execution_count": 20,
   "metadata": {},
   "outputs": [],
   "source": [
    "def min_mult_dyv(low,high,M,x):\n",
    "    if M[low,high,0]!=-1:\n",
    "        return M[low,high,0]\n",
    "    if(high-low)==1:\n",
    "        M[low,high,0]=0\n",
    "        M[low,high,1]=0\n",
    "        return M[low,high,0]\n",
    "    if(high-low)==2:\n",
    "        M[low,high,0]=x[low]*x[low+1]*x[low+2]\n",
    "        M[low,high,1]=low+1\n",
    "        return M[low,high,0]\n",
    "    res=99999999999999999999999999999\n",
    "    koptima=0\n",
    "    for k in range (low+1,high):\n",
    "        c1=min_mult_dyv(low,k,M,x)\n",
    "        c2=min_mult_dyv(k,high,M,x)\n",
    "        ct=c1+c2+x[low]*x[k]*x[high]\n",
    "        if(ct<res):\n",
    "            res=ct\n",
    "            koptima=k\n",
    "    M[low,high,0]=res\n",
    "    M[low,high,1]=koptima\n",
    "    return M[low,high,0]\n",
    "\n",
    "def minMult_dyv(x):\n",
    "    n=arr.shape[0]\n",
    "    M=np.ones((n,n,2))*(-1)\n",
    "    min_mult_dyv(0,n-1,M,x)\n",
    "    #opt=[\"Resultado:\"]\n",
    "    #imprimir(M,0,n-1,opt)\n",
    "    #cadena = \" \".join(opt)\n",
    "    #print(cadena)"
   ]
  },
  {
   "cell_type": "markdown",
   "metadata": {},
   "source": [
    "**Definir la función de programación dinámica**"
   ]
  },
  {
   "cell_type": "code",
   "execution_count": 21,
   "metadata": {},
   "outputs": [],
   "source": [
    "def min_mult(x):\n",
    "    low=0\n",
    "    high=(x.shape[0])-1\n",
    "    M = np.ones((high+1,high+1,2))*-1            \n",
    "    for i in range (low,high):\n",
    "        k=0\n",
    "        for j in range (i+1,high+1):\n",
    "            if (j-k) == 1:\n",
    "                M[k,j,0]=0\n",
    "                M[k,j,1]=0\n",
    "            else:\n",
    "                if (j-k) == 2:\n",
    "                    M[k,j,0]=x[k]*x[k+1]*x[k+2]\n",
    "                    M[k,j,1]=k+1\n",
    "                else:\n",
    "                    res=-1\n",
    "                    moptima=0\n",
    "                    for m in range (k+1,j):\n",
    "                        c1=M[k,m,0]\n",
    "                        c2=M[m,j,0]\n",
    "                        ct=c1+c2+x[k]*x[m]*x[j]\n",
    "                        if res==-1:\n",
    "                            res=ct\n",
    "                            moptima=m\n",
    "                        else:\n",
    "                            if ct<res:\n",
    "                                res=ct\n",
    "                                moptima=m\n",
    "                    M[k,j,0]=res\n",
    "                    M[k,j,1]=moptima\n",
    "            k=k+1\n",
    "    #opt=[\"Resultado:\"]\n",
    "    #imprimir(M,0,high,opt)\n",
    "    #cadena = \" \".join(opt)\n",
    "    #print(cadena)"
   ]
  },
  {
   "cell_type": "markdown",
   "metadata": {},
   "source": [
    "# Pruebas "
   ]
  },
  {
   "cell_type": "markdown",
   "metadata": {},
   "source": [
    "A continuación, se crearán arreglos de 10, 100, 1000, 10000, 100000, 1000000 digitos"
   ]
  },
  {
   "cell_type": "code",
   "execution_count": 5,
   "metadata": {},
   "outputs": [],
   "source": [
    "from time import time\n",
    "timePD = [0] * (6)\n",
    "timeDV = [0] * (6)"
   ]
  },
  {
   "cell_type": "markdown",
   "metadata": {},
   "source": [
    "# Datos de tamaño 10"
   ]
  },
  {
   "cell_type": "code",
   "execution_count": 6,
   "metadata": {},
   "outputs": [
    {
     "data": {
      "text/plain": [
       "array([95, 11, 81, 70, 63, 87, 75,  9, 77, 40])"
      ]
     },
     "execution_count": 6,
     "metadata": {},
     "output_type": "execute_result"
    }
   ],
   "source": [
    "np.random.seed(101) #THE SEED\n",
    "tam=10\n",
    "arr = np.random.randint(0,100,tam)\n",
    "arr"
   ]
  },
  {
   "cell_type": "markdown",
   "metadata": {},
   "source": [
    "**Divide y vencerás**"
   ]
  },
  {
   "cell_type": "code",
   "execution_count": 7,
   "metadata": {},
   "outputs": [
    {
     "name": "stdout",
     "output_type": "stream",
     "text": [
      "Resultado: ( ( A 0 x ( A 1 x ( A 2 x ( A 3 x ( A 4 x ( A 5 x A 6 ) ) ) ) ) ) x ( A 7 x A 8 ) )\n"
     ]
    }
   ],
   "source": [
    "start_time = time()\n",
    "minMult_dyv(arr)\n",
    "elapsed_time = time() - start_time\n",
    "timeDV[0]=elapsed_time"
   ]
  },
  {
   "cell_type": "markdown",
   "metadata": {},
   "source": [
    "**Programación dinámica**"
   ]
  },
  {
   "cell_type": "code",
   "execution_count": 8,
   "metadata": {},
   "outputs": [
    {
     "name": "stdout",
     "output_type": "stream",
     "text": [
      "Resultado: ( ( A 0 x ( A 1 x ( A 2 x ( A 3 x ( A 4 x ( A 5 x A 6 ) ) ) ) ) ) x ( A 7 x A 8 ) )\n"
     ]
    }
   ],
   "source": [
    "start_time = time()\n",
    "min_mult(arr)\n",
    "elapsed_time = time() - start_time\n",
    "timePD[0]=elapsed_time"
   ]
  },
  {
   "cell_type": "markdown",
   "metadata": {},
   "source": [
    "# Datos de tamaño 100"
   ]
  },
  {
   "cell_type": "code",
   "execution_count": 9,
   "metadata": {},
   "outputs": [
    {
     "data": {
      "text/plain": [
       "array([95, 11, 81, 70, 63, 87, 75,  9, 77, 40,  4, 63, 40, 60, 92, 64,  5,\n",
       "       12, 93, 40, 49, 83,  8, 29, 59, 34, 44, 72, 19, 10, 76, 95, 87,  0,\n",
       "       73,  8, 62, 36, 83, 99, 28, 63,  7, 10, 52, 56, 38, 73, 52, 18, 71,\n",
       "       15, 44,  0, 12, 17, 75, 79, 97, 93, 24, 36, 63, 19, 35, 30, 10, 60,\n",
       "       20, 27,  8, 86, 26, 87, 46, 47, 54, 86,  9, 45,  2, 18, 58, 92, 11,\n",
       "       10, 94, 35, 28,  3, 83, 84, 47, 14, 69, 60, 69, 51,  6, 88])"
      ]
     },
     "execution_count": 9,
     "metadata": {},
     "output_type": "execute_result"
    }
   ],
   "source": [
    "np.random.seed(101) #THE SEED\n",
    "tam=100\n",
    "arr = np.random.randint(0,100,tam)\n",
    "arr"
   ]
  },
  {
   "cell_type": "markdown",
   "metadata": {},
   "source": [
    "**Divide y vencerás**"
   ]
  },
  {
   "cell_type": "code",
   "execution_count": 10,
   "metadata": {},
   "outputs": [
    {
     "name": "stdout",
     "output_type": "stream",
     "text": [
      "Resultado: ( ( A 0 x ( A 1 x ( A 2 x ( A 3 x ( A 4 x ( A 5 x ( A 6 x ( A 7 x ( A 8 x ( A 9 x ( A 10 x ( A 11 x ( A 12 x ( A 13 x ( A 14 x ( A 15 x ( A 16 x ( A 17 x ( A 18 x ( A 19 x ( A 20 x ( A 21 x ( A 22 x ( A 23 x ( A 24 x ( A 25 x ( A 26 x ( A 27 x ( A 28 x ( A 29 x ( A 30 x ( A 31 x A 32 ) ) ) ) ) ) ) ) ) ) ) ) ) ) ) ) ) ) ) ) ) ) ) ) ) ) ) ) ) ) ) ) x ( A 33 x ( ( A 34 x ( A 35 x ( A 36 x ( A 37 x ( A 38 x ( A 39 x ( A 40 x ( A 41 x ( A 42 x ( A 43 x ( A 44 x ( A 45 x ( A 46 x ( A 47 x ( A 48 x ( A 49 x ( A 50 x ( A 51 x A 52 ) ) ) ) ) ) ) ) ) ) ) ) ) ) ) ) ) ) x ( ( ( ( ( ( ( ( ( ( ( ( ( ( ( ( ( ( ( ( ( ( ( ( ( ( ( ( ( ( ( ( ( ( ( ( ( ( ( ( ( ( ( ( ( A 53 x A 54 ) x A 55 ) x A 56 ) x A 57 ) x A 58 ) x A 59 ) x A 60 ) x A 61 ) x A 62 ) x A 63 ) x A 64 ) x A 65 ) x A 66 ) x A 67 ) x A 68 ) x A 69 ) x A 70 ) x A 71 ) x A 72 ) x A 73 ) x A 74 ) x A 75 ) x A 76 ) x A 77 ) x A 78 ) x A 79 ) x A 80 ) x A 81 ) x A 82 ) x A 83 ) x A 84 ) x A 85 ) x A 86 ) x A 87 ) x A 88 ) x A 89 ) x A 90 ) x A 91 ) x A 92 ) x A 93 ) x A 94 ) x A 95 ) x A 96 ) x A 97 ) x A 98 ) ) ) )\n"
     ]
    }
   ],
   "source": [
    "start_time = time()\n",
    "minMult_dyv(arr)\n",
    "elapsed_time = time() - start_time\n",
    "timeDV[1]=elapsed_time"
   ]
  },
  {
   "cell_type": "markdown",
   "metadata": {},
   "source": [
    "**Programación dinámica**"
   ]
  },
  {
   "cell_type": "code",
   "execution_count": 11,
   "metadata": {},
   "outputs": [
    {
     "name": "stdout",
     "output_type": "stream",
     "text": [
      "Resultado: ( ( A 0 x ( A 1 x ( A 2 x ( A 3 x ( A 4 x ( A 5 x ( A 6 x ( A 7 x ( A 8 x ( A 9 x ( A 10 x ( A 11 x ( A 12 x ( A 13 x ( A 14 x ( A 15 x ( A 16 x ( A 17 x ( A 18 x ( A 19 x ( A 20 x ( A 21 x ( A 22 x ( A 23 x ( A 24 x ( A 25 x ( A 26 x ( A 27 x ( A 28 x ( A 29 x ( A 30 x ( A 31 x A 32 ) ) ) ) ) ) ) ) ) ) ) ) ) ) ) ) ) ) ) ) ) ) ) ) ) ) ) ) ) ) ) ) x ( A 33 x ( ( A 34 x ( A 35 x ( A 36 x ( A 37 x ( A 38 x ( A 39 x ( A 40 x ( A 41 x ( A 42 x ( A 43 x ( A 44 x ( A 45 x ( A 46 x ( A 47 x ( A 48 x ( A 49 x ( A 50 x ( A 51 x A 52 ) ) ) ) ) ) ) ) ) ) ) ) ) ) ) ) ) ) x ( ( ( ( ( ( ( ( ( ( ( ( ( ( ( ( ( ( ( ( ( ( ( ( ( ( ( ( ( ( ( ( ( ( ( ( ( ( ( ( ( ( ( ( ( A 53 x A 54 ) x A 55 ) x A 56 ) x A 57 ) x A 58 ) x A 59 ) x A 60 ) x A 61 ) x A 62 ) x A 63 ) x A 64 ) x A 65 ) x A 66 ) x A 67 ) x A 68 ) x A 69 ) x A 70 ) x A 71 ) x A 72 ) x A 73 ) x A 74 ) x A 75 ) x A 76 ) x A 77 ) x A 78 ) x A 79 ) x A 80 ) x A 81 ) x A 82 ) x A 83 ) x A 84 ) x A 85 ) x A 86 ) x A 87 ) x A 88 ) x A 89 ) x A 90 ) x A 91 ) x A 92 ) x A 93 ) x A 94 ) x A 95 ) x A 96 ) x A 97 ) x A 98 ) ) ) )\n"
     ]
    }
   ],
   "source": [
    "start_time = time()\n",
    "min_mult(arr)\n",
    "elapsed_time = time() - start_time\n",
    "timePD[1]=elapsed_time"
   ]
  },
  {
   "cell_type": "markdown",
   "metadata": {},
   "source": [
    "# Datos de tamaño 1000"
   ]
  },
  {
   "cell_type": "code",
   "execution_count": 12,
   "metadata": {},
   "outputs": [
    {
     "data": {
      "text/plain": [
       "array([95, 11, 81, 70, 63, 87, 75,  9, 77, 40,  4, 63, 40, 60, 92, 64,  5,\n",
       "       12, 93, 40, 49, 83,  8, 29, 59, 34, 44, 72, 19, 10, 76, 95, 87,  0,\n",
       "       73,  8, 62, 36, 83, 99, 28, 63,  7, 10, 52, 56, 38, 73, 52, 18, 71,\n",
       "       15, 44,  0, 12, 17, 75, 79, 97, 93, 24, 36, 63, 19, 35, 30, 10, 60,\n",
       "       20, 27,  8, 86, 26, 87, 46, 47, 54, 86,  9, 45,  2, 18, 58, 92, 11,\n",
       "       10, 94, 35, 28,  3, 83, 84, 47, 14, 69, 60, 69, 51,  6, 88, 71, 68,\n",
       "       23, 35, 79, 98, 67, 82, 57, 77, 46,  3, 46, 29, 86, 21, 21, 81, 23,\n",
       "       94, 71, 20, 27, 75,  5, 49, 86, 89, 63, 82, 77,  3, 56, 14, 49, 87,\n",
       "       52, 13, 47, 49, 24, 20, 64, 52, 60, 47, 29, 60, 53, 11, 40, 91, 45,\n",
       "       97, 24, 36, 38,  9, 52, 67, 43,  1, 79, 68, 68, 61, 18, 51, 14, 28,\n",
       "       17, 87, 46, 52, 16, 70, 71, 84, 10, 62, 96, 57, 23, 86, 85, 26, 76,\n",
       "       66, 54, 17, 65, 57, 89,  2, 80, 50, 66, 88, 79, 93,  6, 92, 42, 22,\n",
       "       20, 25, 97, 54, 71, 72, 80, 93, 64, 63, 80, 38, 45, 35, 25, 95, 75,\n",
       "       72, 11, 76, 79, 50, 22, 59, 66,  1, 34, 37, 57, 35, 42, 44, 49, 31,\n",
       "       79, 85,  3, 55, 73, 93, 94, 99, 40, 54, 88, 94, 86, 17, 68, 17, 18,\n",
       "       60, 83, 82,  7, 67, 34, 76, 94, 20, 69, 73, 59, 34, 69, 25, 78, 92,\n",
       "       74, 75, 33,  9, 43, 20, 82, 30,  3, 46, 29, 47, 27, 81, 71, 25, 94,\n",
       "       57, 21, 29,  6, 54, 47, 47, 60,  6, 75, 97, 53, 44, 98, 39, 32, 87,\n",
       "       78, 21, 90, 14, 20,  1, 70, 25, 45, 96, 32, 31, 41, 79, 87, 22, 94,\n",
       "       46, 71, 24, 41, 36, 31, 16, 87, 22, 96,  3, 12, 71,  9, 87, 95, 39,\n",
       "       64, 62, 88, 76, 93, 83, 95, 68, 69, 59, 52,  7, 40, 73, 86, 14, 49,\n",
       "       97, 25, 57, 40, 17, 32, 83, 97, 27, 47, 13, 70, 15, 92, 18, 94, 48,\n",
       "       65, 82, 34,  5, 46, 83, 27, 26, 20, 87, 84, 17, 59, 64, 44,  4, 51,\n",
       "       49, 74, 82, 37, 53, 93, 73,  5, 37, 56, 35, 15, 40, 42, 71, 37, 46,\n",
       "       71, 91, 97, 36, 43, 27, 66, 57,  3, 55, 70, 41, 67, 72, 88, 67, 75,\n",
       "       69, 92, 20, 15, 57,  9, 69, 97, 91, 51, 54, 45, 38, 15, 42, 61,  8,\n",
       "        3, 88, 72, 41, 24, 93, 28, 95, 43, 48, 69, 42, 66, 82, 66, 88, 78,\n",
       "       14, 53, 46, 14, 27, 68, 21, 38, 42, 30, 88, 79, 56, 65, 93, 37, 87,\n",
       "       66, 16, 60, 25, 99, 30, 41, 72, 45, 26, 87, 65, 60, 89, 70, 33, 59,\n",
       "       28, 16, 49, 95, 41, 11, 86, 15, 95, 91, 19, 69,  1, 77, 63, 87, 28,\n",
       "       70,  5,  3, 12, 62, 26, 96, 61, 87, 74, 99, 97, 64, 95,  3, 88, 59,\n",
       "       38, 29, 31, 88, 57,  9, 62, 31, 13, 35, 47,  2, 17, 50, 22, 30, 36,\n",
       "       22, 97, 51, 38, 28,  4,  0, 12, 90,  2,  7, 44, 54, 49, 76, 98,  3,\n",
       "       32, 91, 43,  7, 42, 66,  9,  5, 26, 66, 22, 47, 27, 46, 14, 52, 74,\n",
       "       54,  3, 94, 36, 63, 41, 18, 37, 45, 82, 47, 66, 97, 20,  9, 87, 40,\n",
       "       13, 95, 16, 38, 87, 72, 60, 78, 53, 48, 83, 90, 41, 84, 78, 55, 70,\n",
       "       93, 57, 86, 67,  8, 47, 70, 39, 53,  5, 40, 88, 58, 12, 70,  5, 82,\n",
       "        8, 60, 58, 45, 92, 85, 44, 62, 39, 38, 54, 98, 80, 93, 16, 37, 58,\n",
       "       40, 72, 72, 22, 42, 38, 45, 16, 52, 17, 22, 15, 18, 37, 48,  2,  2,\n",
       "       31, 50, 78, 70, 40, 60, 62, 69, 34, 95, 58,  4, 70, 20, 18, 66, 23,\n",
       "       87, 45, 64,  6, 39, 29, 60, 33, 18, 59, 64, 59, 65, 10, 86, 66, 38,\n",
       "       76, 97, 79,  7, 65, 50, 53,  4, 39,  1,  5, 67, 92, 50, 59,  2, 91,\n",
       "       14, 12, 68, 87, 13, 18,  4, 89, 22, 40,  7,  2, 83, 19, 68, 89, 16,\n",
       "        1,  2, 73, 65, 24, 84, 17, 21, 97, 44, 36, 38, 93, 32,  5, 76, 19,\n",
       "       33, 76, 41, 21, 20, 54, 77, 62, 99,  4, 52, 83, 55, 11, 46, 39, 92,\n",
       "       34, 54, 49, 11, 62, 11, 83, 25, 32, 40, 27, 30, 92, 59, 86, 74, 17,\n",
       "       69, 85,  4,  5, 49, 29, 41, 38, 22, 45, 10, 65, 77, 72, 90, 80, 64,\n",
       "       81, 20,  2, 20, 53, 38, 94, 49, 26, 88, 21, 38, 52, 74, 96, 19, 77,\n",
       "        5, 70, 27, 92,  6, 97, 71, 23, 90, 78, 85, 61, 79, 54, 56, 64, 41,\n",
       "       61, 56,  2, 86, 19, 77,  5, 44, 15, 75, 70, 12, 13, 93, 21, 46, 28,\n",
       "       20, 70, 14, 56, 19, 79, 59, 33, 33, 11, 44, 43, 93,  3, 39, 77,  3,\n",
       "       58, 51, 32, 46,  8,  9, 13, 63, 59, 79,  5, 33, 47, 29, 79, 62, 25,\n",
       "       43, 46, 94, 68, 55, 69, 41, 41, 14, 47,  3, 64, 23, 80, 42, 84, 88,\n",
       "       89, 10, 78, 97, 65,  8, 14, 28, 80, 17, 62, 27, 33, 14, 21, 25, 96,\n",
       "       64, 84,  6, 76, 95, 43, 94, 40, 68, 45, 24, 50, 36, 62, 52,  9, 79,\n",
       "       74, 30, 70, 90, 58, 97, 57, 60, 64, 86, 93, 31, 22, 90,  3, 52,  9,\n",
       "       93, 60, 42,  1, 15, 38, 65, 10, 86, 63, 98, 11, 96, 67, 95, 94, 80,\n",
       "       16, 30, 89, 62, 62, 42, 10, 48, 86, 33, 52, 24, 94, 78, 71, 19, 75,\n",
       "       81, 71, 23, 93, 58, 48, 76, 63, 58, 28, 84, 47, 40, 63])"
      ]
     },
     "execution_count": 12,
     "metadata": {},
     "output_type": "execute_result"
    }
   ],
   "source": [
    "np.random.seed(101) #THE SEED\n",
    "tam=1000\n",
    "arr = np.random.randint(0,100,tam)\n",
    "arr"
   ]
  },
  {
   "cell_type": "markdown",
   "metadata": {},
   "source": [
    "**Divide y vencerás**"
   ]
  },
  {
   "cell_type": "code",
   "execution_count": 15,
   "metadata": {},
   "outputs": [
    {
     "name": "stdout",
     "output_type": "stream",
     "text": [
      "Resultado: ( ( A 0 x ( A 1 x ( A 2 x ( A 3 x ( A 4 x ( A 5 x ( A 6 x ( A 7 x ( A 8 x ( A 9 x ( A 10 x ( A 11 x ( A 12 x ( A 13 x ( A 14 x ( A 15 x ( A 16 x ( A 17 x ( A 18 x ( A 19 x ( A 20 x ( A 21 x ( A 22 x ( A 23 x ( A 24 x ( A 25 x ( A 26 x ( A 27 x ( A 28 x ( A 29 x ( A 30 x ( A 31 x A 32 ) ) ) ) ) ) ) ) ) ) ) ) ) ) ) ) ) ) ) ) ) ) ) ) ) ) ) ) ) ) ) ) x ( A 33 x ( ( A 34 x ( A 35 x ( A 36 x ( A 37 x ( A 38 x ( A 39 x ( A 40 x ( A 41 x ( A 42 x ( A 43 x ( A 44 x ( A 45 x ( A 46 x ( A 47 x ( A 48 x ( A 49 x ( A 50 x ( A 51 x A 52 ) ) ) ) ) ) ) ) ) ) ) ) ) ) ) ) ) ) x ( A 53 x ( ( A 54 x ( A 55 x ( A 56 x ( A 57 x ( A 58 x ( A 59 x ( A 60 x ( A 61 x ( A 62 x ( A 63 x ( A 64 x ( A 65 x ( A 66 x ( A 67 x ( A 68 x ( A 69 x ( A 70 x ( A 71 x ( A 72 x ( A 73 x ( A 74 x ( A 75 x ( A 76 x ( A 77 x ( A 78 x ( A 79 x ( A 80 x ( A 81 x ( A 82 x ( A 83 x ( A 84 x ( A 85 x ( A 86 x ( A 87 x ( A 88 x ( A 89 x ( A 90 x ( A 91 x ( A 92 x ( A 93 x ( A 94 x ( A 95 x ( A 96 x ( A 97 x ( A 98 x ( A 99 x ( A 100 x ( A 101 x ( A 102 x ( A 103 x ( A 104 x ( A 105 x ( A 106 x ( A 107 x ( A 108 x ( A 109 x ( A 110 x ( A 111 x ( A 112 x ( A 113 x ( A 114 x ( A 115 x ( A 116 x ( A 117 x ( A 118 x ( A 119 x ( A 120 x ( A 121 x ( A 122 x ( A 123 x ( A 124 x ( A 125 x ( A 126 x ( A 127 x ( A 128 x ( A 129 x ( A 130 x ( A 131 x ( A 132 x ( A 133 x ( A 134 x ( A 135 x ( A 136 x ( A 137 x ( A 138 x ( A 139 x ( A 140 x ( A 141 x ( A 142 x ( A 143 x ( A 144 x ( A 145 x ( A 146 x ( A 147 x ( A 148 x ( A 149 x ( A 150 x ( A 151 x ( A 152 x ( A 153 x ( A 154 x ( A 155 x ( A 156 x ( A 157 x ( A 158 x ( A 159 x ( A 160 x ( A 161 x ( A 162 x ( A 163 x ( A 164 x ( A 165 x ( A 166 x ( A 167 x ( A 168 x ( A 169 x ( A 170 x ( A 171 x ( A 172 x ( A 173 x ( A 174 x ( A 175 x ( A 176 x ( A 177 x ( A 178 x ( A 179 x ( A 180 x ( A 181 x ( A 182 x ( A 183 x ( A 184 x ( A 185 x ( A 186 x ( A 187 x ( A 188 x ( A 189 x ( A 190 x ( A 191 x ( A 192 x ( A 193 x ( A 194 x ( A 195 x ( A 196 x ( A 197 x ( A 198 x ( A 199 x ( A 200 x ( A 201 x ( A 202 x ( A 203 x ( A 204 x ( A 205 x ( A 206 x ( A 207 x ( A 208 x ( A 209 x ( A 210 x ( A 211 x ( A 212 x ( A 213 x ( A 214 x ( A 215 x ( A 216 x ( A 217 x ( A 218 x ( A 219 x ( A 220 x ( A 221 x ( A 222 x ( A 223 x ( A 224 x ( A 225 x ( A 226 x ( A 227 x ( A 228 x ( A 229 x ( A 230 x ( A 231 x ( A 232 x ( A 233 x ( A 234 x ( A 235 x ( A 236 x ( A 237 x ( A 238 x ( A 239 x ( A 240 x ( A 241 x ( A 242 x ( A 243 x ( A 244 x ( A 245 x ( A 246 x ( A 247 x ( A 248 x ( A 249 x ( A 250 x ( A 251 x ( A 252 x ( A 253 x ( A 254 x ( A 255 x ( A 256 x ( A 257 x ( A 258 x ( A 259 x ( A 260 x ( A 261 x ( A 262 x ( A 263 x ( A 264 x ( A 265 x ( A 266 x ( A 267 x ( A 268 x ( A 269 x ( A 270 x ( A 271 x ( A 272 x ( A 273 x ( A 274 x ( A 275 x ( A 276 x ( A 277 x ( A 278 x ( A 279 x ( A 280 x ( A 281 x ( A 282 x ( A 283 x ( A 284 x ( A 285 x ( A 286 x ( A 287 x ( A 288 x ( A 289 x ( A 290 x ( A 291 x ( A 292 x ( A 293 x ( A 294 x ( A 295 x ( A 296 x ( A 297 x ( A 298 x ( A 299 x ( A 300 x ( A 301 x ( A 302 x ( A 303 x ( A 304 x ( A 305 x ( A 306 x ( A 307 x ( A 308 x ( A 309 x ( A 310 x ( A 311 x ( A 312 x ( A 313 x ( A 314 x ( A 315 x ( A 316 x ( A 317 x ( A 318 x ( A 319 x ( A 320 x ( A 321 x ( A 322 x ( A 323 x ( A 324 x ( A 325 x ( A 326 x ( A 327 x ( A 328 x ( A 329 x ( A 330 x ( A 331 x ( A 332 x ( A 333 x ( A 334 x ( A 335 x ( A 336 x ( A 337 x ( A 338 x ( A 339 x ( A 340 x ( A 341 x ( A 342 x ( A 343 x ( A 344 x ( A 345 x ( A 346 x ( A 347 x ( A 348 x ( A 349 x ( A 350 x ( A 351 x ( A 352 x ( A 353 x ( A 354 x ( A 355 x ( A 356 x ( A 357 x ( A 358 x ( A 359 x ( A 360 x ( A 361 x ( A 362 x ( A 363 x ( A 364 x ( A 365 x ( A 366 x ( A 367 x ( A 368 x ( A 369 x ( A 370 x ( A 371 x ( A 372 x ( A 373 x ( A 374 x ( A 375 x ( A 376 x ( A 377 x ( A 378 x ( A 379 x ( A 380 x ( A 381 x ( A 382 x ( A 383 x ( A 384 x ( A 385 x ( A 386 x ( A 387 x ( A 388 x ( A 389 x ( A 390 x ( A 391 x ( A 392 x ( A 393 x ( A 394 x ( A 395 x ( A 396 x ( A 397 x ( A 398 x ( A 399 x ( A 400 x ( A 401 x ( A 402 x ( A 403 x ( A 404 x ( A 405 x ( A 406 x ( A 407 x ( A 408 x ( A 409 x ( A 410 x ( A 411 x ( A 412 x ( A 413 x ( A 414 x ( A 415 x ( A 416 x ( A 417 x ( A 418 x ( A 419 x ( A 420 x ( A 421 x ( A 422 x ( A 423 x ( A 424 x ( A 425 x ( A 426 x ( A 427 x ( A 428 x ( A 429 x ( A 430 x ( A 431 x ( A 432 x ( A 433 x ( A 434 x ( A 435 x ( A 436 x ( A 437 x ( A 438 x ( A 439 x ( A 440 x ( A 441 x ( A 442 x ( A 443 x ( A 444 x ( A 445 x ( A 446 x ( A 447 x ( A 448 x ( A 449 x ( A 450 x ( A 451 x ( A 452 x ( A 453 x ( A 454 x ( A 455 x ( A 456 x ( A 457 x ( A 458 x ( A 459 x ( A 460 x ( A 461 x ( A 462 x ( A 463 x ( A 464 x ( A 465 x ( A 466 x ( A 467 x ( A 468 x ( A 469 x ( A 470 x ( A 471 x ( A 472 x ( A 473 x ( A 474 x ( A 475 x ( A 476 x ( A 477 x ( A 478 x ( A 479 x ( A 480 x ( A 481 x ( A 482 x ( A 483 x ( A 484 x ( A 485 x ( A 486 x ( A 487 x ( A 488 x ( A 489 x ( A 490 x ( A 491 x ( A 492 x ( A 493 x ( A 494 x ( A 495 x ( A 496 x ( A 497 x ( A 498 x ( A 499 x ( A 500 x ( A 501 x ( A 502 x ( A 503 x ( A 504 x ( A 505 x ( A 506 x ( A 507 x ( A 508 x ( A 509 x ( A 510 x ( A 511 x ( A 512 x ( A 513 x ( A 514 x ( A 515 x ( A 516 x ( A 517 x ( A 518 x ( A 519 x ( A 520 x ( A 521 x ( A 522 x ( A 523 x ( A 524 x ( A 525 x ( A 526 x ( A 527 x ( A 528 x ( A 529 x ( A 530 x ( A 531 x ( A 532 x ( A 533 x ( A 534 x ( A 535 x ( A 536 x ( A 537 x ( A 538 x ( A 539 x ( A 540 x ( A 541 x ( A 542 x ( A 543 x ( A 544 x ( A 545 x ( A 546 x ( A 547 x ( A 548 x A 549 ) ) ) ) ) ) ) ) ) ) ) ) ) ) ) ) ) ) ) ) ) ) ) ) ) ) ) ) ) ) ) ) ) ) ) ) ) ) ) ) ) ) ) ) ) ) ) ) ) ) ) ) ) ) ) ) ) ) ) ) ) ) ) ) ) ) ) ) ) ) ) ) ) ) ) ) ) ) ) ) ) ) ) ) ) ) ) ) ) ) ) ) ) ) ) ) ) ) ) ) ) ) ) ) ) ) ) ) ) ) ) ) ) ) ) ) ) ) ) ) ) ) ) ) ) ) ) ) ) ) ) ) ) ) ) ) ) ) ) ) ) ) ) ) ) ) ) ) ) ) ) ) ) ) ) ) ) ) ) ) ) ) ) ) ) ) ) ) ) ) ) ) ) ) ) ) ) ) ) ) ) ) ) ) ) ) ) ) ) ) ) ) ) ) ) ) ) ) ) ) ) ) ) ) ) ) ) ) ) ) ) ) ) ) ) ) ) ) ) ) ) ) ) ) ) ) ) ) ) ) ) ) ) ) ) ) ) ) ) ) ) ) ) ) ) ) ) ) ) ) ) ) ) ) ) ) ) ) ) ) ) ) ) ) ) ) ) ) ) ) ) ) ) ) ) ) ) ) ) ) ) ) ) ) ) ) ) ) ) ) ) ) ) ) ) ) ) ) ) ) ) ) ) ) ) ) ) ) ) ) ) ) ) ) ) ) ) ) ) ) ) ) ) ) ) ) ) ) ) ) ) ) ) ) ) ) ) ) ) ) ) ) ) ) ) ) ) ) ) ) ) ) ) ) ) ) ) ) ) ) ) ) ) ) ) ) ) ) ) ) ) ) ) ) ) ) ) ) ) ) ) ) ) ) ) ) ) ) ) ) ) ) ) ) ) ) ) ) ) ) ) ) ) ) ) ) ) ) ) ) ) ) ) ) ) ) ) ) ) ) ) ) ) ) ) ) ) ) ) ) ) ) ) ) ) ) ) ) ) ) ) ) ) ) ) ) ) ) ) ) ) ) ) ) ) ) ) ) ) ) ) ) ) ) ) ) ) ) ) ) ) ) ) ) ) ) ) ) ) ) ) ) ) ) ) ) ) ) ) ) ) ) ) ) ) x ( ( ( ( ( ( ( ( ( ( ( ( ( ( ( ( ( ( ( ( ( ( ( ( ( ( ( ( ( ( ( ( ( ( ( ( ( ( ( ( ( ( ( ( ( ( ( ( ( ( ( ( ( ( ( ( ( ( ( ( ( ( ( ( ( ( ( ( ( ( ( ( ( ( ( ( ( ( ( ( ( ( ( ( ( ( ( ( ( ( ( ( ( ( ( ( ( ( ( ( ( ( ( ( ( ( ( ( ( ( ( ( ( ( ( ( ( ( ( ( ( ( ( ( ( ( ( ( ( ( ( ( ( ( ( ( ( ( ( ( ( ( ( ( ( ( ( ( ( ( ( ( ( ( ( ( ( ( ( ( ( ( ( ( ( ( ( ( ( ( ( ( ( ( ( ( ( ( ( ( ( ( ( ( ( ( ( ( ( ( ( ( ( ( ( ( ( ( ( ( ( ( ( ( ( ( ( ( ( ( ( ( ( ( ( ( ( ( ( ( ( ( ( ( ( ( ( ( ( ( ( ( ( ( ( ( ( ( ( ( ( ( ( ( ( ( ( ( ( ( ( ( ( ( ( ( ( ( ( ( ( ( ( ( ( ( ( ( ( ( ( ( ( ( ( ( ( ( ( ( ( ( ( ( ( ( ( ( ( ( ( ( ( ( ( ( ( ( ( ( ( ( ( ( ( ( ( ( ( ( ( ( ( ( ( ( ( ( ( ( ( ( ( ( ( ( ( ( ( ( ( ( ( ( ( ( ( ( ( ( ( ( ( ( ( ( ( ( ( ( ( ( ( ( ( ( ( ( ( ( ( ( ( ( ( ( ( ( ( ( ( ( ( ( ( ( ( ( ( ( ( ( ( ( ( ( ( ( ( ( ( ( ( ( ( ( ( ( ( ( ( ( ( ( ( ( ( ( ( ( ( ( ( ( ( ( ( ( ( ( ( ( ( ( ( ( ( ( ( ( ( ( ( ( ( ( ( ( ( ( ( ( ( ( ( ( ( ( A 550 x A 551 ) x A 552 ) x A 553 ) x A 554 ) x A 555 ) x A 556 ) x A 557 ) x A 558 ) x A 559 ) x A 560 ) x A 561 ) x A 562 ) x A 563 ) x A 564 ) x A 565 ) x A 566 ) x A 567 ) x A 568 ) x A 569 ) x A 570 ) x A 571 ) x A 572 ) x A 573 ) x A 574 ) x A 575 ) x A 576 ) x A 577 ) x A 578 ) x A 579 ) x A 580 ) x A 581 ) x A 582 ) x A 583 ) x A 584 ) x A 585 ) x A 586 ) x A 587 ) x A 588 ) x A 589 ) x A 590 ) x A 591 ) x A 592 ) x A 593 ) x A 594 ) x A 595 ) x A 596 ) x A 597 ) x A 598 ) x A 599 ) x A 600 ) x A 601 ) x A 602 ) x A 603 ) x A 604 ) x A 605 ) x A 606 ) x A 607 ) x A 608 ) x A 609 ) x A 610 ) x A 611 ) x A 612 ) x A 613 ) x A 614 ) x A 615 ) x A 616 ) x A 617 ) x A 618 ) x A 619 ) x A 620 ) x A 621 ) x A 622 ) x A 623 ) x A 624 ) x A 625 ) x A 626 ) x A 627 ) x A 628 ) x A 629 ) x A 630 ) x A 631 ) x A 632 ) x A 633 ) x A 634 ) x A 635 ) x A 636 ) x A 637 ) x A 638 ) x A 639 ) x A 640 ) x A 641 ) x A 642 ) x A 643 ) x A 644 ) x A 645 ) x A 646 ) x A 647 ) x A 648 ) x A 649 ) x A 650 ) x A 651 ) x A 652 ) x A 653 ) x A 654 ) x A 655 ) x A 656 ) x A 657 ) x A 658 ) x A 659 ) x A 660 ) x A 661 ) x A 662 ) x A 663 ) x A 664 ) x A 665 ) x A 666 ) x A 667 ) x A 668 ) x A 669 ) x A 670 ) x A 671 ) x A 672 ) x A 673 ) x A 674 ) x A 675 ) x A 676 ) x A 677 ) x A 678 ) x A 679 ) x A 680 ) x A 681 ) x A 682 ) x A 683 ) x A 684 ) x A 685 ) x A 686 ) x A 687 ) x A 688 ) x A 689 ) x A 690 ) x A 691 ) x A 692 ) x A 693 ) x A 694 ) x A 695 ) x A 696 ) x A 697 ) x A 698 ) x A 699 ) x A 700 ) x A 701 ) x A 702 ) x A 703 ) x A 704 ) x A 705 ) x A 706 ) x A 707 ) x A 708 ) x A 709 ) x A 710 ) x A 711 ) x A 712 ) x A 713 ) x A 714 ) x A 715 ) x A 716 ) x A 717 ) x A 718 ) x A 719 ) x A 720 ) x A 721 ) x A 722 ) x A 723 ) x A 724 ) x A 725 ) x A 726 ) x A 727 ) x A 728 ) x A 729 ) x A 730 ) x A 731 ) x A 732 ) x A 733 ) x A 734 ) x A 735 ) x A 736 ) x A 737 ) x A 738 ) x A 739 ) x A 740 ) x A 741 ) x A 742 ) x A 743 ) x A 744 ) x A 745 ) x A 746 ) x A 747 ) x A 748 ) x A 749 ) x A 750 ) x A 751 ) x A 752 ) x A 753 ) x A 754 ) x A 755 ) x A 756 ) x A 757 ) x A 758 ) x A 759 ) x A 760 ) x A 761 ) x A 762 ) x A 763 ) x A 764 ) x A 765 ) x A 766 ) x A 767 ) x A 768 ) x A 769 ) x A 770 ) x A 771 ) x A 772 ) x A 773 ) x A 774 ) x A 775 ) x A 776 ) x A 777 ) x A 778 ) x A 779 ) x A 780 ) x A 781 ) x A 782 ) x A 783 ) x A 784 ) x A 785 ) x A 786 ) x A 787 ) x A 788 ) x A 789 ) x A 790 ) x A 791 ) x A 792 ) x A 793 ) x A 794 ) x A 795 ) x A 796 ) x A 797 ) x A 798 ) x A 799 ) x A 800 ) x A 801 ) x A 802 ) x A 803 ) x A 804 ) x A 805 ) x A 806 ) x A 807 ) x A 808 ) x A 809 ) x A 810 ) x A 811 ) x A 812 ) x A 813 ) x A 814 ) x A 815 ) x A 816 ) x A 817 ) x A 818 ) x A 819 ) x A 820 ) x A 821 ) x A 822 ) x A 823 ) x A 824 ) x A 825 ) x A 826 ) x A 827 ) x A 828 ) x A 829 ) x A 830 ) x A 831 ) x A 832 ) x A 833 ) x A 834 ) x A 835 ) x A 836 ) x A 837 ) x A 838 ) x A 839 ) x A 840 ) x A 841 ) x A 842 ) x A 843 ) x A 844 ) x A 845 ) x A 846 ) x A 847 ) x A 848 ) x A 849 ) x A 850 ) x A 851 ) x A 852 ) x A 853 ) x A 854 ) x A 855 ) x A 856 ) x A 857 ) x A 858 ) x A 859 ) x A 860 ) x A 861 ) x A 862 ) x A 863 ) x A 864 ) x A 865 ) x A 866 ) x A 867 ) x A 868 ) x A 869 ) x A 870 ) x A 871 ) x A 872 ) x A 873 ) x A 874 ) x A 875 ) x A 876 ) x A 877 ) x A 878 ) x A 879 ) x A 880 ) x A 881 ) x A 882 ) x A 883 ) x A 884 ) x A 885 ) x A 886 ) x A 887 ) x A 888 ) x A 889 ) x A 890 ) x A 891 ) x A 892 ) x A 893 ) x A 894 ) x A 895 ) x A 896 ) x A 897 ) x A 898 ) x A 899 ) x A 900 ) x A 901 ) x A 902 ) x A 903 ) x A 904 ) x A 905 ) x A 906 ) x A 907 ) x A 908 ) x A 909 ) x A 910 ) x A 911 ) x A 912 ) x A 913 ) x A 914 ) x A 915 ) x A 916 ) x A 917 ) x A 918 ) x A 919 ) x A 920 ) x A 921 ) x A 922 ) x A 923 ) x A 924 ) x A 925 ) x A 926 ) x A 927 ) x A 928 ) x A 929 ) x A 930 ) x A 931 ) x A 932 ) x A 933 ) x A 934 ) x A 935 ) x A 936 ) x A 937 ) x A 938 ) x A 939 ) x A 940 ) x A 941 ) x A 942 ) x A 943 ) x A 944 ) x A 945 ) x A 946 ) x A 947 ) x A 948 ) x A 949 ) x A 950 ) x A 951 ) x A 952 ) x A 953 ) x A 954 ) x A 955 ) x A 956 ) x A 957 ) x A 958 ) x A 959 ) x A 960 ) x A 961 ) x A 962 ) x A 963 ) x A 964 ) x A 965 ) x A 966 ) x A 967 ) x A 968 ) x A 969 ) x A 970 ) x A 971 ) x A 972 ) x A 973 ) x A 974 ) x A 975 ) x A 976 ) x A 977 ) x A 978 ) x A 979 ) x A 980 ) x A 981 ) x A 982 ) x A 983 ) x A 984 ) x A 985 ) x A 986 ) x A 987 ) x A 988 ) x A 989 ) x A 990 ) x A 991 ) x A 992 ) x A 993 ) x A 994 ) x A 995 ) x A 996 ) x A 997 ) x A 998 ) ) ) ) ) )\n"
     ]
    }
   ],
   "source": [
    "start_time = time()\n",
    "minMult_dyv(arr)\n",
    "elapsed_time = time() - start_time\n",
    "timeDV[2]=elapsed_time"
   ]
  },
  {
   "cell_type": "markdown",
   "metadata": {},
   "source": [
    "**Programación dinámica**"
   ]
  },
  {
   "cell_type": "code",
   "execution_count": 16,
   "metadata": {},
   "outputs": [
    {
     "name": "stdout",
     "output_type": "stream",
     "text": [
      "Resultado: ( ( A 0 x ( A 1 x ( A 2 x ( A 3 x ( A 4 x ( A 5 x ( A 6 x ( A 7 x ( A 8 x ( A 9 x ( A 10 x ( A 11 x ( A 12 x ( A 13 x ( A 14 x ( A 15 x ( A 16 x ( A 17 x ( A 18 x ( A 19 x ( A 20 x ( A 21 x ( A 22 x ( A 23 x ( A 24 x ( A 25 x ( A 26 x ( A 27 x ( A 28 x ( A 29 x ( A 30 x ( A 31 x A 32 ) ) ) ) ) ) ) ) ) ) ) ) ) ) ) ) ) ) ) ) ) ) ) ) ) ) ) ) ) ) ) ) x ( A 33 x ( ( A 34 x ( A 35 x ( A 36 x ( A 37 x ( A 38 x ( A 39 x ( A 40 x ( A 41 x ( A 42 x ( A 43 x ( A 44 x ( A 45 x ( A 46 x ( A 47 x ( A 48 x ( A 49 x ( A 50 x ( A 51 x A 52 ) ) ) ) ) ) ) ) ) ) ) ) ) ) ) ) ) ) x ( A 53 x ( ( A 54 x ( A 55 x ( A 56 x ( A 57 x ( A 58 x ( A 59 x ( A 60 x ( A 61 x ( A 62 x ( A 63 x ( A 64 x ( A 65 x ( A 66 x ( A 67 x ( A 68 x ( A 69 x ( A 70 x ( A 71 x ( A 72 x ( A 73 x ( A 74 x ( A 75 x ( A 76 x ( A 77 x ( A 78 x ( A 79 x ( A 80 x ( A 81 x ( A 82 x ( A 83 x ( A 84 x ( A 85 x ( A 86 x ( A 87 x ( A 88 x ( A 89 x ( A 90 x ( A 91 x ( A 92 x ( A 93 x ( A 94 x ( A 95 x ( A 96 x ( A 97 x ( A 98 x ( A 99 x ( A 100 x ( A 101 x ( A 102 x ( A 103 x ( A 104 x ( A 105 x ( A 106 x ( A 107 x ( A 108 x ( A 109 x ( A 110 x ( A 111 x ( A 112 x ( A 113 x ( A 114 x ( A 115 x ( A 116 x ( A 117 x ( A 118 x ( A 119 x ( A 120 x ( A 121 x ( A 122 x ( A 123 x ( A 124 x ( A 125 x ( A 126 x ( A 127 x ( A 128 x ( A 129 x ( A 130 x ( A 131 x ( A 132 x ( A 133 x ( A 134 x ( A 135 x ( A 136 x ( A 137 x ( A 138 x ( A 139 x ( A 140 x ( A 141 x ( A 142 x ( A 143 x ( A 144 x ( A 145 x ( A 146 x ( A 147 x ( A 148 x ( A 149 x ( A 150 x ( A 151 x ( A 152 x ( A 153 x ( A 154 x ( A 155 x ( A 156 x ( A 157 x ( A 158 x ( A 159 x ( A 160 x ( A 161 x ( A 162 x ( A 163 x ( A 164 x ( A 165 x ( A 166 x ( A 167 x ( A 168 x ( A 169 x ( A 170 x ( A 171 x ( A 172 x ( A 173 x ( A 174 x ( A 175 x ( A 176 x ( A 177 x ( A 178 x ( A 179 x ( A 180 x ( A 181 x ( A 182 x ( A 183 x ( A 184 x ( A 185 x ( A 186 x ( A 187 x ( A 188 x ( A 189 x ( A 190 x ( A 191 x ( A 192 x ( A 193 x ( A 194 x ( A 195 x ( A 196 x ( A 197 x ( A 198 x ( A 199 x ( A 200 x ( A 201 x ( A 202 x ( A 203 x ( A 204 x ( A 205 x ( A 206 x ( A 207 x ( A 208 x ( A 209 x ( A 210 x ( A 211 x ( A 212 x ( A 213 x ( A 214 x ( A 215 x ( A 216 x ( A 217 x ( A 218 x ( A 219 x ( A 220 x ( A 221 x ( A 222 x ( A 223 x ( A 224 x ( A 225 x ( A 226 x ( A 227 x ( A 228 x ( A 229 x ( A 230 x ( A 231 x ( A 232 x ( A 233 x ( A 234 x ( A 235 x ( A 236 x ( A 237 x ( A 238 x ( A 239 x ( A 240 x ( A 241 x ( A 242 x ( A 243 x ( A 244 x ( A 245 x ( A 246 x ( A 247 x ( A 248 x ( A 249 x ( A 250 x ( A 251 x ( A 252 x ( A 253 x ( A 254 x ( A 255 x ( A 256 x ( A 257 x ( A 258 x ( A 259 x ( A 260 x ( A 261 x ( A 262 x ( A 263 x ( A 264 x ( A 265 x ( A 266 x ( A 267 x ( A 268 x ( A 269 x ( A 270 x ( A 271 x ( A 272 x ( A 273 x ( A 274 x ( A 275 x ( A 276 x ( A 277 x ( A 278 x ( A 279 x ( A 280 x ( A 281 x ( A 282 x ( A 283 x ( A 284 x ( A 285 x ( A 286 x ( A 287 x ( A 288 x ( A 289 x ( A 290 x ( A 291 x ( A 292 x ( A 293 x ( A 294 x ( A 295 x ( A 296 x ( A 297 x ( A 298 x ( A 299 x ( A 300 x ( A 301 x ( A 302 x ( A 303 x ( A 304 x ( A 305 x ( A 306 x ( A 307 x ( A 308 x ( A 309 x ( A 310 x ( A 311 x ( A 312 x ( A 313 x ( A 314 x ( A 315 x ( A 316 x ( A 317 x ( A 318 x ( A 319 x ( A 320 x ( A 321 x ( A 322 x ( A 323 x ( A 324 x ( A 325 x ( A 326 x ( A 327 x ( A 328 x ( A 329 x ( A 330 x ( A 331 x ( A 332 x ( A 333 x ( A 334 x ( A 335 x ( A 336 x ( A 337 x ( A 338 x ( A 339 x ( A 340 x ( A 341 x ( A 342 x ( A 343 x ( A 344 x ( A 345 x ( A 346 x ( A 347 x ( A 348 x ( A 349 x ( A 350 x ( A 351 x ( A 352 x ( A 353 x ( A 354 x ( A 355 x ( A 356 x ( A 357 x ( A 358 x ( A 359 x ( A 360 x ( A 361 x ( A 362 x ( A 363 x ( A 364 x ( A 365 x ( A 366 x ( A 367 x ( A 368 x ( A 369 x ( A 370 x ( A 371 x ( A 372 x ( A 373 x ( A 374 x ( A 375 x ( A 376 x ( A 377 x ( A 378 x ( A 379 x ( A 380 x ( A 381 x ( A 382 x ( A 383 x ( A 384 x ( A 385 x ( A 386 x ( A 387 x ( A 388 x ( A 389 x ( A 390 x ( A 391 x ( A 392 x ( A 393 x ( A 394 x ( A 395 x ( A 396 x ( A 397 x ( A 398 x ( A 399 x ( A 400 x ( A 401 x ( A 402 x ( A 403 x ( A 404 x ( A 405 x ( A 406 x ( A 407 x ( A 408 x ( A 409 x ( A 410 x ( A 411 x ( A 412 x ( A 413 x ( A 414 x ( A 415 x ( A 416 x ( A 417 x ( A 418 x ( A 419 x ( A 420 x ( A 421 x ( A 422 x ( A 423 x ( A 424 x ( A 425 x ( A 426 x ( A 427 x ( A 428 x ( A 429 x ( A 430 x ( A 431 x ( A 432 x ( A 433 x ( A 434 x ( A 435 x ( A 436 x ( A 437 x ( A 438 x ( A 439 x ( A 440 x ( A 441 x ( A 442 x ( A 443 x ( A 444 x ( A 445 x ( A 446 x ( A 447 x ( A 448 x ( A 449 x ( A 450 x ( A 451 x ( A 452 x ( A 453 x ( A 454 x ( A 455 x ( A 456 x ( A 457 x ( A 458 x ( A 459 x ( A 460 x ( A 461 x ( A 462 x ( A 463 x ( A 464 x ( A 465 x ( A 466 x ( A 467 x ( A 468 x ( A 469 x ( A 470 x ( A 471 x ( A 472 x ( A 473 x ( A 474 x ( A 475 x ( A 476 x ( A 477 x ( A 478 x ( A 479 x ( A 480 x ( A 481 x ( A 482 x ( A 483 x ( A 484 x ( A 485 x ( A 486 x ( A 487 x ( A 488 x ( A 489 x ( A 490 x ( A 491 x ( A 492 x ( A 493 x ( A 494 x ( A 495 x ( A 496 x ( A 497 x ( A 498 x ( A 499 x ( A 500 x ( A 501 x ( A 502 x ( A 503 x ( A 504 x ( A 505 x ( A 506 x ( A 507 x ( A 508 x ( A 509 x ( A 510 x ( A 511 x ( A 512 x ( A 513 x ( A 514 x ( A 515 x ( A 516 x ( A 517 x ( A 518 x ( A 519 x ( A 520 x ( A 521 x ( A 522 x ( A 523 x ( A 524 x ( A 525 x ( A 526 x ( A 527 x ( A 528 x ( A 529 x ( A 530 x ( A 531 x ( A 532 x ( A 533 x ( A 534 x ( A 535 x ( A 536 x ( A 537 x ( A 538 x ( A 539 x ( A 540 x ( A 541 x ( A 542 x ( A 543 x ( A 544 x ( A 545 x ( A 546 x ( A 547 x ( A 548 x A 549 ) ) ) ) ) ) ) ) ) ) ) ) ) ) ) ) ) ) ) ) ) ) ) ) ) ) ) ) ) ) ) ) ) ) ) ) ) ) ) ) ) ) ) ) ) ) ) ) ) ) ) ) ) ) ) ) ) ) ) ) ) ) ) ) ) ) ) ) ) ) ) ) ) ) ) ) ) ) ) ) ) ) ) ) ) ) ) ) ) ) ) ) ) ) ) ) ) ) ) ) ) ) ) ) ) ) ) ) ) ) ) ) ) ) ) ) ) ) ) ) ) ) ) ) ) ) ) ) ) ) ) ) ) ) ) ) ) ) ) ) ) ) ) ) ) ) ) ) ) ) ) ) ) ) ) ) ) ) ) ) ) ) ) ) ) ) ) ) ) ) ) ) ) ) ) ) ) ) ) ) ) ) ) ) ) ) ) ) ) ) ) ) ) ) ) ) ) ) ) ) ) ) ) ) ) ) ) ) ) ) ) ) ) ) ) ) ) ) ) ) ) ) ) ) ) ) ) ) ) ) ) ) ) ) ) ) ) ) ) ) ) ) ) ) ) ) ) ) ) ) ) ) ) ) ) ) ) ) ) ) ) ) ) ) ) ) ) ) ) ) ) ) ) ) ) ) ) ) ) ) ) ) ) ) ) ) ) ) ) ) ) ) ) ) ) ) ) ) ) ) ) ) ) ) ) ) ) ) ) ) ) ) ) ) ) ) ) ) ) ) ) ) ) ) ) ) ) ) ) ) ) ) ) ) ) ) ) ) ) ) ) ) ) ) ) ) ) ) ) ) ) ) ) ) ) ) ) ) ) ) ) ) ) ) ) ) ) ) ) ) ) ) ) ) ) ) ) ) ) ) ) ) ) ) ) ) ) ) ) ) ) ) ) ) ) ) ) ) ) ) ) ) ) ) ) ) ) ) ) ) ) ) ) ) ) ) ) ) ) ) ) ) ) ) ) ) ) ) ) ) ) ) ) ) ) ) ) ) ) ) ) ) ) ) ) ) ) ) ) ) ) ) ) ) ) ) ) ) ) ) ) ) ) ) ) ) ) ) ) ) ) ) ) ) ) ) ) ) ) ) ) ) ) ) ) ) ) ) ) ) ) ) ) ) ) x ( ( ( ( ( ( ( ( ( ( ( ( ( ( ( ( ( ( ( ( ( ( ( ( ( ( ( ( ( ( ( ( ( ( ( ( ( ( ( ( ( ( ( ( ( ( ( ( ( ( ( ( ( ( ( ( ( ( ( ( ( ( ( ( ( ( ( ( ( ( ( ( ( ( ( ( ( ( ( ( ( ( ( ( ( ( ( ( ( ( ( ( ( ( ( ( ( ( ( ( ( ( ( ( ( ( ( ( ( ( ( ( ( ( ( ( ( ( ( ( ( ( ( ( ( ( ( ( ( ( ( ( ( ( ( ( ( ( ( ( ( ( ( ( ( ( ( ( ( ( ( ( ( ( ( ( ( ( ( ( ( ( ( ( ( ( ( ( ( ( ( ( ( ( ( ( ( ( ( ( ( ( ( ( ( ( ( ( ( ( ( ( ( ( ( ( ( ( ( ( ( ( ( ( ( ( ( ( ( ( ( ( ( ( ( ( ( ( ( ( ( ( ( ( ( ( ( ( ( ( ( ( ( ( ( ( ( ( ( ( ( ( ( ( ( ( ( ( ( ( ( ( ( ( ( ( ( ( ( ( ( ( ( ( ( ( ( ( ( ( ( ( ( ( ( ( ( ( ( ( ( ( ( ( ( ( ( ( ( ( ( ( ( ( ( ( ( ( ( ( ( ( ( ( ( ( ( ( ( ( ( ( ( ( ( ( ( ( ( ( ( ( ( ( ( ( ( ( ( ( ( ( ( ( ( ( ( ( ( ( ( ( ( ( ( ( ( ( ( ( ( ( ( ( ( ( ( ( ( ( ( ( ( ( ( ( ( ( ( ( ( ( ( ( ( ( ( ( ( ( ( ( ( ( ( ( ( ( ( ( ( ( ( ( ( ( ( ( ( ( ( ( ( ( ( ( ( ( ( ( ( ( ( ( ( ( ( ( ( ( ( ( ( ( ( ( ( ( ( ( ( ( ( ( ( ( ( ( ( ( ( ( ( ( ( ( ( ( A 550 x A 551 ) x A 552 ) x A 553 ) x A 554 ) x A 555 ) x A 556 ) x A 557 ) x A 558 ) x A 559 ) x A 560 ) x A 561 ) x A 562 ) x A 563 ) x A 564 ) x A 565 ) x A 566 ) x A 567 ) x A 568 ) x A 569 ) x A 570 ) x A 571 ) x A 572 ) x A 573 ) x A 574 ) x A 575 ) x A 576 ) x A 577 ) x A 578 ) x A 579 ) x A 580 ) x A 581 ) x A 582 ) x A 583 ) x A 584 ) x A 585 ) x A 586 ) x A 587 ) x A 588 ) x A 589 ) x A 590 ) x A 591 ) x A 592 ) x A 593 ) x A 594 ) x A 595 ) x A 596 ) x A 597 ) x A 598 ) x A 599 ) x A 600 ) x A 601 ) x A 602 ) x A 603 ) x A 604 ) x A 605 ) x A 606 ) x A 607 ) x A 608 ) x A 609 ) x A 610 ) x A 611 ) x A 612 ) x A 613 ) x A 614 ) x A 615 ) x A 616 ) x A 617 ) x A 618 ) x A 619 ) x A 620 ) x A 621 ) x A 622 ) x A 623 ) x A 624 ) x A 625 ) x A 626 ) x A 627 ) x A 628 ) x A 629 ) x A 630 ) x A 631 ) x A 632 ) x A 633 ) x A 634 ) x A 635 ) x A 636 ) x A 637 ) x A 638 ) x A 639 ) x A 640 ) x A 641 ) x A 642 ) x A 643 ) x A 644 ) x A 645 ) x A 646 ) x A 647 ) x A 648 ) x A 649 ) x A 650 ) x A 651 ) x A 652 ) x A 653 ) x A 654 ) x A 655 ) x A 656 ) x A 657 ) x A 658 ) x A 659 ) x A 660 ) x A 661 ) x A 662 ) x A 663 ) x A 664 ) x A 665 ) x A 666 ) x A 667 ) x A 668 ) x A 669 ) x A 670 ) x A 671 ) x A 672 ) x A 673 ) x A 674 ) x A 675 ) x A 676 ) x A 677 ) x A 678 ) x A 679 ) x A 680 ) x A 681 ) x A 682 ) x A 683 ) x A 684 ) x A 685 ) x A 686 ) x A 687 ) x A 688 ) x A 689 ) x A 690 ) x A 691 ) x A 692 ) x A 693 ) x A 694 ) x A 695 ) x A 696 ) x A 697 ) x A 698 ) x A 699 ) x A 700 ) x A 701 ) x A 702 ) x A 703 ) x A 704 ) x A 705 ) x A 706 ) x A 707 ) x A 708 ) x A 709 ) x A 710 ) x A 711 ) x A 712 ) x A 713 ) x A 714 ) x A 715 ) x A 716 ) x A 717 ) x A 718 ) x A 719 ) x A 720 ) x A 721 ) x A 722 ) x A 723 ) x A 724 ) x A 725 ) x A 726 ) x A 727 ) x A 728 ) x A 729 ) x A 730 ) x A 731 ) x A 732 ) x A 733 ) x A 734 ) x A 735 ) x A 736 ) x A 737 ) x A 738 ) x A 739 ) x A 740 ) x A 741 ) x A 742 ) x A 743 ) x A 744 ) x A 745 ) x A 746 ) x A 747 ) x A 748 ) x A 749 ) x A 750 ) x A 751 ) x A 752 ) x A 753 ) x A 754 ) x A 755 ) x A 756 ) x A 757 ) x A 758 ) x A 759 ) x A 760 ) x A 761 ) x A 762 ) x A 763 ) x A 764 ) x A 765 ) x A 766 ) x A 767 ) x A 768 ) x A 769 ) x A 770 ) x A 771 ) x A 772 ) x A 773 ) x A 774 ) x A 775 ) x A 776 ) x A 777 ) x A 778 ) x A 779 ) x A 780 ) x A 781 ) x A 782 ) x A 783 ) x A 784 ) x A 785 ) x A 786 ) x A 787 ) x A 788 ) x A 789 ) x A 790 ) x A 791 ) x A 792 ) x A 793 ) x A 794 ) x A 795 ) x A 796 ) x A 797 ) x A 798 ) x A 799 ) x A 800 ) x A 801 ) x A 802 ) x A 803 ) x A 804 ) x A 805 ) x A 806 ) x A 807 ) x A 808 ) x A 809 ) x A 810 ) x A 811 ) x A 812 ) x A 813 ) x A 814 ) x A 815 ) x A 816 ) x A 817 ) x A 818 ) x A 819 ) x A 820 ) x A 821 ) x A 822 ) x A 823 ) x A 824 ) x A 825 ) x A 826 ) x A 827 ) x A 828 ) x A 829 ) x A 830 ) x A 831 ) x A 832 ) x A 833 ) x A 834 ) x A 835 ) x A 836 ) x A 837 ) x A 838 ) x A 839 ) x A 840 ) x A 841 ) x A 842 ) x A 843 ) x A 844 ) x A 845 ) x A 846 ) x A 847 ) x A 848 ) x A 849 ) x A 850 ) x A 851 ) x A 852 ) x A 853 ) x A 854 ) x A 855 ) x A 856 ) x A 857 ) x A 858 ) x A 859 ) x A 860 ) x A 861 ) x A 862 ) x A 863 ) x A 864 ) x A 865 ) x A 866 ) x A 867 ) x A 868 ) x A 869 ) x A 870 ) x A 871 ) x A 872 ) x A 873 ) x A 874 ) x A 875 ) x A 876 ) x A 877 ) x A 878 ) x A 879 ) x A 880 ) x A 881 ) x A 882 ) x A 883 ) x A 884 ) x A 885 ) x A 886 ) x A 887 ) x A 888 ) x A 889 ) x A 890 ) x A 891 ) x A 892 ) x A 893 ) x A 894 ) x A 895 ) x A 896 ) x A 897 ) x A 898 ) x A 899 ) x A 900 ) x A 901 ) x A 902 ) x A 903 ) x A 904 ) x A 905 ) x A 906 ) x A 907 ) x A 908 ) x A 909 ) x A 910 ) x A 911 ) x A 912 ) x A 913 ) x A 914 ) x A 915 ) x A 916 ) x A 917 ) x A 918 ) x A 919 ) x A 920 ) x A 921 ) x A 922 ) x A 923 ) x A 924 ) x A 925 ) x A 926 ) x A 927 ) x A 928 ) x A 929 ) x A 930 ) x A 931 ) x A 932 ) x A 933 ) x A 934 ) x A 935 ) x A 936 ) x A 937 ) x A 938 ) x A 939 ) x A 940 ) x A 941 ) x A 942 ) x A 943 ) x A 944 ) x A 945 ) x A 946 ) x A 947 ) x A 948 ) x A 949 ) x A 950 ) x A 951 ) x A 952 ) x A 953 ) x A 954 ) x A 955 ) x A 956 ) x A 957 ) x A 958 ) x A 959 ) x A 960 ) x A 961 ) x A 962 ) x A 963 ) x A 964 ) x A 965 ) x A 966 ) x A 967 ) x A 968 ) x A 969 ) x A 970 ) x A 971 ) x A 972 ) x A 973 ) x A 974 ) x A 975 ) x A 976 ) x A 977 ) x A 978 ) x A 979 ) x A 980 ) x A 981 ) x A 982 ) x A 983 ) x A 984 ) x A 985 ) x A 986 ) x A 987 ) x A 988 ) x A 989 ) x A 990 ) x A 991 ) x A 992 ) x A 993 ) x A 994 ) x A 995 ) x A 996 ) x A 997 ) x A 998 ) ) ) ) ) )\n"
     ]
    }
   ],
   "source": [
    "start_time = time()\n",
    "min_mult(arr)\n",
    "elapsed_time = time() - start_time\n",
    "timePD[2]=elapsed_time"
   ]
  },
  {
   "cell_type": "markdown",
   "metadata": {},
   "source": [
    "# Datos de tamaño 10000"
   ]
  },
  {
   "cell_type": "code",
   "execution_count": 26,
   "metadata": {},
   "outputs": [
    {
     "data": {
      "text/plain": [
       "array([95, 11, 81, ..., 57,  2, 76])"
      ]
     },
     "execution_count": 26,
     "metadata": {},
     "output_type": "execute_result"
    }
   ],
   "source": [
    "np.random.seed(101) #THE SEED\n",
    "tam=10000\n",
    "arr = np.random.randint(0,100,tam)\n",
    "arr"
   ]
  },
  {
   "cell_type": "markdown",
   "metadata": {},
   "source": [
    "**Divide y vencerás**"
   ]
  },
  {
   "cell_type": "code",
   "execution_count": null,
   "metadata": {},
   "outputs": [],
   "source": [
    "start_time = time()\n",
    "minMult_dyv(arr)\n",
    "elapsed_time = time() - start_time\n",
    "timeDV[3]=elapsed_time"
   ]
  },
  {
   "cell_type": "markdown",
   "metadata": {},
   "source": [
    "**Programación dinámica**"
   ]
  },
  {
   "cell_type": "code",
   "execution_count": null,
   "metadata": {},
   "outputs": [],
   "source": [
    "start_time = time()\n",
    "min_mult(arr)\n",
    "elapsed_time = time() - start_time\n",
    "timePD[3]=elapsed_time"
   ]
  },
  {
   "cell_type": "markdown",
   "metadata": {},
   "source": [
    "# Datos de tamaño 100000"
   ]
  },
  {
   "cell_type": "code",
   "execution_count": null,
   "metadata": {},
   "outputs": [],
   "source": [
    "np.random.seed(101) #THE SEED\n",
    "tam=100000\n",
    "arr = np.random.randint(0,100,tam)\n",
    "arr"
   ]
  },
  {
   "cell_type": "markdown",
   "metadata": {},
   "source": [
    "**Divide y vencerás**"
   ]
  },
  {
   "cell_type": "code",
   "execution_count": null,
   "metadata": {},
   "outputs": [],
   "source": [
    "start_time = time()\n",
    "minMult_dyv(arr)\n",
    "elapsed_time = time() - start_time\n",
    "timeDV[4]=elapsed_time"
   ]
  },
  {
   "cell_type": "markdown",
   "metadata": {},
   "source": [
    "**Programación dinámica**"
   ]
  },
  {
   "cell_type": "code",
   "execution_count": null,
   "metadata": {},
   "outputs": [],
   "source": [
    "start_time = time()\n",
    "min_mult(arr)\n",
    "elapsed_time = time() - start_time\n",
    "timePD[4]=elapsed_time"
   ]
  },
  {
   "cell_type": "markdown",
   "metadata": {},
   "source": [
    "# Datos de tamaño 1000000"
   ]
  },
  {
   "cell_type": "code",
   "execution_count": null,
   "metadata": {},
   "outputs": [],
   "source": [
    "np.random.seed(101) #THE SEED\n",
    "tam=1000000\n",
    "arr = np.random.randint(0,100,tam)\n",
    "arr"
   ]
  },
  {
   "cell_type": "markdown",
   "metadata": {},
   "source": [
    "**Divide y vencerás**"
   ]
  },
  {
   "cell_type": "code",
   "execution_count": null,
   "metadata": {},
   "outputs": [],
   "source": [
    "start_time = time()\n",
    "minMult_dyv(arr)\n",
    "elapsed_time = time() - start_time\n",
    "timeDV[5]=elapsed_time"
   ]
  },
  {
   "cell_type": "markdown",
   "metadata": {},
   "source": [
    "**Programación dinámica**"
   ]
  },
  {
   "cell_type": "code",
   "execution_count": null,
   "metadata": {},
   "outputs": [],
   "source": [
    "start_time = time()\n",
    "min_mult(arr)\n",
    "elapsed_time = time() - start_time\n",
    "timePD[5]=elapsed_time"
   ]
  },
  {
   "cell_type": "markdown",
   "metadata": {},
   "source": [
    "# Gráficas\n",
    "**La gráfica con los diferentes tiempos se encuentra a continuación**"
   ]
  },
  {
   "cell_type": "markdown",
   "metadata": {},
   "source": [
    "**NOTA: Ninguno de los dos métodos terminaba para 10000 datos, por lo que ambos se detuvieron y unicamente se mostraron los valores obtenidos**"
   ]
  },
  {
   "cell_type": "code",
   "execution_count": null,
   "metadata": {},
   "outputs": [],
   "source": [
    "timeDV[3]=18000\n",
    "timeDV[4]=36000"
   ]
  },
  {
   "cell_type": "code",
   "execution_count": 38,
   "metadata": {},
   "outputs": [
    {
     "name": "stdout",
     "output_type": "stream",
     "text": [
      "Método:\t\t10 datos\t100 datos\t1000 datos\t10000 datos\t\t100000 datos\t\t1000000 datos\n",
      "PD\t\t0.0009984970 \t0.1681764126 \t155.2136206627 \t0.0000000000 \t\t0.0000000000 \t\t0.0000000000 \n",
      "DV\t\t0.0000000000 \t0.3207352161 \t258.0361177921 \t0.0000000000 \t\t0.0000000000 \t\t0.0000000000\n"
     ]
    }
   ],
   "source": [
    "print(\"Método:\\t\\t10 datos\\t100 datos\\t1000 datos\\t10000 datos\\t\\t100000 datos\\t\\t1000000 datos\\nPD\\t\\t%.10f\"\n",
    "      %timePD[0],\"\\t%.10f\"%timePD[1], \"\\t%.10f\"%timePD[2], \"\\t%.10f\"%timePD[3], \"\\t\\t%.10f\" %timePD[4],\n",
    "      \"\\t\\t%.10f\" %timePD[5], \"\\nDV\\t\\t%.10f\"%timeDV[0],\"\\t%.10f\" %timeDV[1], \"\\t%.10f\" %timeDV[2], \"\\t%.10f\" %timeDV[3], \"\\t\\t%.10f\" \n",
    "      %timeDV[4], \"\\t\\t%.10f\" %timeDV[5])"
   ]
  },
  {
   "cell_type": "code",
   "execution_count": 44,
   "metadata": {},
   "outputs": [
    {
     "data": {
      "image/png": "[encoded data removed]",
      "text/plain": [
       "<Figure size 432x288 with 1 Axes>"
      ]
     },
     "metadata": {
      "needs_background": "light"
     },
     "output_type": "display_data"
    }
   ],
   "source": [
    "n=[10,100,1000]\n",
    "plt.plot(n,timeDV[:3],label=\"Divide y vencerás\")\n",
    "plt.plot(n,timePD[:3],label=\"Programación dinámica\")\n",
    "\n",
    "plt.xlabel('Tamaño de datos')\n",
    "plt.ylabel('Tiempo (s)')\n",
    "\n",
    "plt.title(\"Secuencia de multiplicación de matrices\")\n",
    "\n",
    "plt.legend()\n",
    "\n",
    "plt.show()"
   ]
  },
  {
   "cell_type": "markdown",
   "metadata": {},
   "source": [
    "# Conclusiones"
   ]
  },
  {
   "cell_type": "markdown",
   "metadata": {},
   "source": [
    "Gracias al desarrollo de esta práctica se logró identificar la importancia que tiene una técnica de programación llamada Programación Dinámica, la cul ayuda a agilizar la ejecución de los algoritmos, pero no puede ser perfecta, ya que hace uso de una gran cantidad de memoria, por lo que se encuentra limitada por los recursos que la computadora donde se ejecuten los programas tenga, y al implementarlo en el problema del orden de la ejecución de matrices se puede notar que efectivamente ofrece resultados más rápidos que aquellos otorgados por el método divide y vencerás, es importnte destacar que las matrices ocupadas para almacenar los datos son bastante grandes, por ello, aquellos datos cuyas dimensiones son bastante grandes no se lograron ejecutar.\n",
    "\n",
    "Es así, que se puede observar que en la programación dinámica siempre hay que tener presente que se ocupará una gran cantidad de memoria, y que se tiene que hacer un análisis adecuado considerando que información es la requerida de almacenar para poder hacer todo de manera más ágil, ya que la matriz ocupada para obtener el costo minimo de la multiplicacion de matrices requería de un llendo particular en el que se iban recorriendo en diagonal y se iba almacenando la suma de dos casillas anterior más el costo de la matriz generada, es por ello, que es importante identificar la forma en la que se relacionan los datos guardados en la matriz y saber que será rápido pero ocupará demasiada memoria."
   ]
  }
 ],
 "metadata": {
  "kernelspec": {
   "display_name": "Python 3",
   "language": "python",
   "name": "python3"
  },
  "language_info": {
   "codemirror_mode": {
    "name": "ipython",
    "version": 3
   },
   "file_extension": ".py",
   "mimetype": "text/x-python",
   "name": "python",
   "nbconvert_exporter": "python",
   "pygments_lexer": "ipython3",
   "version": "3.7.3"
  }
 },
 "nbformat": 4,
 "nbformat_minor": 4
}
