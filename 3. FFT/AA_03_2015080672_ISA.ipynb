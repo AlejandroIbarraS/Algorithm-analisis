{
 "cells": [
  {
   "cell_type": "markdown",
   "metadata": {},
   "source": [
    "<img src=\"header_escom26.jpg\" alt=\"header\" style=\"height:200px;\">\n",
    "\n",
    "# Práctica 3:  Transformada rápida de Fourier</br>\n",
    "# Ibarra Soto Alejandro\n",
    "# 2015080672\n",
    "\n",
    "**Análisis de Algoritmos** </br>\n",
    "**Profesor: Dr. Flavio Arturo Sánchez Garfias** </br>\n",
    "**3CM2**"
   ]
  },
  {
   "cell_type": "markdown",
   "metadata": {},
   "source": [
    "# TRANSFORMADA DE FOURIER\n",
    "La transformada de Fourier es una operación matemática fundamental para algunas disciplinas como las telecomunicaciones o la física. Sin ella no existirían las telecomunicaciones modernas, no solo Internet o la telefonía móvil, sino la propia telefonía convencional, que no habría podido evolucionar más allá de una forma de comunicación local y no habrían existido las llamadas de larga distancia.</br>\n",
    "<img src=\"i1.jpg\" alt=\"header\" style=\"display: block; margin: auto;\">\n",
    "Lo que permite la transformada de Fourier es convertir cualquier función matemática a otro domino, denominado el dominio de la frecuencia. Esto facilita tratar y analizar las funciones de una forma alternativa.\n",
    "Algunos ejemplos de la aplicación de esta operación son:\n",
    "<ul>\n",
    "    <li>Un ingeniero de sonido puede tener una grabación de audio con mucho ruido, por ejemplo porque había un pitido en el ambiente. Estos ruidos muchas veces pueden eliminarse, pero para ello habría que separar la parte del sonido deseada y la que se quiere eliminar. Esta separación muchas veces es imposible por métodos convencionales, ya que la señal que se tiene está ya sumada, y sin saber una de las partes es imposible eliminar la otra. Sin embargo con la transformada de Fourier se puede ver la señal en el dominio de la frecuencia, es decir, descomponiendo la señal en las distintas frecuencias que la componen (los sonidos graves y agudos). Viendo la señal en este dominio es posible que el ruido, que puede tener solo algunos componentes frecuenciales, se vea claramente separado, y por tanto se pueda filtrar, y volver de nuevo al domino temporal, teniendo así una señal limpia de ruido. </li>\n",
    "<li>En telecomunicaciones pasa algo parecido. Se pueden transmitir señales en el aire a través de ondas electromagnéticas separándolas en distintas frecuencias. Esto permite utilizar todo el espectro radioeléctrico para transmitir señales y poder tener así en el aire señales de radio, televisión, telefonía móvil y wifi (por ejemplo) en un ambiente dado pero que cada aparato electrónico escuche lo que necesita. Todos los aparatos electrónicos tienen elementos que son capaces de elegir las frecuencias que necesitan y esto es gracias al desarrollo matemático de la transformada de Fourier</li>\n",
    "</ul>\n",
    "<h1>Transformada discreta de Fourier</h1>\n",
    "La transformada discreta de Fourier es un método numérico utilizado para definir muestreos referentes a las frecuencias espectrales que componen una señal. Estudia funciones periódicas en parámetros cerrados, arrojando como resultado otra señal discreta.\n",
    "\n",
    "Para poder obtener la transformada discreta de Fourier de N puntos, sobre una señal discreta, se deben cumplir las siguientes 2 condiciones sobre una secuencia x [n]\n",
    "\n",
    "x [n] = 0  n < 0 ˄ n > N – 1\n",
    "\n",
    "Cumpliéndose estas condiciones se puede definir la transformada discreta de Fourier como:</br>\n",
    "<img src=\"i2.jpg\" alt=\"header\" style=\"display: block; margin: auto;\">\n",
    "Se puede definir a la transformada discreta de Fourier como un muestreo en N puntos de la transformada de Fourier.</br>\n",
    "<h2>Interpretación de la transformada discreta de Fourier</h2>\n",
    "Existen 2 puntos de vista desde los cuales se pueden interpretar los resultados obtenidos sobre una secuencia xs[n] a través de la transformada discreta de Fourier.\n",
    "\n",
    "<ul><li>El primero corresponde a los coeficientes espectrales, ya conocidos de la serie de Fourier. Se observa en señales periódicas discretas, con muestreos coincidentes con la secuencia xs[n].</li>\n",
    "\n",
    "<li>La segunda trata sobre el espectro de una señal aperiódica discreta, con muestreos correspondientes a la secuencia xs[n].</li></ul>\n",
    "\n",
    "La transformada discreta es una aproximación al espectro de la señal analógica original. Su fase depende de los instantes de muestreo, mientras que su magnitud depende del intervalo de muestreo.\n",
    "\n",
    "<h3>Complejidad</h3>\n",
    "Se puede observar a simple vista que su resolución directa implica N multiplicaciones complejas y N-1 adiciones complejas por cada k. Por lo tanto, el cálculo directo de una TFD es de orden O(n^2). </br>Para valores pequeños de N la resolución en sí no consume mucho tiempo ni recursos. Sin embargo, para valores de N lo suficientemente grandes el cálculo directo se torna poco eficiente, no sólo por el gran tiempo que consume sino también por el acaparamiento de los recursos necesarios. Por ejemplo, para N= 2^30 las operaciones a realizar serían 2^60; asumiendo que cada operación toma aproximadamente 1ns el cálculo directo de la TFD tardaría unos 13343 días</br>\n",
    "\n",
    "<h1>Transformada Rápida de Fourier</h1>\n",
    "La Transformada rápida de Fourier, conocida por la abreviatura FFT (del inglés Fast Fourier Transform) es un algoritmo eficiente que permite calcular la transformada de Fourier discreta (DFT) y su inversa. La FFT es de gran importancia en una amplia variedad de aplicaciones, desde el tratamiento digital de señales y filtrado digital en general a la resolución de ecuaciones en derivadas parciales o los algoritmos de multiplicación rápida de grandes enteros. Cuando se habla del tratamiento digital de señales, el algoritmo FFT impone algunas limitaciones en la señal y en el espectro resultante ya que la señal muestreada y que se va a transformar debe consistir de un número de muestras igual a una potencia de dos.</br>\n",
    "Dado a la complejidad que tiene la DFT es que aparece la Transformada Rápida de Fourier (en inglés Fast Fourier Transform, FFT), un algoritmo para el cálculo eficiente de la TFD. Su importancia radica en el hecho que elimina una gran parte de los cálculos repetitivos a los que se ve sometida la TFD, por lo que se logra un cálculo más rápido a menor costo. El algoritmo de la FFT fue originalmente inventado por Carl Friedrich Gauss en 1805. Diferentes versiones del algoritmo fueron descubiertas a lo largo de los años, pero la FFT no se hizo popular sino hasta 1965, con la publicación de James Cooley y John Tukey, quienes reinventaron el algoritmo al describir como ejecutarlo de forma eficiente en una computadora.</br>\n",
    "La idea básica detrás de la FFT consiste en la división del tiempo, es decir, en la descomposición iterativa en Transformadas de Fourier Discretas más simples. La FFT hace uso de dos propiedades de la Transformada de Fourier Discreta. La FFT presentada asume que N es potencia de 2, sin embargo, existen métodos para adaptar otros valores de N a las condiciones necesarias de este algoritmo. Las propiedades que se aprovechan son las siguientes</br>\n",
    "<ul>\n",
    "    <li>Simetría conjugada compleja:</br> <img src=\"i3.jpg\" alt=\"header\" style=\"display: block; margin: auto;\"></li>\n",
    "    <li>Periodicidad en n,k:</br><img src=\"i4.jpg\" alt=\"header\" style=\"display: block; margin: auto;\"></li>\n",
    "</ul>\n",
    "La FFT divide la Transformada de Fourier Discreta a calcular en dos TFD menores según la paridad de los términos:</br>\n",
    "<img src=\"i5.jpg\" alt=\"header\" style=\"display: block; margin: auto;\">\n",
    "Sabiendo que:</br>\n",
    "<img src=\"i6.jpg\" alt=\"header\" style=\"display: block; margin: auto;\">\n",
    "se puede re-expresar la TFD de N muestras en la suma de dos TFD de N/2 muestras:</br>\n",
    "<img src=\"i7.jpg\" alt=\"header\" style=\"display: block; margin: auto;\">\n",
    "<h3>Complejidad</h3>\n",
    "Dado que se tratan de dos TFD, esto significa que podemos aplicar el mismo método de división en pares e impares para así obtener dos pares de TFD de N/4 muestras. El método es así aplicado hasta que se obtienen TFD de 1 muestra, cuyo cálculo resulta sencillo. Una vez obtenidos los valores de las TFD simples, es cuestión de adicionar los resultados.</br> Se puede observar que si se tenía inicialmente una TFD de N muestras, se podrán llevar a cabo p=log2(N) divisiones. Si calculamos el costo de las operaciones que hay que llevar a cabo con este método, se tiene que el algoritmo es de O(N * log2(N)).\n",
    "\n"
   ]
  },
  {
   "cell_type": "markdown",
   "metadata": {},
   "source": [
    "Import packages <a href=\"https://numpy.org\">Numpy</a> and <a href=\"https://matplotlib.org\">Matplotlib</a>\n"
   ]
  },
  {
   "cell_type": "code",
   "execution_count": 1,
   "metadata": {},
   "outputs": [],
   "source": [
    "import numpy as np\n",
    "import matplotlib.pyplot as plt\n",
    "%matplotlib inline"
   ]
  },
  {
   "cell_type": "markdown",
   "metadata": {},
   "source": [
    "**Definir la función para la Transformada Discreta de Fourier**"
   ]
  },
  {
   "cell_type": "code",
   "execution_count": 2,
   "metadata": {},
   "outputs": [],
   "source": [
    "def TDF(señal):\n",
    "    N = len(señal)\n",
    "    tfourier = np.array([])\n",
    "    for k in range(N):\n",
    "        x=0\n",
    "        for n in range(N):\n",
    "            W_N_nk=np.exp(-2j*np.pi*n*k/N)\n",
    "            x=x+señal[n]*W_N_nk\n",
    "        tfourier=np.append(tfourier,x)\n",
    "    return tfourier"
   ]
  },
  {
   "cell_type": "markdown",
   "metadata": {},
   "source": [
    "**Definir la función para la Transformada Rapida de Fourier**"
   ]
  },
  {
   "cell_type": "code",
   "execution_count": 3,
   "metadata": {},
   "outputs": [],
   "source": [
    "def TRF(señal):\n",
    "    N = len(señal)\n",
    "    if (N==2):\n",
    "        return np.append([señal[0]+señal[1]],[señal[0]-señal[1]])\n",
    "    else:\n",
    "        TRF_pares = TRF(señal[::2])\n",
    "        TRF_impares = TRF(señal[1::2])\n",
    "        #El siguiente es el ciclo para obtener los valores de W_N_k, pero es lento y por ello no se ocupó, sino que se aprovechó la rapidez de la\n",
    "        #multiplicación de arreglo\n",
    "        #for k in range(int(N/2)):\n",
    "        #    W_N_k=np.append(W_N_k,np.exp(-2j*np.pi*k/N))\n",
    "        #Se logró optimizar el tiempo de la siguiente forma\n",
    "        k=np.arange(int(N/2))\n",
    "        W_N_k = np.exp(-2j*np.pi*k/N)\n",
    "        t1=TRF_pares+W_N_k*TRF_impares\n",
    "        t2=TRF_pares-W_N_k*TRF_impares\n",
    "        return np.append(t1,t2)"
   ]
  },
  {
   "cell_type": "markdown",
   "metadata": {},
   "source": [
    "# Pruebas "
   ]
  },
  {
   "cell_type": "markdown",
   "metadata": {},
   "source": [
    "A continuación, se crearán arreglos de 128, 1024, 16384, 131072, 1048576 digitos"
   ]
  },
  {
   "cell_type": "code",
   "execution_count": 4,
   "metadata": {},
   "outputs": [],
   "source": [
    "from time import time\n",
    "timeTDF = [0] * (5)\n",
    "timeTRF = [0] * (5)"
   ]
  },
  {
   "cell_type": "markdown",
   "metadata": {},
   "source": [
    "# Datos de tamaño 128"
   ]
  },
  {
   "cell_type": "code",
   "execution_count": 5,
   "metadata": {},
   "outputs": [
    {
     "data": {
      "text/plain": [
       "array([0.51639863, 0.57066759, 0.02847423, 0.17152166, 0.68527698,\n",
       "       0.83389686, 0.30696622, 0.89361308, 0.72154386, 0.18993895,\n",
       "       0.55422759, 0.35213195, 0.1818924 , 0.78560176, 0.96548322,\n",
       "       0.23235366, 0.08356143, 0.60354842, 0.72899276, 0.27623883,\n",
       "       0.68530633, 0.51786747, 0.04848454, 0.13786924, 0.18696743,\n",
       "       0.9943179 , 0.5206654 , 0.57878954, 0.73481906, 0.54196177,\n",
       "       0.91315356, 0.80792015, 0.40299783, 0.35722434, 0.95287671,\n",
       "       0.34363158, 0.86509982, 0.83027771, 0.53816145, 0.92246937,\n",
       "       0.09714648, 0.10284749, 0.7015073 , 0.89047987, 0.1595603 ,\n",
       "       0.27557254, 0.67249153, 0.16430312, 0.70137114, 0.48763522,\n",
       "       0.68067777, 0.52154819, 0.04339669, 0.2239366 , 0.57520509,\n",
       "       0.12043366, 0.50011671, 0.13800957, 0.0528084 , 0.17827692,\n",
       "       0.44236813, 0.87758732, 0.94926413, 0.47816742, 0.46111934,\n",
       "       0.63728903, 0.324608  , 0.11757809, 0.051101  , 0.63765865,\n",
       "       0.81226589, 0.67026042, 0.6517677 , 0.42456894, 0.65659534,\n",
       "       0.2091615 , 0.65992452, 0.5296234 , 0.74852037, 0.09375686,\n",
       "       0.78452185, 0.68724204, 0.6950785 , 0.49686652, 0.97536113,\n",
       "       0.20352762, 0.29902041, 0.22765589, 0.04816889, 0.90397136,\n",
       "       0.08010354, 0.60721627, 0.6308467 , 0.37794193, 0.01324101,\n",
       "       0.84221941, 0.38493775, 0.55166585, 0.71053814, 0.67527885,\n",
       "       0.69456466, 0.34245677, 0.41239056, 0.23979097, 0.96883598,\n",
       "       0.28855701, 0.14731161, 0.12934044, 0.94405605, 0.35143426,\n",
       "       0.73356761, 0.91388953, 0.70098749, 0.38853127, 0.94225929,\n",
       "       0.73649133, 0.23846439, 0.82377373, 0.76061345, 0.39470907,\n",
       "       0.20018792, 0.71259647, 0.8453089 , 0.36864654, 0.43698012,\n",
       "       0.35659766, 0.23973741, 0.65337814])"
      ]
     },
     "execution_count": 5,
     "metadata": {},
     "output_type": "execute_result"
    }
   ],
   "source": [
    "np.random.seed(101) #THE SEED\n",
    "tam=128\n",
    "n1=np.random.random(tam)\n",
    "n1"
   ]
  },
  {
   "cell_type": "markdown",
   "metadata": {},
   "source": [
    "**Transformada Discreta de Fourier TDF**"
   ]
  },
  {
   "cell_type": "code",
   "execution_count": 6,
   "metadata": {},
   "outputs": [
    {
     "data": {
      "text/plain": [
       "array([ 6.44445642e+01+0.00000000e+00j,  1.71159569e+00+1.76766486e-01j,\n",
       "       -1.90825514e+00+1.73038022e-01j, -3.08225224e-01+4.98196485e+00j,\n",
       "        1.57159203e-01-2.31124299e+00j, -1.63122689e+00-1.48532762e+00j,\n",
       "       -2.87790526e+00-4.18277358e-01j, -2.53719648e+00-1.38969867e+00j,\n",
       "        3.68561874e+00-3.61055047e-01j, -1.36562809e-01-3.26691849e-02j,\n",
       "       -6.53148295e-01+2.04016976e+00j, -2.06914650e+00-2.82962848e+00j,\n",
       "       -3.38216772e+00+3.50626502e+00j, -4.65801909e-01-1.97070743e+00j,\n",
       "        3.06246842e+00+2.77428842e+00j, -1.42653860e+00-1.62291651e+00j,\n",
       "       -5.45695967e-01+1.50546743e+00j,  5.42739030e-01+6.28620850e-01j,\n",
       "        1.83534706e+00+4.34598052e+00j, -7.72083326e-01-2.49078518e+00j,\n",
       "        4.07389586e+00+9.42501967e-01j,  5.02899364e+00-1.96831773e+00j,\n",
       "       -4.25186862e-01-2.82664844e+00j, -1.18724662e-01+3.08657356e+00j,\n",
       "       -7.57378239e-01+2.09443862e-01j,  1.05642048e+00+2.14638104e+00j,\n",
       "        2.01658799e+00-2.22125860e-01j,  3.38079591e+00+2.44150527e+00j,\n",
       "       -2.18811515e-01+9.17523619e-01j, -4.74224830e-02+3.92976659e+00j,\n",
       "        1.72611824e+00-9.79103366e-01j,  1.02384466e+00-3.04962943e+00j,\n",
       "       -1.77095120e+00-2.10233947e+00j,  6.21438052e-01+3.57373247e+00j,\n",
       "       -4.34790439e+00-3.07763750e+00j,  7.96147891e-01-2.09686170e-01j,\n",
       "        4.02636803e+00-4.36008763e-01j,  3.69231960e+00-3.86747292e+00j,\n",
       "        4.43523722e+00-2.01581433e+00j,  2.78506862e+00-9.64049953e-01j,\n",
       "       -2.14502132e+00+1.45194556e-01j, -4.57990998e+00+2.09224869e+00j,\n",
       "       -1.60858576e+00-1.81991320e+00j,  4.41402982e-01-1.88724413e+00j,\n",
       "       -4.77188531e+00+3.10121256e+00j,  4.86832006e-01+1.99106523e+00j,\n",
       "        2.98706540e+00-2.36178612e+00j, -2.32935403e+00+3.00169226e+00j,\n",
       "       -1.49107975e+00+7.72401455e-01j, -4.25737285e-01+1.30831817e+00j,\n",
       "        2.40939739e+00+2.26216948e+00j, -1.65095479e+00-8.94089515e-01j,\n",
       "        2.12973040e-01-1.97890630e-01j,  2.18231153e-01-8.62940518e-01j,\n",
       "       -2.79793564e+00-1.59887492e+00j, -6.48734820e-01+1.35178765e+00j,\n",
       "        1.86142281e+00-2.32809505e-01j, -7.38036928e-01-2.58775188e+00j,\n",
       "       -9.42309601e-01-3.47641637e+00j,  3.52142405e+00+3.17507446e+00j,\n",
       "       -4.13743854e+00+2.50318302e+00j, -1.80201530e+00-1.69403725e+00j,\n",
       "        1.22327533e-01-8.96924600e-01j, -1.85064459e+00-7.45272303e-01j,\n",
       "        2.45593299e+00+1.11996672e-13j, -1.85064459e+00+7.45272303e-01j,\n",
       "        1.22327533e-01+8.96924600e-01j, -1.80201530e+00+1.69403725e+00j,\n",
       "       -4.13743854e+00-2.50318302e+00j,  3.52142405e+00-3.17507446e+00j,\n",
       "       -9.42309601e-01+3.47641637e+00j, -7.38036928e-01+2.58775188e+00j,\n",
       "        1.86142281e+00+2.32809505e-01j, -6.48734820e-01-1.35178765e+00j,\n",
       "       -2.79793564e+00+1.59887492e+00j,  2.18231153e-01+8.62940518e-01j,\n",
       "        2.12973040e-01+1.97890630e-01j, -1.65095479e+00+8.94089515e-01j,\n",
       "        2.40939739e+00-2.26216948e+00j, -4.25737285e-01-1.30831817e+00j,\n",
       "       -1.49107975e+00-7.72401455e-01j, -2.32935403e+00-3.00169226e+00j,\n",
       "        2.98706540e+00+2.36178612e+00j,  4.86832006e-01-1.99106523e+00j,\n",
       "       -4.77188531e+00-3.10121256e+00j,  4.41402982e-01+1.88724413e+00j,\n",
       "       -1.60858576e+00+1.81991320e+00j, -4.57990998e+00-2.09224869e+00j,\n",
       "       -2.14502132e+00-1.45194556e-01j,  2.78506862e+00+9.64049953e-01j,\n",
       "        4.43523722e+00+2.01581433e+00j,  3.69231960e+00+3.86747292e+00j,\n",
       "        4.02636803e+00+4.36008763e-01j,  7.96147891e-01+2.09686170e-01j,\n",
       "       -4.34790439e+00+3.07763750e+00j,  6.21438052e-01-3.57373247e+00j,\n",
       "       -1.77095120e+00+2.10233947e+00j,  1.02384466e+00+3.04962943e+00j,\n",
       "        1.72611824e+00+9.79103366e-01j, -4.74224830e-02-3.92976659e+00j,\n",
       "       -2.18811515e-01-9.17523619e-01j,  3.38079591e+00-2.44150527e+00j,\n",
       "        2.01658799e+00+2.22125860e-01j,  1.05642048e+00-2.14638104e+00j,\n",
       "       -7.57378239e-01-2.09443862e-01j, -1.18724662e-01-3.08657356e+00j,\n",
       "       -4.25186862e-01+2.82664844e+00j,  5.02899364e+00+1.96831773e+00j,\n",
       "        4.07389586e+00-9.42501967e-01j, -7.72083326e-01+2.49078518e+00j,\n",
       "        1.83534706e+00-4.34598052e+00j,  5.42739030e-01-6.28620850e-01j,\n",
       "       -5.45695967e-01-1.50546743e+00j, -1.42653860e+00+1.62291651e+00j,\n",
       "        3.06246842e+00-2.77428842e+00j, -4.65801909e-01+1.97070743e+00j,\n",
       "       -3.38216772e+00-3.50626502e+00j, -2.06914650e+00+2.82962848e+00j,\n",
       "       -6.53148295e-01-2.04016976e+00j, -1.36562809e-01+3.26691849e-02j,\n",
       "        3.68561874e+00+3.61055047e-01j, -2.53719648e+00+1.38969867e+00j,\n",
       "       -2.87790526e+00+4.18277358e-01j, -1.63122689e+00+1.48532762e+00j,\n",
       "        1.57159203e-01+2.31124299e+00j, -3.08225224e-01-4.98196485e+00j,\n",
       "       -1.90825514e+00-1.73038022e-01j,  1.71159569e+00-1.76766486e-01j])"
      ]
     },
     "execution_count": 6,
     "metadata": {},
     "output_type": "execute_result"
    }
   ],
   "source": [
    "start_time = time()\n",
    "res=TDF(n1)\n",
    "elapsed_time = time() - start_time\n",
    "timeTDF[0]=elapsed_time\n",
    "res"
   ]
  },
  {
   "cell_type": "markdown",
   "metadata": {},
   "source": [
    "**Transformada Rápida de Fourier TRF**"
   ]
  },
  {
   "cell_type": "code",
   "execution_count": 7,
   "metadata": {},
   "outputs": [
    {
     "data": {
      "text/plain": [
       "array([ 6.44445642e+01+0.j        ,  1.71159569e+00+0.17676649j,\n",
       "       -1.90825514e+00+0.17303802j, -3.08225224e-01+4.98196485j,\n",
       "        1.57159203e-01-2.31124299j, -1.63122689e+00-1.48532762j,\n",
       "       -2.87790526e+00-0.41827736j, -2.53719648e+00-1.38969867j,\n",
       "        3.68561874e+00-0.36105505j, -1.36562809e-01-0.03266918j,\n",
       "       -6.53148295e-01+2.04016976j, -2.06914650e+00-2.82962848j,\n",
       "       -3.38216772e+00+3.50626502j, -4.65801909e-01-1.97070743j,\n",
       "        3.06246842e+00+2.77428842j, -1.42653860e+00-1.62291651j,\n",
       "       -5.45695967e-01+1.50546743j,  5.42739030e-01+0.62862085j,\n",
       "        1.83534706e+00+4.34598052j, -7.72083326e-01-2.49078518j,\n",
       "        4.07389586e+00+0.94250197j,  5.02899364e+00-1.96831773j,\n",
       "       -4.25186862e-01-2.82664844j, -1.18724662e-01+3.08657356j,\n",
       "       -7.57378239e-01+0.20944386j,  1.05642048e+00+2.14638104j,\n",
       "        2.01658799e+00-0.22212586j,  3.38079591e+00+2.44150527j,\n",
       "       -2.18811515e-01+0.91752362j, -4.74224830e-02+3.92976659j,\n",
       "        1.72611824e+00-0.97910337j,  1.02384466e+00-3.04962943j,\n",
       "       -1.77095120e+00-2.10233947j,  6.21438052e-01+3.57373247j,\n",
       "       -4.34790439e+00-3.0776375j ,  7.96147891e-01-0.20968617j,\n",
       "        4.02636803e+00-0.43600876j,  3.69231960e+00-3.86747292j,\n",
       "        4.43523722e+00-2.01581433j,  2.78506862e+00-0.96404995j,\n",
       "       -2.14502132e+00+0.14519456j, -4.57990998e+00+2.09224869j,\n",
       "       -1.60858576e+00-1.8199132j ,  4.41402982e-01-1.88724413j,\n",
       "       -4.77188531e+00+3.10121256j,  4.86832006e-01+1.99106523j,\n",
       "        2.98706540e+00-2.36178612j, -2.32935403e+00+3.00169226j,\n",
       "       -1.49107975e+00+0.77240145j, -4.25737285e-01+1.30831817j,\n",
       "        2.40939739e+00+2.26216948j, -1.65095479e+00-0.89408951j,\n",
       "        2.12973040e-01-0.19789063j,  2.18231153e-01-0.86294052j,\n",
       "       -2.79793564e+00-1.59887492j, -6.48734820e-01+1.35178765j,\n",
       "        1.86142281e+00-0.2328095j , -7.38036928e-01-2.58775188j,\n",
       "       -9.42309601e-01-3.47641637j,  3.52142405e+00+3.17507446j,\n",
       "       -4.13743854e+00+2.50318302j, -1.80201530e+00-1.69403725j,\n",
       "        1.22327533e-01-0.8969246j , -1.85064459e+00-0.7452723j ,\n",
       "        2.45593299e+00+0.j        , -1.85064459e+00+0.7452723j ,\n",
       "        1.22327533e-01+0.8969246j , -1.80201530e+00+1.69403725j,\n",
       "       -4.13743854e+00-2.50318302j,  3.52142405e+00-3.17507446j,\n",
       "       -9.42309601e-01+3.47641637j, -7.38036928e-01+2.58775188j,\n",
       "        1.86142281e+00+0.2328095j , -6.48734820e-01-1.35178765j,\n",
       "       -2.79793564e+00+1.59887492j,  2.18231153e-01+0.86294052j,\n",
       "        2.12973040e-01+0.19789063j, -1.65095479e+00+0.89408951j,\n",
       "        2.40939739e+00-2.26216948j, -4.25737285e-01-1.30831817j,\n",
       "       -1.49107975e+00-0.77240145j, -2.32935403e+00-3.00169226j,\n",
       "        2.98706540e+00+2.36178612j,  4.86832006e-01-1.99106523j,\n",
       "       -4.77188531e+00-3.10121256j,  4.41402982e-01+1.88724413j,\n",
       "       -1.60858576e+00+1.8199132j , -4.57990998e+00-2.09224869j,\n",
       "       -2.14502132e+00-0.14519456j,  2.78506862e+00+0.96404995j,\n",
       "        4.43523722e+00+2.01581433j,  3.69231960e+00+3.86747292j,\n",
       "        4.02636803e+00+0.43600876j,  7.96147891e-01+0.20968617j,\n",
       "       -4.34790439e+00+3.0776375j ,  6.21438052e-01-3.57373247j,\n",
       "       -1.77095120e+00+2.10233947j,  1.02384466e+00+3.04962943j,\n",
       "        1.72611824e+00+0.97910337j, -4.74224830e-02-3.92976659j,\n",
       "       -2.18811515e-01-0.91752362j,  3.38079591e+00-2.44150527j,\n",
       "        2.01658799e+00+0.22212586j,  1.05642048e+00-2.14638104j,\n",
       "       -7.57378239e-01-0.20944386j, -1.18724662e-01-3.08657356j,\n",
       "       -4.25186862e-01+2.82664844j,  5.02899364e+00+1.96831773j,\n",
       "        4.07389586e+00-0.94250197j, -7.72083326e-01+2.49078518j,\n",
       "        1.83534706e+00-4.34598052j,  5.42739030e-01-0.62862085j,\n",
       "       -5.45695967e-01-1.50546743j, -1.42653860e+00+1.62291651j,\n",
       "        3.06246842e+00-2.77428842j, -4.65801909e-01+1.97070743j,\n",
       "       -3.38216772e+00-3.50626502j, -2.06914650e+00+2.82962848j,\n",
       "       -6.53148295e-01-2.04016976j, -1.36562809e-01+0.03266918j,\n",
       "        3.68561874e+00+0.36105505j, -2.53719648e+00+1.38969867j,\n",
       "       -2.87790526e+00+0.41827736j, -1.63122689e+00+1.48532762j,\n",
       "        1.57159203e-01+2.31124299j, -3.08225224e-01-4.98196485j,\n",
       "       -1.90825514e+00-0.17303802j,  1.71159569e+00-0.17676649j])"
      ]
     },
     "execution_count": 7,
     "metadata": {},
     "output_type": "execute_result"
    }
   ],
   "source": [
    "start_time = time()\n",
    "res=TRF(n1)\n",
    "elapsed_time = time() - start_time\n",
    "timeTRF[0]=elapsed_time\n",
    "res"
   ]
  },
  {
   "cell_type": "markdown",
   "metadata": {},
   "source": [
    "# Datos de tamaño 1024"
   ]
  },
  {
   "cell_type": "code",
   "execution_count": 8,
   "metadata": {},
   "outputs": [
    {
     "data": {
      "text/plain": [
       "array([0.51639863, 0.57066759, 0.02847423, ..., 0.5051056 , 0.91470008,\n",
       "       0.52225422])"
      ]
     },
     "execution_count": 8,
     "metadata": {},
     "output_type": "execute_result"
    }
   ],
   "source": [
    "np.random.seed(101) #THE SEED\n",
    "tam=1024\n",
    "n2=np.random.random(tam)\n",
    "n2"
   ]
  },
  {
   "cell_type": "markdown",
   "metadata": {},
   "source": [
    "**Transformada Discreta de Fourier TDF**"
   ]
  },
  {
   "cell_type": "code",
   "execution_count": 10,
   "metadata": {},
   "outputs": [
    {
     "data": {
      "text/plain": [
       "array([511.47689321+0.j        ,  -0.93965498-6.67817281j,\n",
       "        -3.97594487-6.87333593j, ...,   8.27421523+0.89732237j,\n",
       "        -3.97594487+6.87333593j,  -0.93965498+6.67817281j])"
      ]
     },
     "execution_count": 10,
     "metadata": {},
     "output_type": "execute_result"
    }
   ],
   "source": [
    "start_time = time()\n",
    "res=TDF(n2)\n",
    "elapsed_time = time() - start_time\n",
    "timeTDF[1]=elapsed_time\n",
    "res"
   ]
  },
  {
   "cell_type": "markdown",
   "metadata": {},
   "source": [
    "**Transformada Rápida de Fourier TRF**"
   ]
  },
  {
   "cell_type": "code",
   "execution_count": 11,
   "metadata": {},
   "outputs": [
    {
     "data": {
      "text/plain": [
       "array([511.47689321+0.j        ,  -0.93965498-6.67817281j,\n",
       "        -3.97594487-6.87333593j, ...,   8.27421523+0.89732237j,\n",
       "        -3.97594487+6.87333593j,  -0.93965498+6.67817281j])"
      ]
     },
     "execution_count": 11,
     "metadata": {},
     "output_type": "execute_result"
    }
   ],
   "source": [
    "start_time = time()\n",
    "res=TRF(n2)\n",
    "elapsed_time = time() - start_time\n",
    "timeTRF[1]=elapsed_time\n",
    "res"
   ]
  },
  {
   "cell_type": "markdown",
   "metadata": {},
   "source": [
    "# Datos de tamaño 16384"
   ]
  },
  {
   "cell_type": "code",
   "execution_count": 12,
   "metadata": {},
   "outputs": [
    {
     "data": {
      "text/plain": [
       "array([0.51639863, 0.57066759, 0.02847423, ..., 0.84444355, 0.99677531,\n",
       "       0.67219741])"
      ]
     },
     "execution_count": 12,
     "metadata": {},
     "output_type": "execute_result"
    }
   ],
   "source": [
    "np.random.seed(101) #THE SEED\n",
    "tam=16384\n",
    "n3=np.random.random(tam)\n",
    "n3"
   ]
  },
  {
   "cell_type": "markdown",
   "metadata": {},
   "source": [
    "**Transformada Discreta de Fourier TDF**"
   ]
  },
  {
   "cell_type": "code",
   "execution_count": 18,
   "metadata": {},
   "outputs": [
    {
     "data": {
      "text/plain": [
       "array([8202.04862222 +0.j        ,   43.43762619-26.60235103j,\n",
       "         14.73757269+63.19116691j, ...,  -42.60471816 -6.96460636j,\n",
       "         14.73757269-63.19116691j,   43.4376262 +26.60235103j])"
      ]
     },
     "execution_count": 18,
     "metadata": {},
     "output_type": "execute_result"
    }
   ],
   "source": [
    "start_time = time()\n",
    "res=TDF(n3)\n",
    "elapsed_time = time() - start_time\n",
    "timeTDF[2]=elapsed_time\n",
    "res"
   ]
  },
  {
   "cell_type": "markdown",
   "metadata": {},
   "source": [
    "**Transformada Rápida de Fourier TRF**"
   ]
  },
  {
   "cell_type": "code",
   "execution_count": 13,
   "metadata": {},
   "outputs": [
    {
     "data": {
      "text/plain": [
       "array([8202.04862222 +0.j        ,   43.43762619-26.60235103j,\n",
       "         14.73757269+63.19116691j, ...,  -42.60471816 -6.96460636j,\n",
       "         14.73757269-63.19116691j,   43.43762619+26.60235103j])"
      ]
     },
     "execution_count": 13,
     "metadata": {},
     "output_type": "execute_result"
    }
   ],
   "source": [
    "start_time = time()\n",
    "res=TRF(n3)\n",
    "elapsed_time = time() - start_time\n",
    "timeTRF[2]=elapsed_time\n",
    "res"
   ]
  },
  {
   "cell_type": "markdown",
   "metadata": {},
   "source": [
    "# Datos de tamaño 131072"
   ]
  },
  {
   "cell_type": "code",
   "execution_count": 14,
   "metadata": {},
   "outputs": [
    {
     "data": {
      "text/plain": [
       "array([0.51639863, 0.57066759, 0.02847423, ..., 0.58489787, 0.01831059,\n",
       "       0.56933866])"
      ]
     },
     "execution_count": 14,
     "metadata": {},
     "output_type": "execute_result"
    }
   ],
   "source": [
    "np.random.seed(101) #THE SEED\n",
    "tam=131072\n",
    "n4=np.random.random(tam)\n",
    "n4"
   ]
  },
  {
   "cell_type": "markdown",
   "metadata": {},
   "source": [
    "**Transformada Discreta de Fourier TDF**"
   ]
  },
  {
   "cell_type": "code",
   "execution_count": null,
   "metadata": {},
   "outputs": [],
   "source": [
    "start_time = time()\n",
    "res=TDF(n4)\n",
    "elapsed_time = time() - start_time\n",
    "timeTDF[3]=elapsed_time\n",
    "res"
   ]
  },
  {
   "cell_type": "markdown",
   "metadata": {},
   "source": [
    "**Transformada Rápida de Fourier TRF**"
   ]
  },
  {
   "cell_type": "code",
   "execution_count": 15,
   "metadata": {},
   "outputs": [
    {
     "data": {
      "text/plain": [
       "array([ 6.56161562e+04 +0.j        , -6.28217095e+01-84.69601622j,\n",
       "        8.95057086e+00 +3.66481635j, ...,  1.03818147e+02-17.72161489j,\n",
       "        8.95057086e+00 -3.66481635j, -6.28217095e+01+84.69601622j])"
      ]
     },
     "execution_count": 15,
     "metadata": {},
     "output_type": "execute_result"
    }
   ],
   "source": [
    "start_time = time()\n",
    "res=TRF(n4)\n",
    "elapsed_time = time() - start_time\n",
    "timeTRF[3]=elapsed_time\n",
    "res"
   ]
  },
  {
   "cell_type": "markdown",
   "metadata": {},
   "source": [
    "# Datos de tamaño 1048576"
   ]
  },
  {
   "cell_type": "code",
   "execution_count": 16,
   "metadata": {},
   "outputs": [
    {
     "data": {
      "text/plain": [
       "array([0.51639863, 0.57066759, 0.02847423, ..., 0.52487663, 0.12915968,\n",
       "       0.56005158])"
      ]
     },
     "execution_count": 16,
     "metadata": {},
     "output_type": "execute_result"
    }
   ],
   "source": [
    "np.random.seed(101) #THE SEED\n",
    "tam=1048576\n",
    "n5=np.random.random(tam)\n",
    "n5"
   ]
  },
  {
   "cell_type": "markdown",
   "metadata": {},
   "source": [
    "**Transformada Discreta de Fourier TDF**"
   ]
  },
  {
   "cell_type": "code",
   "execution_count": null,
   "metadata": {},
   "outputs": [],
   "source": [
    "start_time = time()\n",
    "res=TDF(n5)\n",
    "elapsed_time = time() - start_time\n",
    "timeTDF[4]=elapsed_time\n",
    "res"
   ]
  },
  {
   "cell_type": "markdown",
   "metadata": {},
   "source": [
    "**Transformada Rápida de Fourier TRF**"
   ]
  },
  {
   "cell_type": "code",
   "execution_count": 17,
   "metadata": {},
   "outputs": [
    {
     "data": {
      "text/plain": [
       "array([5.23801231e+05  +0.j       , 1.19926029e+02+208.1213056j,\n",
       "       1.58683960e+01 -67.4189624j, ..., 2.10942190e+02+126.7034531j,\n",
       "       1.58683960e+01 +67.4189624j, 1.19926029e+02-208.1213056j])"
      ]
     },
     "execution_count": 17,
     "metadata": {},
     "output_type": "execute_result"
    }
   ],
   "source": [
    "start_time = time()\n",
    "res=TRF(n5)\n",
    "elapsed_time = time() - start_time\n",
    "timeTRF[4]=elapsed_time\n",
    "res"
   ]
  },
  {
   "cell_type": "markdown",
   "metadata": {},
   "source": [
    "# Gráficas\n",
    "**La gráfica con los diferentes tiempos se encuentra a continuación**"
   ]
  },
  {
   "cell_type": "markdown",
   "metadata": {},
   "source": [
    "**NOTA: La TDF para números de 131072 y 1048576 dígitos no terminaba pasadas más de 5 horas y 10 horas respectivamente, dejando más tiempo al segundo caso por la cantidad de digitos, sin embargo, ninguno de los dos terminaba, es por ello que se detuvieron**</br></br>\n",
    "**Si se desea obtener los tiempos reales eliminar la siguiente celda y correr las celdas que tienen la ejecución del TDF para 131072 y 1048576 datos**"
   ]
  },
  {
   "cell_type": "code",
   "execution_count": 20,
   "metadata": {},
   "outputs": [],
   "source": [
    "timeTDF[3]=18000\n",
    "timeTDF[4]=36000"
   ]
  },
  {
   "cell_type": "code",
   "execution_count": 25,
   "metadata": {},
   "outputs": [
    {
     "name": "stdout",
     "output_type": "stream",
     "text": [
      "Método:\t\t128 datos\t1024 datos\t16384 datos\t\t131072 datos\t\t1048576 datos\n",
      "TDF\t\t0.0498948097 \t3.0478456020 \t812.2886672020 \t\t18000.0000000000 \t36000.0000000000 \n",
      "Karatsuba\t0.0019943714 \t0.0089755058 \t0.1237001419 \t\t0.9973809719 \t\t8.9831764698\n"
     ]
    }
   ],
   "source": [
    "print(\"Método:\\t\\t128 datos\\t1024 datos\\t16384 datos\\t\\t131072 datos\\t\\t1048576 datos\\nTDF\\t\\t%.10f\" %timeTDF[0], \"\\t%.10f\" %timeTDF[1], \"\\t%.10f\" %timeTDF[2], \"\\t\\t%.10f\" %timeTDF[3], \"\\t%.10f\" %timeTDF[4], \"\\nKaratsuba\\t%.10f\" %timeTRF[0], \"\\t%.10f\" %timeTRF[1], \"\\t%.10f\" %timeTRF[2], \"\\t\\t%.10f\" %timeTRF[3], \"\\t\\t%.10f\" %timeTRF[4])"
   ]
  },
  {
   "cell_type": "code",
   "execution_count": 26,
   "metadata": {},
   "outputs": [
    {
     "data": {
      "image/png": "[encoded data removed]",
      "text/plain": [
       "<Figure size 432x288 with 1 Axes>"
      ]
     },
     "metadata": {
      "needs_background": "light"
     },
     "output_type": "display_data"
    }
   ],
   "source": [
    "n=[128,1024,16384,131072,1048576]\n",
    "plt.plot(n,timeTDF,label=\"TDF\")\n",
    "plt.plot(n,timeTRF,label=\"TRF\")\n",
    "\n",
    "plt.xlabel('Tamaño de datos')\n",
    "plt.ylabel('Tiempo (s)')\n",
    "\n",
    "plt.title(\"Transformada de Fourier\")\n",
    "\n",
    "plt.legend()\n",
    "\n",
    "plt.show()"
   ]
  },
  {
   "cell_type": "markdown",
   "metadata": {},
   "source": [
    "# Conclusiones"
   ]
  },
  {
   "cell_type": "markdown",
   "metadata": {},
   "source": [
    "Gracias al desarrollo de esta práctica se logró identificar en primera instancia lo que es la Transformada de Fourier y varias de las aplicacione que puede llegar a tener dentro del manejo de señales, esto adquiere especial importancia cuando se está hablando de telecomunicaciones, pues permite transmitir por el aire señales a través de ondas electromagnéticas con diferentes frecuencias, de esta forma es que se hace uso de todo el campo con el que se cuenta, además permite poder limpiar el ruido que se pueda presentar al momento de transmitir una señal, he aquí la relevancia de poder manejarla y de dichos datos parte la importancia de desarrollar un algoritmo que permita obtenerla de manera rápida.\n",
    "\n",
    "Se desarrollaron dos métodos en la presente práctica, el primero de ellos es la Transformada Discreta de Fourier, el cual, como su nombre lo indica permite realizar esta operación en términos de datos discretos, dicho algoritmo es el más general y funciona de una manera correcta cuando la cantidad de datos es pequeña, pero en cuanto esta comienza a aumentar se tiene que el tiempo aumenta drásticamente, y esto se debe a que se genera una complejidad O(n^2), es por ello que a pesar de cumplir con su propósito no es tan útil.\n",
    "\n",
    "Aplicancdo ciertos conceptos relativos a la Transformada de Fourier como lo son la simetría y la periodicidad, se puede llegar a un algoritmo más eficiente llamado Transformada Rápida de Fourier (TRF), este hace uso de la técnica \"Divide y vencerás\", ya que para obtener la TRF de un conjunto de datos se dividen estos en pares e impares y se obtiene la TRF de cada uno de ellos, y una vez que se tienen la TRF de los impares se multiplica por un factor determinado por el k que se este calculando, y como cada una de las TRF a calcular (pares e impares) tiene una señal de entrada esta se puede dividir de la misma forma hasta llegar al caso base en el cual es fácil el cálculo de la TRF, al hacer esto se reduce la complejidad a O(n*log2(n)) y también lo hace el tiempo requerido para la ejecución.\n",
    "\n",
    "Al implementar ambos algoritmos y realizar las pruebas correspondientes se verificó que el método de la Transformada Rápida de Fourier es más veloz, es por ello, que  a manera de conclusión cabe destacar en primera instancia que existen ciertas \"operaciones\" o métodos que adquieren una gran relevancia por la cantidad de aplicaciones que puedan llegar a tener, y al momento de computar los algoritmos correspondientes se tiene que verificar que se haga de la mejor manera, ya que por ejemplo, en este caso al hacer uso de algunas propiedades de la operación se logró reducir la complejidad que se tenía, es por ello, que analizar los problemas y buscar resolverlos mediante técnicas como pueden ser \"Divide y vencerás\" es conveniente y puede ser de gran utilidad."
   ]
  }
 ],
 "metadata": {
  "kernelspec": {
   "display_name": "Python 3",
   "language": "python",
   "name": "python3"
  },
  "language_info": {
   "codemirror_mode": {
    "name": "ipython",
    "version": 3
   },
   "file_extension": ".py",
   "mimetype": "text/x-python",
   "name": "python",
   "nbconvert_exporter": "python",
   "pygments_lexer": "ipython3",
   "version": "3.7.3"
  }
 },
 "nbformat": 4,
 "nbformat_minor": 4
}
